{
 "cells": [
  {
   "cell_type": "markdown",
   "metadata": {},
   "source": [
    "# Recuperar informações da Wikipedia"
   ]
  },
  {
   "cell_type": "code",
   "execution_count": null,
   "metadata": {
    "collapsed": true
   },
   "outputs": [],
   "source": [
    "import requests"
   ]
  },
  {
   "cell_type": "code",
   "execution_count": null,
   "metadata": {
    "collapsed": true
   },
   "outputs": [],
   "source": [
    "req = requests.get(\"https://pt.wikipedia.org/wiki/Unidades_federativas_do_Brasil\")"
   ]
  },
  {
   "cell_type": "code",
   "execution_count": null,
   "metadata": {
    "collapsed": true
   },
   "outputs": [],
   "source": [
    "from bs4 import BeautifulSoup"
   ]
  },
  {
   "cell_type": "code",
   "execution_count": null,
   "metadata": {
    "collapsed": true
   },
   "outputs": [],
   "source": [
    "bs = BeautifulSoup(req.text, \"html.parser\")"
   ]
  },
  {
   "cell_type": "code",
   "execution_count": null,
   "metadata": {},
   "outputs": [],
   "source": [
    "print(bs.prettify())"
   ]
  },
  {
   "cell_type": "code",
   "execution_count": null,
   "metadata": {},
   "outputs": [],
   "source": [
    "print(bs.h1.string)"
   ]
  },
  {
   "cell_type": "code",
   "execution_count": null,
   "metadata": {},
   "outputs": [],
   "source": [
    "bs.h1"
   ]
  },
  {
   "cell_type": "markdown",
   "metadata": {
    "collapsed": true
   },
   "source": [
    "## Recuperar todos os links disponíveis nessa página"
   ]
  },
  {
   "cell_type": "code",
   "execution_count": null,
   "metadata": {},
   "outputs": [],
   "source": [
    "bs.a"
   ]
  },
  {
   "cell_type": "markdown",
   "metadata": {},
   "source": [
    "Note que apenas um único link foi retornado. Para retornar todos precisamos utilizar um método chamado ```findall()```."
   ]
  },
  {
   "cell_type": "code",
   "execution_count": null,
   "metadata": {},
   "outputs": [],
   "source": [
    "links = bs.findAll('a')\n",
    "print(links)"
   ]
  },
  {
   "cell_type": "code",
   "execution_count": null,
   "metadata": {},
   "outputs": [],
   "source": [
    "print(type(links))"
   ]
  },
  {
   "cell_type": "markdown",
   "metadata": {},
   "source": [
    "Note que além dos links, tem outras informações."
   ]
  },
  {
   "cell_type": "code",
   "execution_count": null,
   "metadata": {},
   "outputs": [],
   "source": [
    "links[3]"
   ]
  },
  {
   "cell_type": "markdown",
   "metadata": {},
   "source": [
    "Para imprimir/salvar apenas os links, precisamos iterar na lista que foi criada para pegar apenas o conteúdo do href."
   ]
  },
  {
   "cell_type": "code",
   "execution_count": null,
   "metadata": {},
   "outputs": [],
   "source": [
    "for link in links:\n",
    "    print(link.get(\"href\"))"
   ]
  },
  {
   "cell_type": "markdown",
   "metadata": {},
   "source": [
    "É importante verificar que estamos trazendo todos os links (internos e externos) com essa abordagem."
   ]
  },
  {
   "cell_type": "markdown",
   "metadata": {},
   "source": [
    "## Recuperar uma tabela\n",
    "\n",
    "Como vimos, iremos recuperar a tabela que está disponível na página, que lista todos os estados do Brasil, adicionando outras informações, como a abreviação, capital, area, população, mortalidade infantil, entre outras.\n",
    "\n",
    "Existem duas formas de recuperarmos a tabela correta. A primeira, seria recuperar todas as tabelas disponível, iterar em cada uma delas e verificar a classe que ela pertecem.\n",
    "\n",
    "A outra forma, é mais rápida e simples. No navegador Chrome, abrar a página em questão, clique com o Botão Direito em cima da tabela que deseja recuperar e depois clique em Inspecionar (Ctrl + Shift + I) e copie o nome da classe.\n",
    "\n",
    "```\n",
    "<table class=\"wikitable sortable jquery-tablesorter\" style=\"text-align:center; font-size:85%\">\n",
    "```\n",
    "\n",
    "Iremos utilizar ```wikitable sortable jquery-tablesorter``` para recuperar somente essa tabela."
   ]
  },
  {
   "cell_type": "code",
   "execution_count": null,
   "metadata": {
    "collapsed": true
   },
   "outputs": [],
   "source": [
    "tabela = bs.findAll('table', \n",
    "                 class_='wikitable sortable')"
   ]
  },
  {
   "cell_type": "code",
   "execution_count": null,
   "metadata": {
    "collapsed": true
   },
   "outputs": [],
   "source": [
    "#print(len(tabela))\n",
    "#tabela"
   ]
  },
  {
   "cell_type": "markdown",
   "metadata": {},
   "source": [
    "Ótimo! Já temos a tabela recuperada.\n",
    "\n",
    "O que iremos fazer agora é extrair as informações e adicionar em um DataFrame. Para isso precisamos iterar em cada linha (tr) e então atribuir cada elemento de tr (td) à uma variável e então adicionar a uma lista."
   ]
  },
  {
   "cell_type": "code",
   "execution_count": null,
   "metadata": {
    "collapsed": true
   },
   "outputs": [],
   "source": [
    "colunas = []\n",
    "cabecalho = tabela[0].findAll('tr')[0].findAll('th')\n",
    "for item in cabecalho:\n",
    "    if not item.find('a'):\n",
    "        colunas.append(item.string)\n",
    "    else:\n",
    "        colunas.append(item.a.string)"
   ]
  },
  {
   "cell_type": "code",
   "execution_count": null,
   "metadata": {
    "collapsed": true
   },
   "outputs": [],
   "source": [
    "colunas[colunas.index('2005')]='Densidade'"
   ]
  },
  {
   "cell_type": "code",
   "execution_count": null,
   "metadata": {},
   "outputs": [],
   "source": [
    "colunas[colunas.index('2003')]='Alfabetização'\n",
    "colunas[colunas.index('2010')]='Expectativa de vida'\n",
    "colunas"
   ]
  },
  {
   "cell_type": "code",
   "execution_count": null,
   "metadata": {
    "collapsed": true
   },
   "outputs": [],
   "source": [
    "linha = tabela[0].findAll('tr')[1].findAll('td')"
   ]
  },
  {
   "cell_type": "code",
   "execution_count": null,
   "metadata": {},
   "outputs": [],
   "source": [
    "linha[0].find('a').get('href')"
   ]
  },
  {
   "cell_type": "code",
   "execution_count": null,
   "metadata": {},
   "outputs": [],
   "source": [
    "linha[13].find(text=True)"
   ]
  },
  {
   "cell_type": "code",
   "execution_count": null,
   "metadata": {
    "collapsed": true
   },
   "outputs": [],
   "source": [
    "dados = {\n",
    "    'A' : [],\n",
    "    'B' : [],\n",
    "    'C' : [],\n",
    "    'D' : [],\n",
    "    'E' : [],\n",
    "    'F' : [],\n",
    "    'G' : [],\n",
    "    'H' : [],\n",
    "    'I' : [],\n",
    "    'J' : [],\n",
    "    'K' : [],\n",
    "    'L' : [],\n",
    "    'M' : [],\n",
    "    'N' : []\n",
    "}"
   ]
  },
  {
   "cell_type": "code",
   "execution_count": null,
   "metadata": {
    "collapsed": true
   },
   "outputs": [],
   "source": [
    "linhas = tabela[0].findAll('tr')\n",
    "for l in range(1, len(linhas)):\n",
    "    linha = tabela[0].findAll('tr')[l].findAll('td')\n",
    "    dados['A'].append(linha[0].find('a').get('href'))\n",
    "    dados['B'].append(linha[1].find(text=True))\n",
    "    dados['C'].append(linha[2].find(text=True))\n",
    "    dados['D'].append(linha[3].find(text=True))\n",
    "    dados['E'].append(linha[4].find(text=True))\n",
    "    dados['F'].append(linha[5].find(text=True))\n",
    "    dados['G'].append(linha[6].find(text=True))\n",
    "    dados['H'].append(linha[7].find(text=True))\n",
    "    dados['I'].append(linha[8].find(text=True))\n",
    "    dados['J'].append(linha[9].find(text=True))\n",
    "    dados['K'].append(linha[10].find(text=True))\n",
    "    dados['L'].append(linha[11].find(text=True))\n",
    "    dados['M'].append(linha[12].find(text=True))\n",
    "    dados['N'].append(linha[13].find(text=True))"
   ]
  },
  {
   "cell_type": "code",
   "execution_count": null,
   "metadata": {},
   "outputs": [],
   "source": [
    "len(dados['L'])"
   ]
  },
  {
   "cell_type": "code",
   "execution_count": null,
   "metadata": {},
   "outputs": [],
   "source": [
    "print(dados)"
   ]
  },
  {
   "cell_type": "markdown",
   "metadata": {},
   "source": [
    "Agora, basta criar o DataFrame"
   ]
  },
  {
   "cell_type": "code",
   "execution_count": null,
   "metadata": {
    "collapsed": true
   },
   "outputs": [],
   "source": [
    "import pandas as pd"
   ]
  },
  {
   "cell_type": "code",
   "execution_count": null,
   "metadata": {},
   "outputs": [],
   "source": [
    "df = pd.DataFrame(columns=colunas)\n",
    "df"
   ]
  },
  {
   "cell_type": "code",
   "execution_count": null,
   "metadata": {},
   "outputs": [],
   "source": [
    "lista = list(dados.keys())\n",
    "lista.sort()\n",
    "print(lista)"
   ]
  },
  {
   "cell_type": "code",
   "execution_count": null,
   "metadata": {
    "collapsed": true
   },
   "outputs": [],
   "source": [
    "for i in range(0, len(colunas)):\n",
    "    df[colunas[i]] = dados[lista[i]]"
   ]
  },
  {
   "cell_type": "code",
   "execution_count": null,
   "metadata": {},
   "outputs": [],
   "source": [
    "df.head()"
   ]
  },
  {
   "cell_type": "code",
   "execution_count": null,
   "metadata": {
    "collapsed": true
   },
   "outputs": [],
   "source": [
    "df_final = df.drop('Bandeira', axis=1)"
   ]
  },
  {
   "cell_type": "code",
   "execution_count": null,
   "metadata": {},
   "outputs": [],
   "source": [
    "df_final"
   ]
  },
  {
   "cell_type": "markdown",
   "metadata": {},
   "source": [
    "### Realizando ajustes e conversões de tipos\n",
    "Antes de converter para float ou int, precisamos renomear algumas colunas para facilitar o acesso.\n",
    "\n",
    "Primeiro criamos uma lista com os nomes alterados:"
   ]
  },
  {
   "cell_type": "code",
   "execution_count": null,
   "metadata": {},
   "outputs": [],
   "source": [
    "colunas_final = []\n",
    "for col in df_final.columns:\n",
    "    col = col.title()\n",
    "    for c in ['(', ')', ' ', '%']:\n",
    "        if c == '%':\n",
    "            col = col.replace(c, 'Percentual')\n",
    "        else:\n",
    "            col = col.replace(c, '')\n",
    "    colunas_final.append(col)\n",
    "print(colunas_final)"
   ]
  },
  {
   "cell_type": "markdown",
   "metadata": {},
   "source": [
    "É necessário alterar os nomes das colunas no ```df_final```."
   ]
  },
  {
   "cell_type": "code",
   "execution_count": null,
   "metadata": {
    "collapsed": true
   },
   "outputs": [],
   "source": [
    "for i in range(0, len(df_final.columns)):\n",
    "    df_final.rename(columns={\n",
    "        df_final.columns[i] : colunas_final[i]\n",
    "    }, inplace=True)"
   ]
  },
  {
   "cell_type": "code",
   "execution_count": null,
   "metadata": {
    "collapsed": true
   },
   "outputs": [],
   "source": [
    "df_final.rename(columns={\n",
    "        'Alfabetização' : 'AlfabetizaçãoPercentual',\n",
    "        'MortalidadeInfantil' : 'MortalidadeInfantilPercentual'\n",
    "    }, inplace=True)"
   ]
  },
  {
   "cell_type": "markdown",
   "metadata": {},
   "source": [
    "Também será necessário criar duas listas auxiliares com o nome das colunas que iremos converter para float e int."
   ]
  },
  {
   "cell_type": "code",
   "execution_count": null,
   "metadata": {
    "collapsed": true
   },
   "outputs": [],
   "source": [
    "colunas_float = ['Área', 'Densidade', 'PercentualTotal', 'Idh', \n",
    "                 'MortalidadeInfantilPercentual', 'ExpectativaDeVida']\n",
    "\n",
    "colunas_int = ['População', 'Pib', 'PibPerCapita', 'AlfabetizaçãoPercentual']"
   ]
  },
  {
   "cell_type": "markdown",
   "metadata": {},
   "source": [
    "Realizando uma copia do df_final para tratamento."
   ]
  },
  {
   "cell_type": "code",
   "execution_count": null,
   "metadata": {
    "collapsed": true
   },
   "outputs": [],
   "source": [
    "df_aux = df_final.copy()"
   ]
  },
  {
   "cell_type": "markdown",
   "metadata": {},
   "source": [
    "Funções auxiliares para remover espaços e converter a pontuação."
   ]
  },
  {
   "cell_type": "code",
   "execution_count": null,
   "metadata": {
    "collapsed": true
   },
   "outputs": [],
   "source": [
    "def remover_espacos(string):\n",
    "    string = string.replace(u'%', '')\n",
    "    string = string.replace(u'‰', '')\n",
    "    return string.replace(u'\\xa0', '')"
   ]
  },
  {
   "cell_type": "code",
   "execution_count": null,
   "metadata": {
    "collapsed": true
   },
   "outputs": [],
   "source": [
    "def converter_pontuacao(string):\n",
    "    return string.replace(u',', '.')"
   ]
  },
  {
   "cell_type": "markdown",
   "metadata": {},
   "source": [
    "Aplicando as funções criadas em cada uma das colunas definidas na variável ```colunas_float```."
   ]
  },
  {
   "cell_type": "code",
   "execution_count": null,
   "metadata": {},
   "outputs": [],
   "source": [
    "aux_float = df_final[colunas_float].applymap(remover_espacos)\n",
    "aux_float = aux_float[colunas_float].applymap(converter_pontuacao)\n",
    "aux_float[:5]"
   ]
  },
  {
   "cell_type": "markdown",
   "metadata": {},
   "source": [
    "Aplicando as funções criadas em cada uma das colunas definidas na variável ```colunas_int```."
   ]
  },
  {
   "cell_type": "code",
   "execution_count": null,
   "metadata": {},
   "outputs": [],
   "source": [
    "aux_int = df_final[colunas_int].applymap(remover_espacos)\n",
    "aux_int = aux_int[colunas_int].applymap(converter_pontuacao)\n",
    "aux_int[:5]"
   ]
  },
  {
   "cell_type": "markdown",
   "metadata": {},
   "source": [
    "Criar função para converter o tipo da coluna."
   ]
  },
  {
   "cell_type": "code",
   "execution_count": null,
   "metadata": {
    "collapsed": true
   },
   "outputs": [],
   "source": [
    "def converter_tipo(df, colunas, tipo):\n",
    "    return df[list(colunas)].astype(tipo)"
   ]
  },
  {
   "cell_type": "markdown",
   "metadata": {},
   "source": [
    "Realizando a conversão de tipo para int e float para as respectivas colunas."
   ]
  },
  {
   "cell_type": "code",
   "execution_count": null,
   "metadata": {
    "collapsed": true
   },
   "outputs": [],
   "source": [
    "df_int = converter_tipo(aux_int, aux_int.columns, int)\n",
    "df_float = converter_tipo(aux_float, aux_float.columns, float)"
   ]
  },
  {
   "cell_type": "markdown",
   "metadata": {},
   "source": [
    "Aplicando os valores convertidos no DataFrame final."
   ]
  },
  {
   "cell_type": "code",
   "execution_count": null,
   "metadata": {
    "collapsed": true
   },
   "outputs": [],
   "source": [
    "#float\n",
    "df_final['Área'] = df_float['Área']\n",
    "df_final['Densidade'] = df_float['Densidade']\n",
    "df_final['PercentualTotal'] = df_float['PercentualTotal']\n",
    "df_final['Idh'] = df_float['Idh']\n",
    "df_final['MortalidadeInfantilPercentual'] = df_float['MortalidadeInfantilPercentual']\n",
    "df_final['ExpectativaDeVida'] = df_float['ExpectativaDeVida']\n",
    "# Int\n",
    "df_final['População'] = df_int['População']\n",
    "df_final['Pib'] = df_int['Pib']\n",
    "df_final['PibPerCapita'] = df_int['PibPerCapita']\n",
    "df_final['AlfabetizaçãoPercentual'] = df_int['AlfabetizaçãoPercentual']"
   ]
  },
  {
   "cell_type": "code",
   "execution_count": null,
   "metadata": {},
   "outputs": [],
   "source": [
    "df_final"
   ]
  },
  {
   "cell_type": "code",
   "execution_count": null,
   "metadata": {
    "collapsed": true
   },
   "outputs": [],
   "source": []
  }
 ],
 "metadata": {
  "kernelspec": {
   "display_name": "Python 3",
   "language": "python",
   "name": "python3"
  },
  "language_info": {
   "codemirror_mode": {
    "name": "ipython",
    "version": 3
   },
   "file_extension": ".py",
   "mimetype": "text/x-python",
   "name": "python",
   "nbconvert_exporter": "python",
   "pygments_lexer": "ipython3",
   "version": "3.6.2"
  }
 },
 "nbformat": 4,
 "nbformat_minor": 1
}
