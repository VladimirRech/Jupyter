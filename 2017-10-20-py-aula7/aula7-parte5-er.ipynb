{
 "cells": [
  {
   "cell_type": "markdown",
   "metadata": {},
   "source": [
    "# Expressão Regular"
   ]
  },
  {
   "cell_type": "markdown",
   "metadata": {},
   "source": [
    "## Pesquisando"
   ]
  },
  {
   "cell_type": "code",
   "execution_count": 1,
   "metadata": {},
   "outputs": [],
   "source": [
    "import re"
   ]
  },
  {
   "cell_type": "code",
   "execution_count": 2,
   "metadata": {},
   "outputs": [],
   "source": [
    "texto = 'um exemplo palavra:python!!'"
   ]
  },
  {
   "cell_type": "code",
   "execution_count": 3,
   "metadata": {},
   "outputs": [],
   "source": [
    "match = re.search('python', texto)"
   ]
  },
  {
   "cell_type": "code",
   "execution_count": 4,
   "metadata": {},
   "outputs": [
    {
     "name": "stdout",
     "output_type": "stream",
     "text": [
      "<_sre.SRE_Match object; span=(19, 25), match='python'>\n"
     ]
    }
   ],
   "source": [
    "print(match)"
   ]
  },
  {
   "cell_type": "code",
   "execution_count": 5,
   "metadata": {},
   "outputs": [
    {
     "name": "stdout",
     "output_type": "stream",
     "text": [
      "encontrou: python\n"
     ]
    }
   ],
   "source": [
    "if match:\n",
    "    print('encontrou: ' + match.group())\n",
    "else:\n",
    "    print('não encontrou')"
   ]
  },
  {
   "cell_type": "markdown",
   "metadata": {},
   "source": [
    "## Também podemos utilizar a flag IGNORECASE"
   ]
  },
  {
   "cell_type": "code",
   "execution_count": 6,
   "metadata": {},
   "outputs": [],
   "source": [
    "texto = \"GGATCGGAGCGGATGCC\""
   ]
  },
  {
   "cell_type": "code",
   "execution_count": 7,
   "metadata": {},
   "outputs": [],
   "source": [
    "match = re.search(r'a[tg]c', texto, re.IGNORECASE)"
   ]
  },
  {
   "cell_type": "code",
   "execution_count": 8,
   "metadata": {},
   "outputs": [
    {
     "name": "stdout",
     "output_type": "stream",
     "text": [
      "encontrou: ATC\n"
     ]
    }
   ],
   "source": [
    "if match:\n",
    "    print('encontrou: ' + match.group())\n",
    "else:\n",
    "    print('não encontrou')"
   ]
  },
  {
   "cell_type": "code",
   "execution_count": 9,
   "metadata": {},
   "outputs": [
    {
     "data": {
      "text/plain": [
       "<_sre.SRE_Match object; span=(2, 5), match='ATC'>"
      ]
     },
     "execution_count": 9,
     "metadata": {},
     "output_type": "execute_result"
    }
   ],
   "source": [
    "match"
   ]
  },
  {
   "cell_type": "markdown",
   "metadata": {},
   "source": [
    "## Extraindo partes de um ER"
   ]
  },
  {
   "cell_type": "code",
   "execution_count": 10,
   "metadata": {},
   "outputs": [],
   "source": [
    "texto = 'teste-teste@gmail-teste.com'"
   ]
  },
  {
   "cell_type": "code",
   "execution_count": 11,
   "metadata": {},
   "outputs": [],
   "source": [
    "match = re.search(r'([\\w.-]+)@([\\w.-]+)', texto)"
   ]
  },
  {
   "cell_type": "code",
   "execution_count": 12,
   "metadata": {},
   "outputs": [
    {
     "name": "stdout",
     "output_type": "stream",
     "text": [
      "email: teste-teste@gmail-teste.com\n",
      "login: teste-teste\n",
      "dominio: gmail-teste.com\n"
     ]
    }
   ],
   "source": [
    "if match:\n",
    "    print('email:', match.group())\n",
    "    print('login:', match.group(1))\n",
    "    print('dominio:', match.group(2))\n",
    "else:\n",
    "    print('não encontrou')"
   ]
  },
  {
   "cell_type": "markdown",
   "metadata": {},
   "source": [
    "### Encontrando todas as ocorrências\n",
    "\n",
    "Para encontrar todas as ocorrências podemos utilizar o método ```re.findall()```, que irá salvar todas as ocorrências em uma lista, onde cada posição representa uma ocorrência."
   ]
  },
  {
   "cell_type": "code",
   "execution_count": 13,
   "metadata": {},
   "outputs": [],
   "source": [
    "texto = 'teste teste@gmail.com teste123 teste-123@gmail.com, python 123@123.com'"
   ]
  },
  {
   "cell_type": "code",
   "execution_count": 14,
   "metadata": {},
   "outputs": [],
   "source": [
    "emails = re.findall(r'[\\w.-]+@[\\w.-]+', texto)"
   ]
  },
  {
   "cell_type": "code",
   "execution_count": 15,
   "metadata": {},
   "outputs": [
    {
     "name": "stdout",
     "output_type": "stream",
     "text": [
      "teste@gmail.com\n",
      "teste-123@gmail.com\n",
      "123@123.com\n"
     ]
    }
   ],
   "source": [
    "for email in emails:\n",
    "    print(email)"
   ]
  },
  {
   "cell_type": "markdown",
   "metadata": {},
   "source": [
    "## Exercícios\n",
    "\n",
    "### Exercício 1\n",
    "\n",
    "Encontre todos os e-mails do arquivo emails.txt. Utilize a função ```findall()``` e imprima cada um dos e-mails."
   ]
  },
  {
   "cell_type": "code",
   "execution_count": 16,
   "metadata": {},
   "outputs": [],
   "source": [
    "arquivo = open('er-emails.txt', 'r')"
   ]
  },
  {
   "cell_type": "code",
   "execution_count": 20,
   "metadata": {},
   "outputs": [],
   "source": [
    "arq = []\n",
    "# Seu código aqui\n",
    "texto = arquivo.read()\n",
    "\n",
    "emails = re.findall(r'[\\w.-]+@[\\w.-]+', texto)"
   ]
  },
  {
   "cell_type": "code",
   "execution_count": 21,
   "metadata": {},
   "outputs": [
    {
     "name": "stdout",
     "output_type": "stream",
     "text": [
      "['sender3@teste.com', 'sender4@teste.com', 'sender5@tes123te.com', 'sender6@tes123te.com', 'sender7@tes123te.com', 'send-er8@tes123te.com', 'sender9@tes123te.com', 'sender0@tes123te.com', 'sender11@tes123te.com', 'sender22@tes123te.com', 'sende-r33@tes123te.com', 'sender44@tes123te.com', 'sender55@tes123te.com', 'sender66@tes123te.com', 'sender77@tes123te.com', 'sender88@te-s123te.com', 'sender99@te-s123te.com', 'sender123@t-es123te.com', 'sender321@te-ste.com', 'sender456@t-este.com', 'sender455@t-este.com', 'send-er678@t-este.com', 'sender987@te-ste.com', 'sender634@tes-te.com', 'sender098@te-ste.com', 'sender23@tes-te.com', 'sender23@tes-te.com', 'sender@teste-.com', 'sender634@te-ste.com', 'sender098@te-ste.com', 'sender23@test-e.com', 'send-er23@teste.com', 'sender@teste.com', 'sender634@teste.com', 'sender098@teste.com', 'sender23@teste.com', 'send-er23@teste.com', 'sender@teste.com']\n"
     ]
    }
   ],
   "source": [
    "print(emails)"
   ]
  },
  {
   "cell_type": "code",
   "execution_count": 22,
   "metadata": {},
   "outputs": [
    {
     "data": {
      "text/plain": [
       "{'send-er23@teste.com',\n",
       " 'send-er678@t-este.com',\n",
       " 'send-er8@tes123te.com',\n",
       " 'sende-r33@tes123te.com',\n",
       " 'sender098@te-ste.com',\n",
       " 'sender098@teste.com',\n",
       " 'sender0@tes123te.com',\n",
       " 'sender11@tes123te.com',\n",
       " 'sender123@t-es123te.com',\n",
       " 'sender22@tes123te.com',\n",
       " 'sender23@tes-te.com',\n",
       " 'sender23@test-e.com',\n",
       " 'sender23@teste.com',\n",
       " 'sender321@te-ste.com',\n",
       " 'sender3@teste.com',\n",
       " 'sender44@tes123te.com',\n",
       " 'sender455@t-este.com',\n",
       " 'sender456@t-este.com',\n",
       " 'sender4@teste.com',\n",
       " 'sender55@tes123te.com',\n",
       " 'sender5@tes123te.com',\n",
       " 'sender634@te-ste.com',\n",
       " 'sender634@tes-te.com',\n",
       " 'sender634@teste.com',\n",
       " 'sender66@tes123te.com',\n",
       " 'sender6@tes123te.com',\n",
       " 'sender77@tes123te.com',\n",
       " 'sender7@tes123te.com',\n",
       " 'sender88@te-s123te.com',\n",
       " 'sender987@te-ste.com',\n",
       " 'sender99@te-s123te.com',\n",
       " 'sender9@tes123te.com',\n",
       " 'sender@teste-.com',\n",
       " 'sender@teste.com'}"
      ]
     },
     "execution_count": 22,
     "metadata": {},
     "output_type": "execute_result"
    }
   ],
   "source": [
    "set(emails)"
   ]
  },
  {
   "cell_type": "code",
   "execution_count": null,
   "metadata": {
    "collapsed": true
   },
   "outputs": [],
   "source": []
  },
  {
   "cell_type": "markdown",
   "metadata": {},
   "source": [
    "### Exercício 2\n",
    "\n",
    "Considere o arquivo er-dados.txt. Esse arquivo contêm diversas strings no formato:\n",
    "\n",
    "    Tue Feb 15 10:39:54 2028::xjkmxk@cltllsls.com\n",
    "\n",
    "1. Crie um expressão regular para encontrar todos os e-mails e salve-os em uma lista chamada emails = [].\n",
    "2. Crie um expressão regular para recuperar o login e o domínio de cada item salvo na lista emails. Salve cada item em uma lista logins = [] e domínios = []\n",
    "3. Crie um expressão regular para recuperar o ano, mês, dia, horário.\n",
    "4. Por fim, imprima os valores no seguinte formato:\n",
    "\n",
    "    1 - email@completo.com | login | dominio | dia/mês/ano | hora:minuto\n",
    "\n",
    "É importante pensar em como deve-se carregar o arquivo. Repare que o horário no arquivo considera os segundos e a impressão final não.\n"
   ]
  },
  {
   "cell_type": "code",
   "execution_count": 24,
   "metadata": {},
   "outputs": [
    {
     "data": {
      "text/plain": [
       "'Tue Oct 20 08:34:20 2020::nczq@cswezs.org\\nThu Dec 16 05:09:48 2021::gnnl@sqdgtsgsyuk.gov\\nWed Apr 23 05:30:20 1975::mbmecf@iegepivgrs.gov\\nSat Apr 25 06:13:03 2015::qjjmvpw@gxktxjvkijsg.gov\\nFri Aug 01 18:17:18 2003::llcnm@mliuoqkeuavj.net\\nThu Sep 11 12:47:20 1997::stmkrx@jtgyceuxqqv.com\\nTue Sep 09 05:22:31 2036::hkebpj@yovuawpaxzrz.net\\nFri Mar 29 23:00:13 1996::azqiqp@kqekkdaog.org\\nTue Feb 26 14:34:18 1974::uaid@btbdmlk.org\\nFri Feb 28 16:26:14 1986::owoejbc@bqpzndxp.gov\\nThu Apr 07 23:42:02 1983::obgeo@qioqwx.gov\\nTue Feb 15 10:39:54 2028::xjkmxk@cltllsls.com\\nFri Jan 18 02:00:16 2008::hoymbm@lzwofgfhv.com\\nMon Jul 02 10:36:13 2001::wwbyq@bmtmi.com\\nMon Oct 30 01:16:34 2017::wibd@fqkalowcok.gov\\nWed Jun 09 16:06:18 2004::kzdyn@rzuwzglodflg.edu\\nFri Aug 12 01:28:50 2016::qmxehx@unzgdpubvbxv.org\\nMon Jul 16 10:46:41 1984::heqcxlz@lgvaggfipgrm.gov\\nFri Dec 07 05:47:45 1979::nwcvbbk@sxkorwbz.edu\\nWed Jan 26 10:38:19 2022::xizyd@dfkgcnednvjx.edu\\nThu Jan 24 01:21:05 1985::gmnps@eqmrw.gov\\nTue Nov 30 02:38:10 2004::mvpez@efbaeqnrvy.edu\\nFri Nov 26 15:12:48 1971::ioifx@xustm.net\\n'"
      ]
     },
     "execution_count": 24,
     "metadata": {},
     "output_type": "execute_result"
    }
   ],
   "source": [
    "# Parte 1\n",
    "arquivo = open('er-dados.txt', 'r')\n",
    "texto = arquivo.read()\n"
   ]
  },
  {
   "cell_type": "code",
   "execution_count": null,
   "metadata": {
    "collapsed": true
   },
   "outputs": [],
   "source": [
    "# Parte 2\n"
   ]
  },
  {
   "cell_type": "code",
   "execution_count": null,
   "metadata": {},
   "outputs": [],
   "source": [
    "# Parte 3a - anos\n"
   ]
  },
  {
   "cell_type": "code",
   "execution_count": null,
   "metadata": {},
   "outputs": [],
   "source": [
    "# Parte 3b - meses\n"
   ]
  },
  {
   "cell_type": "code",
   "execution_count": null,
   "metadata": {},
   "outputs": [],
   "source": [
    "# Parte 3c - dias\n"
   ]
  },
  {
   "cell_type": "code",
   "execution_count": null,
   "metadata": {},
   "outputs": [],
   "source": [
    "# Parte 3d - horário\n"
   ]
  },
  {
   "cell_type": "code",
   "execution_count": null,
   "metadata": {
    "scrolled": true
   },
   "outputs": [],
   "source": []
  }
 ],
 "metadata": {
  "kernelspec": {
   "display_name": "Python 3",
   "language": "python",
   "name": "python3"
  },
  "language_info": {
   "codemirror_mode": {
    "name": "ipython",
    "version": 3
   },
   "file_extension": ".py",
   "mimetype": "text/x-python",
   "name": "python",
   "nbconvert_exporter": "python",
   "pygments_lexer": "ipython3",
   "version": "3.6.2"
  }
 },
 "nbformat": 4,
 "nbformat_minor": 1
}
