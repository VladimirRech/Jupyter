{
 "cells": [
  {
   "cell_type": "code",
   "execution_count": 6,
   "metadata": {},
   "outputs": [],
   "source": [
    "import tweepy"
   ]
  },
  {
   "cell_type": "code",
   "execution_count": 11,
   "metadata": {},
   "outputs": [],
   "source": [
    "consumer_key = 'DNp15L5hvYeTPh54bAYerSby4'\n",
    "consumer_secret = 'cNAOwTcUqFEhR2H11u863TYAz77gX6vXb7nMX4t6QzIgaYFUVy'\n",
    "access_token = '49735869-KWaOqIFUZrcPFPAuPEgxT6kMlhNjTw23IfR9Y865M'\n",
    "access_token_secret = 'EYDpYk30U7zmwFcYKRbISDqo4ntTgqrG96KxXL6a16xq1'"
   ]
  },
  {
   "cell_type": "code",
   "execution_count": 12,
   "metadata": {},
   "outputs": [],
   "source": [
    "autorizar = tweepy.OAuthHandler(consumer_key, consumer_secret)\n",
    "autorizar.set_access_token(access_token, access_token_secret)"
   ]
  },
  {
   "cell_type": "code",
   "execution_count": 13,
   "metadata": {},
   "outputs": [
    {
     "name": "stdout",
     "output_type": "stream",
     "text": [
      "<tweepy.api.API object at 0x107248cc0>\n"
     ]
    }
   ],
   "source": [
    "api = tweepy.API(autorizar)\n",
    "print(api)"
   ]
  },
  {
   "cell_type": "code",
   "execution_count": 15,
   "metadata": {},
   "outputs": [
    {
     "data": {
      "text/plain": [
       "Status(_api=<tweepy.api.API object at 0x107248cc0>, _json={'created_at': 'Thu Oct 12 00:19:52 +0000 2017', 'id': 918269954121715712, 'id_str': '918269954121715712', 'text': 'Minha primeira frase', 'truncated': False, 'entities': {'hashtags': [], 'symbols': [], 'user_mentions': [], 'urls': []}, 'source': '<a href=\"http://www.marcelferry.com.br\" rel=\"nofollow\">MBABigDataMarcelFerry</a>', 'in_reply_to_status_id': None, 'in_reply_to_status_id_str': None, 'in_reply_to_user_id': None, 'in_reply_to_user_id_str': None, 'in_reply_to_screen_name': None, 'user': {'id': 49735869, 'id_str': '49735869', 'name': 'Marcelo Ferreira', 'screen_name': 'marcelferry', 'location': 'Londrina', 'description': 'Programador, Pai, Marido e bombril.', 'url': 'http://t.co/L7nIdvuTHc', 'entities': {'url': {'urls': [{'url': 'http://t.co/L7nIdvuTHc', 'expanded_url': 'http://marcelo.mythe.com.br', 'display_url': 'marcelo.mythe.com.br', 'indices': [0, 22]}]}, 'description': {'urls': []}}, 'protected': False, 'followers_count': 87, 'friends_count': 216, 'listed_count': 1, 'created_at': 'Mon Jun 22 19:31:09 +0000 2009', 'favourites_count': 7, 'utc_offset': None, 'time_zone': None, 'geo_enabled': True, 'verified': False, 'statuses_count': 255, 'lang': 'pt', 'contributors_enabled': False, 'is_translator': False, 'is_translation_enabled': False, 'profile_background_color': 'C0DEED', 'profile_background_image_url': 'http://abs.twimg.com/images/themes/theme1/bg.png', 'profile_background_image_url_https': 'https://abs.twimg.com/images/themes/theme1/bg.png', 'profile_background_tile': False, 'profile_image_url': 'http://pbs.twimg.com/profile_images/1209496493/Rosto_normal.png', 'profile_image_url_https': 'https://pbs.twimg.com/profile_images/1209496493/Rosto_normal.png', 'profile_link_color': '1DA1F2', 'profile_sidebar_border_color': 'C0DEED', 'profile_sidebar_fill_color': 'DDEEF6', 'profile_text_color': '333333', 'profile_use_background_image': True, 'has_extended_profile': False, 'default_profile': True, 'default_profile_image': False, 'following': False, 'follow_request_sent': False, 'notifications': False, 'translator_type': 'none'}, 'geo': None, 'coordinates': None, 'place': None, 'contributors': None, 'is_quote_status': False, 'retweet_count': 0, 'favorite_count': 0, 'favorited': False, 'retweeted': False, 'lang': 'pt'}, created_at=datetime.datetime(2017, 10, 12, 0, 19, 52), id=918269954121715712, id_str='918269954121715712', text='Minha primeira frase', truncated=False, entities={'hashtags': [], 'symbols': [], 'user_mentions': [], 'urls': []}, source='MBABigDataMarcelFerry', source_url='http://www.marcelferry.com.br', in_reply_to_status_id=None, in_reply_to_status_id_str=None, in_reply_to_user_id=None, in_reply_to_user_id_str=None, in_reply_to_screen_name=None, author=User(_api=<tweepy.api.API object at 0x107248cc0>, _json={'id': 49735869, 'id_str': '49735869', 'name': 'Marcelo Ferreira', 'screen_name': 'marcelferry', 'location': 'Londrina', 'description': 'Programador, Pai, Marido e bombril.', 'url': 'http://t.co/L7nIdvuTHc', 'entities': {'url': {'urls': [{'url': 'http://t.co/L7nIdvuTHc', 'expanded_url': 'http://marcelo.mythe.com.br', 'display_url': 'marcelo.mythe.com.br', 'indices': [0, 22]}]}, 'description': {'urls': []}}, 'protected': False, 'followers_count': 87, 'friends_count': 216, 'listed_count': 1, 'created_at': 'Mon Jun 22 19:31:09 +0000 2009', 'favourites_count': 7, 'utc_offset': None, 'time_zone': None, 'geo_enabled': True, 'verified': False, 'statuses_count': 255, 'lang': 'pt', 'contributors_enabled': False, 'is_translator': False, 'is_translation_enabled': False, 'profile_background_color': 'C0DEED', 'profile_background_image_url': 'http://abs.twimg.com/images/themes/theme1/bg.png', 'profile_background_image_url_https': 'https://abs.twimg.com/images/themes/theme1/bg.png', 'profile_background_tile': False, 'profile_image_url': 'http://pbs.twimg.com/profile_images/1209496493/Rosto_normal.png', 'profile_image_url_https': 'https://pbs.twimg.com/profile_images/1209496493/Rosto_normal.png', 'profile_link_color': '1DA1F2', 'profile_sidebar_border_color': 'C0DEED', 'profile_sidebar_fill_color': 'DDEEF6', 'profile_text_color': '333333', 'profile_use_background_image': True, 'has_extended_profile': False, 'default_profile': True, 'default_profile_image': False, 'following': False, 'follow_request_sent': False, 'notifications': False, 'translator_type': 'none'}, id=49735869, id_str='49735869', name='Marcelo Ferreira', screen_name='marcelferry', location='Londrina', description='Programador, Pai, Marido e bombril.', url='http://t.co/L7nIdvuTHc', entities={'url': {'urls': [{'url': 'http://t.co/L7nIdvuTHc', 'expanded_url': 'http://marcelo.mythe.com.br', 'display_url': 'marcelo.mythe.com.br', 'indices': [0, 22]}]}, 'description': {'urls': []}}, protected=False, followers_count=87, friends_count=216, listed_count=1, created_at=datetime.datetime(2009, 6, 22, 19, 31, 9), favourites_count=7, utc_offset=None, time_zone=None, geo_enabled=True, verified=False, statuses_count=255, lang='pt', contributors_enabled=False, is_translator=False, is_translation_enabled=False, profile_background_color='C0DEED', profile_background_image_url='http://abs.twimg.com/images/themes/theme1/bg.png', profile_background_image_url_https='https://abs.twimg.com/images/themes/theme1/bg.png', profile_background_tile=False, profile_image_url='http://pbs.twimg.com/profile_images/1209496493/Rosto_normal.png', profile_image_url_https='https://pbs.twimg.com/profile_images/1209496493/Rosto_normal.png', profile_link_color='1DA1F2', profile_sidebar_border_color='C0DEED', profile_sidebar_fill_color='DDEEF6', profile_text_color='333333', profile_use_background_image=True, has_extended_profile=False, default_profile=True, default_profile_image=False, following=False, follow_request_sent=False, notifications=False, translator_type='none'), user=User(_api=<tweepy.api.API object at 0x107248cc0>, _json={'id': 49735869, 'id_str': '49735869', 'name': 'Marcelo Ferreira', 'screen_name': 'marcelferry', 'location': 'Londrina', 'description': 'Programador, Pai, Marido e bombril.', 'url': 'http://t.co/L7nIdvuTHc', 'entities': {'url': {'urls': [{'url': 'http://t.co/L7nIdvuTHc', 'expanded_url': 'http://marcelo.mythe.com.br', 'display_url': 'marcelo.mythe.com.br', 'indices': [0, 22]}]}, 'description': {'urls': []}}, 'protected': False, 'followers_count': 87, 'friends_count': 216, 'listed_count': 1, 'created_at': 'Mon Jun 22 19:31:09 +0000 2009', 'favourites_count': 7, 'utc_offset': None, 'time_zone': None, 'geo_enabled': True, 'verified': False, 'statuses_count': 255, 'lang': 'pt', 'contributors_enabled': False, 'is_translator': False, 'is_translation_enabled': False, 'profile_background_color': 'C0DEED', 'profile_background_image_url': 'http://abs.twimg.com/images/themes/theme1/bg.png', 'profile_background_image_url_https': 'https://abs.twimg.com/images/themes/theme1/bg.png', 'profile_background_tile': False, 'profile_image_url': 'http://pbs.twimg.com/profile_images/1209496493/Rosto_normal.png', 'profile_image_url_https': 'https://pbs.twimg.com/profile_images/1209496493/Rosto_normal.png', 'profile_link_color': '1DA1F2', 'profile_sidebar_border_color': 'C0DEED', 'profile_sidebar_fill_color': 'DDEEF6', 'profile_text_color': '333333', 'profile_use_background_image': True, 'has_extended_profile': False, 'default_profile': True, 'default_profile_image': False, 'following': False, 'follow_request_sent': False, 'notifications': False, 'translator_type': 'none'}, id=49735869, id_str='49735869', name='Marcelo Ferreira', screen_name='marcelferry', location='Londrina', description='Programador, Pai, Marido e bombril.', url='http://t.co/L7nIdvuTHc', entities={'url': {'urls': [{'url': 'http://t.co/L7nIdvuTHc', 'expanded_url': 'http://marcelo.mythe.com.br', 'display_url': 'marcelo.mythe.com.br', 'indices': [0, 22]}]}, 'description': {'urls': []}}, protected=False, followers_count=87, friends_count=216, listed_count=1, created_at=datetime.datetime(2009, 6, 22, 19, 31, 9), favourites_count=7, utc_offset=None, time_zone=None, geo_enabled=True, verified=False, statuses_count=255, lang='pt', contributors_enabled=False, is_translator=False, is_translation_enabled=False, profile_background_color='C0DEED', profile_background_image_url='http://abs.twimg.com/images/themes/theme1/bg.png', profile_background_image_url_https='https://abs.twimg.com/images/themes/theme1/bg.png', profile_background_tile=False, profile_image_url='http://pbs.twimg.com/profile_images/1209496493/Rosto_normal.png', profile_image_url_https='https://pbs.twimg.com/profile_images/1209496493/Rosto_normal.png', profile_link_color='1DA1F2', profile_sidebar_border_color='C0DEED', profile_sidebar_fill_color='DDEEF6', profile_text_color='333333', profile_use_background_image=True, has_extended_profile=False, default_profile=True, default_profile_image=False, following=False, follow_request_sent=False, notifications=False, translator_type='none'), geo=None, coordinates=None, place=None, contributors=None, is_quote_status=False, retweet_count=0, favorite_count=0, favorited=False, retweeted=False, lang='pt')"
      ]
     },
     "execution_count": 15,
     "metadata": {},
     "output_type": "execute_result"
    }
   ],
   "source": [
    "api.update_status(status=\"Minha primeira frase\")"
   ]
  },
  {
   "cell_type": "code",
   "execution_count": 16,
   "metadata": {},
   "outputs": [
    {
     "data": {
      "text/plain": [
       "Status(_api=<tweepy.api.API object at 0x107248cc0>, _json={'created_at': 'Thu Oct 12 00:20:43 +0000 2017', 'id': 918270168769417218, 'id_str': '918270168769417218', 'text': 'How are you?', 'truncated': False, 'entities': {'hashtags': [], 'symbols': [], 'user_mentions': [], 'urls': []}, 'source': '<a href=\"http://www.marcelferry.com.br\" rel=\"nofollow\">MBABigDataMarcelFerry</a>', 'in_reply_to_status_id': None, 'in_reply_to_status_id_str': None, 'in_reply_to_user_id': None, 'in_reply_to_user_id_str': None, 'in_reply_to_screen_name': None, 'user': {'id': 49735869, 'id_str': '49735869', 'name': 'Marcelo Ferreira', 'screen_name': 'marcelferry', 'location': 'Londrina', 'description': 'Programador, Pai, Marido e bombril.', 'url': 'http://t.co/L7nIdvuTHc', 'entities': {'url': {'urls': [{'url': 'http://t.co/L7nIdvuTHc', 'expanded_url': 'http://marcelo.mythe.com.br', 'display_url': 'marcelo.mythe.com.br', 'indices': [0, 22]}]}, 'description': {'urls': []}}, 'protected': False, 'followers_count': 87, 'friends_count': 216, 'listed_count': 1, 'created_at': 'Mon Jun 22 19:31:09 +0000 2009', 'favourites_count': 7, 'utc_offset': None, 'time_zone': None, 'geo_enabled': True, 'verified': False, 'statuses_count': 256, 'lang': 'pt', 'contributors_enabled': False, 'is_translator': False, 'is_translation_enabled': False, 'profile_background_color': 'C0DEED', 'profile_background_image_url': 'http://abs.twimg.com/images/themes/theme1/bg.png', 'profile_background_image_url_https': 'https://abs.twimg.com/images/themes/theme1/bg.png', 'profile_background_tile': False, 'profile_image_url': 'http://pbs.twimg.com/profile_images/1209496493/Rosto_normal.png', 'profile_image_url_https': 'https://pbs.twimg.com/profile_images/1209496493/Rosto_normal.png', 'profile_link_color': '1DA1F2', 'profile_sidebar_border_color': 'C0DEED', 'profile_sidebar_fill_color': 'DDEEF6', 'profile_text_color': '333333', 'profile_use_background_image': True, 'has_extended_profile': False, 'default_profile': True, 'default_profile_image': False, 'following': False, 'follow_request_sent': False, 'notifications': False, 'translator_type': 'none'}, 'geo': None, 'coordinates': None, 'place': None, 'contributors': None, 'is_quote_status': False, 'retweet_count': 0, 'favorite_count': 0, 'favorited': False, 'retweeted': False, 'lang': 'en'}, created_at=datetime.datetime(2017, 10, 12, 0, 20, 43), id=918270168769417218, id_str='918270168769417218', text='How are you?', truncated=False, entities={'hashtags': [], 'symbols': [], 'user_mentions': [], 'urls': []}, source='MBABigDataMarcelFerry', source_url='http://www.marcelferry.com.br', in_reply_to_status_id=None, in_reply_to_status_id_str=None, in_reply_to_user_id=None, in_reply_to_user_id_str=None, in_reply_to_screen_name=None, author=User(_api=<tweepy.api.API object at 0x107248cc0>, _json={'id': 49735869, 'id_str': '49735869', 'name': 'Marcelo Ferreira', 'screen_name': 'marcelferry', 'location': 'Londrina', 'description': 'Programador, Pai, Marido e bombril.', 'url': 'http://t.co/L7nIdvuTHc', 'entities': {'url': {'urls': [{'url': 'http://t.co/L7nIdvuTHc', 'expanded_url': 'http://marcelo.mythe.com.br', 'display_url': 'marcelo.mythe.com.br', 'indices': [0, 22]}]}, 'description': {'urls': []}}, 'protected': False, 'followers_count': 87, 'friends_count': 216, 'listed_count': 1, 'created_at': 'Mon Jun 22 19:31:09 +0000 2009', 'favourites_count': 7, 'utc_offset': None, 'time_zone': None, 'geo_enabled': True, 'verified': False, 'statuses_count': 256, 'lang': 'pt', 'contributors_enabled': False, 'is_translator': False, 'is_translation_enabled': False, 'profile_background_color': 'C0DEED', 'profile_background_image_url': 'http://abs.twimg.com/images/themes/theme1/bg.png', 'profile_background_image_url_https': 'https://abs.twimg.com/images/themes/theme1/bg.png', 'profile_background_tile': False, 'profile_image_url': 'http://pbs.twimg.com/profile_images/1209496493/Rosto_normal.png', 'profile_image_url_https': 'https://pbs.twimg.com/profile_images/1209496493/Rosto_normal.png', 'profile_link_color': '1DA1F2', 'profile_sidebar_border_color': 'C0DEED', 'profile_sidebar_fill_color': 'DDEEF6', 'profile_text_color': '333333', 'profile_use_background_image': True, 'has_extended_profile': False, 'default_profile': True, 'default_profile_image': False, 'following': False, 'follow_request_sent': False, 'notifications': False, 'translator_type': 'none'}, id=49735869, id_str='49735869', name='Marcelo Ferreira', screen_name='marcelferry', location='Londrina', description='Programador, Pai, Marido e bombril.', url='http://t.co/L7nIdvuTHc', entities={'url': {'urls': [{'url': 'http://t.co/L7nIdvuTHc', 'expanded_url': 'http://marcelo.mythe.com.br', 'display_url': 'marcelo.mythe.com.br', 'indices': [0, 22]}]}, 'description': {'urls': []}}, protected=False, followers_count=87, friends_count=216, listed_count=1, created_at=datetime.datetime(2009, 6, 22, 19, 31, 9), favourites_count=7, utc_offset=None, time_zone=None, geo_enabled=True, verified=False, statuses_count=256, lang='pt', contributors_enabled=False, is_translator=False, is_translation_enabled=False, profile_background_color='C0DEED', profile_background_image_url='http://abs.twimg.com/images/themes/theme1/bg.png', profile_background_image_url_https='https://abs.twimg.com/images/themes/theme1/bg.png', profile_background_tile=False, profile_image_url='http://pbs.twimg.com/profile_images/1209496493/Rosto_normal.png', profile_image_url_https='https://pbs.twimg.com/profile_images/1209496493/Rosto_normal.png', profile_link_color='1DA1F2', profile_sidebar_border_color='C0DEED', profile_sidebar_fill_color='DDEEF6', profile_text_color='333333', profile_use_background_image=True, has_extended_profile=False, default_profile=True, default_profile_image=False, following=False, follow_request_sent=False, notifications=False, translator_type='none'), user=User(_api=<tweepy.api.API object at 0x107248cc0>, _json={'id': 49735869, 'id_str': '49735869', 'name': 'Marcelo Ferreira', 'screen_name': 'marcelferry', 'location': 'Londrina', 'description': 'Programador, Pai, Marido e bombril.', 'url': 'http://t.co/L7nIdvuTHc', 'entities': {'url': {'urls': [{'url': 'http://t.co/L7nIdvuTHc', 'expanded_url': 'http://marcelo.mythe.com.br', 'display_url': 'marcelo.mythe.com.br', 'indices': [0, 22]}]}, 'description': {'urls': []}}, 'protected': False, 'followers_count': 87, 'friends_count': 216, 'listed_count': 1, 'created_at': 'Mon Jun 22 19:31:09 +0000 2009', 'favourites_count': 7, 'utc_offset': None, 'time_zone': None, 'geo_enabled': True, 'verified': False, 'statuses_count': 256, 'lang': 'pt', 'contributors_enabled': False, 'is_translator': False, 'is_translation_enabled': False, 'profile_background_color': 'C0DEED', 'profile_background_image_url': 'http://abs.twimg.com/images/themes/theme1/bg.png', 'profile_background_image_url_https': 'https://abs.twimg.com/images/themes/theme1/bg.png', 'profile_background_tile': False, 'profile_image_url': 'http://pbs.twimg.com/profile_images/1209496493/Rosto_normal.png', 'profile_image_url_https': 'https://pbs.twimg.com/profile_images/1209496493/Rosto_normal.png', 'profile_link_color': '1DA1F2', 'profile_sidebar_border_color': 'C0DEED', 'profile_sidebar_fill_color': 'DDEEF6', 'profile_text_color': '333333', 'profile_use_background_image': True, 'has_extended_profile': False, 'default_profile': True, 'default_profile_image': False, 'following': False, 'follow_request_sent': False, 'notifications': False, 'translator_type': 'none'}, id=49735869, id_str='49735869', name='Marcelo Ferreira', screen_name='marcelferry', location='Londrina', description='Programador, Pai, Marido e bombril.', url='http://t.co/L7nIdvuTHc', entities={'url': {'urls': [{'url': 'http://t.co/L7nIdvuTHc', 'expanded_url': 'http://marcelo.mythe.com.br', 'display_url': 'marcelo.mythe.com.br', 'indices': [0, 22]}]}, 'description': {'urls': []}}, protected=False, followers_count=87, friends_count=216, listed_count=1, created_at=datetime.datetime(2009, 6, 22, 19, 31, 9), favourites_count=7, utc_offset=None, time_zone=None, geo_enabled=True, verified=False, statuses_count=256, lang='pt', contributors_enabled=False, is_translator=False, is_translation_enabled=False, profile_background_color='C0DEED', profile_background_image_url='http://abs.twimg.com/images/themes/theme1/bg.png', profile_background_image_url_https='https://abs.twimg.com/images/themes/theme1/bg.png', profile_background_tile=False, profile_image_url='http://pbs.twimg.com/profile_images/1209496493/Rosto_normal.png', profile_image_url_https='https://pbs.twimg.com/profile_images/1209496493/Rosto_normal.png', profile_link_color='1DA1F2', profile_sidebar_border_color='C0DEED', profile_sidebar_fill_color='DDEEF6', profile_text_color='333333', profile_use_background_image=True, has_extended_profile=False, default_profile=True, default_profile_image=False, following=False, follow_request_sent=False, notifications=False, translator_type='none'), geo=None, coordinates=None, place=None, contributors=None, is_quote_status=False, retweet_count=0, favorite_count=0, favorited=False, retweeted=False, lang='en')"
      ]
     },
     "execution_count": 16,
     "metadata": {},
     "output_type": "execute_result"
    }
   ],
   "source": [
    "api.update_status(status=\"How are you?\")"
   ]
  },
  {
   "cell_type": "code",
   "execution_count": 17,
   "metadata": {},
   "outputs": [
    {
     "ename": "TweepError",
     "evalue": "[{'code': 187, 'message': 'Status is a duplicate.'}]",
     "output_type": "error",
     "traceback": [
      "\u001b[0;31m---------------------------------------------------------------------------\u001b[0m",
      "\u001b[0;31mTweepError\u001b[0m                                Traceback (most recent call last)",
      "\u001b[0;32m<ipython-input-17-ad46a9a97ffa>\u001b[0m in \u001b[0;36m<module>\u001b[0;34m()\u001b[0m\n\u001b[0;32m----> 1\u001b[0;31m \u001b[0mapi\u001b[0m\u001b[0;34m.\u001b[0m\u001b[0mupdate_status\u001b[0m\u001b[0;34m(\u001b[0m\u001b[0mstatus\u001b[0m\u001b[0;34m=\u001b[0m\u001b[0;34m\"Big Data com Python na FIA\"\u001b[0m\u001b[0;34m)\u001b[0m\u001b[0;34m\u001b[0m\u001b[0m\n\u001b[0m",
      "\u001b[0;32m/Library/Frameworks/Python.framework/Versions/3.6/lib/python3.6/site-packages/tweepy/api.py\u001b[0m in \u001b[0;36mupdate_status\u001b[0;34m(self, *args, **kwargs)\u001b[0m\n\u001b[1;32m    192\u001b[0m             \u001b[0mallowed_param\u001b[0m\u001b[0;34m=\u001b[0m\u001b[0;34m[\u001b[0m\u001b[0;34m'status'\u001b[0m\u001b[0;34m,\u001b[0m \u001b[0;34m'in_reply_to_status_id'\u001b[0m\u001b[0;34m,\u001b[0m \u001b[0;34m'lat'\u001b[0m\u001b[0;34m,\u001b[0m \u001b[0;34m'long'\u001b[0m\u001b[0;34m,\u001b[0m \u001b[0;34m'source'\u001b[0m\u001b[0;34m,\u001b[0m \u001b[0;34m'place_id'\u001b[0m\u001b[0;34m,\u001b[0m \u001b[0;34m'display_coordinates'\u001b[0m\u001b[0;34m]\u001b[0m\u001b[0;34m,\u001b[0m\u001b[0;34m\u001b[0m\u001b[0m\n\u001b[1;32m    193\u001b[0m             \u001b[0mrequire_auth\u001b[0m\u001b[0;34m=\u001b[0m\u001b[0;32mTrue\u001b[0m\u001b[0;34m\u001b[0m\u001b[0m\n\u001b[0;32m--> 194\u001b[0;31m         )(post_data=post_data, *args, **kwargs)\n\u001b[0m\u001b[1;32m    195\u001b[0m \u001b[0;34m\u001b[0m\u001b[0m\n\u001b[1;32m    196\u001b[0m     \u001b[0;32mdef\u001b[0m \u001b[0mmedia_upload\u001b[0m\u001b[0;34m(\u001b[0m\u001b[0mself\u001b[0m\u001b[0;34m,\u001b[0m \u001b[0mfilename\u001b[0m\u001b[0;34m,\u001b[0m \u001b[0;34m*\u001b[0m\u001b[0margs\u001b[0m\u001b[0;34m,\u001b[0m \u001b[0;34m**\u001b[0m\u001b[0mkwargs\u001b[0m\u001b[0;34m)\u001b[0m\u001b[0;34m:\u001b[0m\u001b[0;34m\u001b[0m\u001b[0m\n",
      "\u001b[0;32m/Library/Frameworks/Python.framework/Versions/3.6/lib/python3.6/site-packages/tweepy/binder.py\u001b[0m in \u001b[0;36m_call\u001b[0;34m(*args, **kwargs)\u001b[0m\n\u001b[1;32m    243\u001b[0m             \u001b[0;32mreturn\u001b[0m \u001b[0mmethod\u001b[0m\u001b[0;34m\u001b[0m\u001b[0m\n\u001b[1;32m    244\u001b[0m         \u001b[0;32melse\u001b[0m\u001b[0;34m:\u001b[0m\u001b[0;34m\u001b[0m\u001b[0m\n\u001b[0;32m--> 245\u001b[0;31m             \u001b[0;32mreturn\u001b[0m \u001b[0mmethod\u001b[0m\u001b[0;34m.\u001b[0m\u001b[0mexecute\u001b[0m\u001b[0;34m(\u001b[0m\u001b[0;34m)\u001b[0m\u001b[0;34m\u001b[0m\u001b[0m\n\u001b[0m\u001b[1;32m    246\u001b[0m \u001b[0;34m\u001b[0m\u001b[0m\n\u001b[1;32m    247\u001b[0m     \u001b[0;31m# Set pagination mode\u001b[0m\u001b[0;34m\u001b[0m\u001b[0;34m\u001b[0m\u001b[0m\n",
      "\u001b[0;32m/Library/Frameworks/Python.framework/Versions/3.6/lib/python3.6/site-packages/tweepy/binder.py\u001b[0m in \u001b[0;36mexecute\u001b[0;34m(self)\u001b[0m\n\u001b[1;32m    227\u001b[0m                     \u001b[0;32mraise\u001b[0m \u001b[0mRateLimitError\u001b[0m\u001b[0;34m(\u001b[0m\u001b[0merror_msg\u001b[0m\u001b[0;34m,\u001b[0m \u001b[0mresp\u001b[0m\u001b[0;34m)\u001b[0m\u001b[0;34m\u001b[0m\u001b[0m\n\u001b[1;32m    228\u001b[0m                 \u001b[0;32melse\u001b[0m\u001b[0;34m:\u001b[0m\u001b[0;34m\u001b[0m\u001b[0m\n\u001b[0;32m--> 229\u001b[0;31m                     \u001b[0;32mraise\u001b[0m \u001b[0mTweepError\u001b[0m\u001b[0;34m(\u001b[0m\u001b[0merror_msg\u001b[0m\u001b[0;34m,\u001b[0m \u001b[0mresp\u001b[0m\u001b[0;34m,\u001b[0m \u001b[0mapi_code\u001b[0m\u001b[0;34m=\u001b[0m\u001b[0mapi_error_code\u001b[0m\u001b[0;34m)\u001b[0m\u001b[0;34m\u001b[0m\u001b[0m\n\u001b[0m\u001b[1;32m    230\u001b[0m \u001b[0;34m\u001b[0m\u001b[0m\n\u001b[1;32m    231\u001b[0m             \u001b[0;31m# Parse the response payload\u001b[0m\u001b[0;34m\u001b[0m\u001b[0;34m\u001b[0m\u001b[0m\n",
      "\u001b[0;31mTweepError\u001b[0m: [{'code': 187, 'message': 'Status is a duplicate.'}]"
     ]
    }
   ],
   "source": [
    "api.update_status(status=\"Big Data com Python na FIA\")"
   ]
  },
  {
   "cell_type": "code",
   "execution_count": null,
   "metadata": {},
   "outputs": [],
   "source": []
  }
 ],
 "metadata": {
  "kernelspec": {
   "display_name": "Python 3",
   "language": "python",
   "name": "python3"
  },
  "language_info": {
   "codemirror_mode": {
    "name": "ipython",
    "version": 3
   },
   "file_extension": ".py",
   "mimetype": "text/x-python",
   "name": "python",
   "nbconvert_exporter": "python",
   "pygments_lexer": "ipython3",
   "version": "3.6.2"
  }
 },
 "nbformat": 4,
 "nbformat_minor": 2
}
