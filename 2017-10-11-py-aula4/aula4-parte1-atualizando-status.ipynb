{
 "cells": [
  {
   "cell_type": "markdown",
   "metadata": {},
   "source": [
    "# Atualizando Status\n",
    "\n",
    "Para utilizar qualquer API do Twitter temos que importar os módulos e definir as chaves e tokens de acesso."
   ]
  },
  {
   "cell_type": "code",
   "execution_count": 2,
   "metadata": {},
   "outputs": [],
   "source": [
    "import tweepy"
   ]
  },
  {
   "cell_type": "code",
   "execution_count": 1,
   "metadata": {},
   "outputs": [],
   "source": [
    "consumer_key = 'DNp15L5hvYeTPh54bAYerSby4'\n",
    "consumer_secret = 'cNAOwTcUqFEhR2H11u863TYAz77gX6vXb7nMX4t6QzIgaYFUVy'\n",
    "access_token = '49735869-KWaOqIFUZrcPFPAuPEgxT6kMlhNjTw23IfR9Y865M'\n",
    "access_token_secret = 'EYDpYk30U7zmwFcYKRbISDqo4ntTgqrG96KxXL6a16xq1'"
   ]
  },
  {
   "cell_type": "markdown",
   "metadata": {},
   "source": [
    "Com as chaves e tokens de acesso, iremos criar a autenticação e definir o token de acesso."
   ]
  },
  {
   "cell_type": "code",
   "execution_count": 3,
   "metadata": {},
   "outputs": [],
   "source": [
    "autorizar = tweepy.OAuthHandler(consumer_key, consumer_secret)\n",
    "autorizar.set_access_token(access_token, access_token_secret)"
   ]
  },
  {
   "cell_type": "markdown",
   "metadata": {},
   "source": [
    "Com a autorização criada, vamos passar as credenciais de acesso para a API do Tweepy. Desta forma, teremos acesso aos métodos disponíveis na API."
   ]
  },
  {
   "cell_type": "code",
   "execution_count": 4,
   "metadata": {},
   "outputs": [
    {
     "name": "stdout",
     "output_type": "stream",
     "text": [
      "<tweepy.api.API object at 0x104e475f8>\n"
     ]
    }
   ],
   "source": [
    "api = tweepy.API(autorizar)\n",
    "print(api)"
   ]
  },
  {
   "cell_type": "code",
   "execution_count": null,
   "metadata": {},
   "outputs": [],
   "source": [
    "api.update_status(status=\"Big Data com Python na FIA\")"
   ]
  },
  {
   "cell_type": "markdown",
   "metadata": {},
   "source": [
    "## Salvando o retorno da publicação"
   ]
  },
  {
   "cell_type": "code",
   "execution_count": 5,
   "metadata": {},
   "outputs": [],
   "source": [
    "info_tweet = api.update_status(status=\"O que é big data?\")"
   ]
  },
  {
   "cell_type": "code",
   "execution_count": 6,
   "metadata": {},
   "outputs": [
    {
     "name": "stdout",
     "output_type": "stream",
     "text": [
      "<class 'tweepy.models.Status'>\n"
     ]
    }
   ],
   "source": [
    "print(type(info_tweet))"
   ]
  },
  {
   "cell_type": "code",
   "execution_count": 7,
   "metadata": {},
   "outputs": [
    {
     "name": "stdout",
     "output_type": "stream",
     "text": [
      "['__class__', '__delattr__', '__dict__', '__dir__', '__doc__', '__eq__', '__format__', '__ge__', '__getattribute__', '__getstate__', '__gt__', '__hash__', '__init__', '__init_subclass__', '__le__', '__lt__', '__module__', '__ne__', '__new__', '__reduce__', '__reduce_ex__', '__repr__', '__setattr__', '__sizeof__', '__str__', '__subclasshook__', '__weakref__', '_api', '_json', 'author', 'contributors', 'coordinates', 'created_at', 'destroy', 'entities', 'favorite', 'favorite_count', 'favorited', 'geo', 'id', 'id_str', 'in_reply_to_screen_name', 'in_reply_to_status_id', 'in_reply_to_status_id_str', 'in_reply_to_user_id', 'in_reply_to_user_id_str', 'is_quote_status', 'lang', 'parse', 'parse_list', 'place', 'retweet', 'retweet_count', 'retweeted', 'retweets', 'source', 'source_url', 'text', 'truncated', 'user']\n"
     ]
    }
   ],
   "source": [
    "print(dir(info_tweet))"
   ]
  },
  {
   "cell_type": "code",
   "execution_count": 8,
   "metadata": {},
   "outputs": [
    {
     "name": "stdout",
     "output_type": "stream",
     "text": [
      "O que é big data?\n"
     ]
    }
   ],
   "source": [
    "print(info_tweet.text) # Mensagem do tweet"
   ]
  },
  {
   "cell_type": "code",
   "execution_count": 9,
   "metadata": {},
   "outputs": [
    {
     "name": "stdout",
     "output_type": "stream",
     "text": [
      "918608083445788672\n"
     ]
    }
   ],
   "source": [
    "print(info_tweet.id) # Id do Tweet"
   ]
  },
  {
   "cell_type": "code",
   "execution_count": 10,
   "metadata": {},
   "outputs": [
    {
     "name": "stdout",
     "output_type": "stream",
     "text": [
      "2017-10-12 22:43:28\n"
     ]
    }
   ],
   "source": [
    "print(info_tweet.created_at) # Data da criação do Twitter"
   ]
  },
  {
   "cell_type": "code",
   "execution_count": 11,
   "metadata": {},
   "outputs": [
    {
     "name": "stdout",
     "output_type": "stream",
     "text": [
      "MBABigDataMarcelFerry\n"
     ]
    }
   ],
   "source": [
    "print(info_tweet.source) # De onde veio o Twitter"
   ]
  },
  {
   "cell_type": "code",
   "execution_count": 12,
   "metadata": {},
   "outputs": [
    {
     "name": "stdout",
     "output_type": "stream",
     "text": [
      "pt\n"
     ]
    }
   ],
   "source": [
    "print(info_tweet.lang) # Idioma do Twitter"
   ]
  },
  {
   "cell_type": "markdown",
   "metadata": {},
   "source": [
    "### Informações do Usuário que realizou o Tweet.\n",
    "\n",
    "O comando abaixo ilustra todos os atributos disponíveis para o usuário que realizou o tweet."
   ]
  },
  {
   "cell_type": "code",
   "execution_count": 13,
   "metadata": {},
   "outputs": [
    {
     "name": "stdout",
     "output_type": "stream",
     "text": [
      "['__class__', '__delattr__', '__dict__', '__dir__', '__doc__', '__eq__', '__format__', '__ge__', '__getattribute__', '__getstate__', '__gt__', '__hash__', '__init__', '__init_subclass__', '__le__', '__lt__', '__module__', '__ne__', '__new__', '__reduce__', '__reduce_ex__', '__repr__', '__setattr__', '__sizeof__', '__str__', '__subclasshook__', '__weakref__', '_api', '_json', 'contributors_enabled', 'created_at', 'default_profile', 'default_profile_image', 'description', 'entities', 'favourites_count', 'follow', 'follow_request_sent', 'followers', 'followers_count', 'followers_ids', 'following', 'friends', 'friends_count', 'geo_enabled', 'has_extended_profile', 'id', 'id_str', 'is_translation_enabled', 'is_translator', 'lang', 'listed_count', 'lists', 'lists_memberships', 'lists_subscriptions', 'location', 'name', 'notifications', 'parse', 'parse_list', 'profile_background_color', 'profile_background_image_url', 'profile_background_image_url_https', 'profile_background_tile', 'profile_image_url', 'profile_image_url_https', 'profile_link_color', 'profile_sidebar_border_color', 'profile_sidebar_fill_color', 'profile_text_color', 'profile_use_background_image', 'protected', 'screen_name', 'statuses_count', 'time_zone', 'timeline', 'translator_type', 'unfollow', 'url', 'utc_offset', 'verified']\n"
     ]
    }
   ],
   "source": [
    "print(dir(info_tweet.user))"
   ]
  },
  {
   "cell_type": "markdown",
   "metadata": {},
   "source": [
    "#### Visualizar a data da criação do usuário"
   ]
  },
  {
   "cell_type": "code",
   "execution_count": 14,
   "metadata": {},
   "outputs": [
    {
     "name": "stdout",
     "output_type": "stream",
     "text": [
      "2009-06-22 19:31:09\n"
     ]
    }
   ],
   "source": [
    "print(info_tweet.user.created_at) "
   ]
  },
  {
   "cell_type": "markdown",
   "metadata": {},
   "source": [
    "#### Visualizar a localização do usuário"
   ]
  },
  {
   "cell_type": "code",
   "execution_count": 15,
   "metadata": {},
   "outputs": [
    {
     "name": "stdout",
     "output_type": "stream",
     "text": [
      "Londrina\n"
     ]
    }
   ],
   "source": [
    "print(info_tweet.user.location)"
   ]
  },
  {
   "cell_type": "markdown",
   "metadata": {},
   "source": [
    "#### Visualizar a quantidade de amigos"
   ]
  },
  {
   "cell_type": "code",
   "execution_count": 16,
   "metadata": {},
   "outputs": [
    {
     "name": "stdout",
     "output_type": "stream",
     "text": [
      "216\n"
     ]
    }
   ],
   "source": [
    "print(info_tweet.user.friends_count) "
   ]
  },
  {
   "cell_type": "markdown",
   "metadata": {},
   "source": [
    "#### Visualizar a quantidade de seguidores"
   ]
  },
  {
   "cell_type": "code",
   "execution_count": 17,
   "metadata": {},
   "outputs": [
    {
     "name": "stdout",
     "output_type": "stream",
     "text": [
      "87\n"
     ]
    }
   ],
   "source": [
    "print(info_tweet.user.followers_count) "
   ]
  },
  {
   "cell_type": "markdown",
   "metadata": {},
   "source": [
    "#### Visualizar o nome do perfil do usuário"
   ]
  },
  {
   "cell_type": "code",
   "execution_count": 18,
   "metadata": {},
   "outputs": [
    {
     "name": "stdout",
     "output_type": "stream",
     "text": [
      "Marcelo Ferreira\n"
     ]
    }
   ],
   "source": [
    "print(info_tweet.user.name) "
   ]
  },
  {
   "cell_type": "markdown",
   "metadata": {},
   "source": [
    "#### Visualizar  o nome do usuário - @prof_dinomagri"
   ]
  },
  {
   "cell_type": "code",
   "execution_count": 19,
   "metadata": {},
   "outputs": [
    {
     "name": "stdout",
     "output_type": "stream",
     "text": [
      "marcelferry\n"
     ]
    }
   ],
   "source": [
    "print(info_tweet.user.screen_name)"
   ]
  },
  {
   "cell_type": "markdown",
   "metadata": {},
   "source": [
    "#### Visualizar o id do usuário"
   ]
  },
  {
   "cell_type": "code",
   "execution_count": 20,
   "metadata": {},
   "outputs": [
    {
     "name": "stdout",
     "output_type": "stream",
     "text": [
      "49735869\n"
     ]
    }
   ],
   "source": [
    "print(info_tweet.user.id)"
   ]
  },
  {
   "cell_type": "markdown",
   "metadata": {},
   "source": [
    "#### Visualizar quantidade tweets feitos"
   ]
  },
  {
   "cell_type": "code",
   "execution_count": 21,
   "metadata": {},
   "outputs": [
    {
     "name": "stdout",
     "output_type": "stream",
     "text": [
      "258\n"
     ]
    }
   ],
   "source": [
    "print(info_tweet.user.statuses_count) "
   ]
  },
  {
   "cell_type": "markdown",
   "metadata": {},
   "source": [
    "### Removendo o tweet\n",
    "\n",
    "Note que quando aplicamos o método destroy_status, um objeto será retornado com os dados da remoção do Tweet. O acesso aos dados é da mesma forma que fizemos anteriormente."
   ]
  },
  {
   "cell_type": "code",
   "execution_count": 22,
   "metadata": {},
   "outputs": [
    {
     "data": {
      "text/plain": [
       "Status(_api=<tweepy.api.API object at 0x104e475f8>, _json={'created_at': 'Thu Oct 12 22:43:28 +0000 2017', 'id': 918608083445788672, 'id_str': '918608083445788672', 'text': 'O que é big data?', 'truncated': False, 'entities': {'hashtags': [], 'symbols': [], 'user_mentions': [], 'urls': []}, 'source': '<a href=\"http://www.marcelferry.com.br\" rel=\"nofollow\">MBABigDataMarcelFerry</a>', 'in_reply_to_status_id': None, 'in_reply_to_status_id_str': None, 'in_reply_to_user_id': None, 'in_reply_to_user_id_str': None, 'in_reply_to_screen_name': None, 'user': {'id': 49735869, 'id_str': '49735869', 'name': 'Marcelo Ferreira', 'screen_name': 'marcelferry', 'location': 'Londrina', 'description': 'Programador, Pai, Marido e bombril.', 'url': 'http://t.co/L7nIdvuTHc', 'entities': {'url': {'urls': [{'url': 'http://t.co/L7nIdvuTHc', 'expanded_url': 'http://marcelo.mythe.com.br', 'display_url': 'marcelo.mythe.com.br', 'indices': [0, 22]}]}, 'description': {'urls': []}}, 'protected': False, 'followers_count': 87, 'friends_count': 216, 'listed_count': 1, 'created_at': 'Mon Jun 22 19:31:09 +0000 2009', 'favourites_count': 13, 'utc_offset': None, 'time_zone': None, 'geo_enabled': True, 'verified': False, 'statuses_count': 258, 'lang': 'pt', 'contributors_enabled': False, 'is_translator': False, 'is_translation_enabled': False, 'profile_background_color': 'C0DEED', 'profile_background_image_url': 'http://abs.twimg.com/images/themes/theme1/bg.png', 'profile_background_image_url_https': 'https://abs.twimg.com/images/themes/theme1/bg.png', 'profile_background_tile': False, 'profile_image_url': 'http://pbs.twimg.com/profile_images/1209496493/Rosto_normal.png', 'profile_image_url_https': 'https://pbs.twimg.com/profile_images/1209496493/Rosto_normal.png', 'profile_link_color': '1DA1F2', 'profile_sidebar_border_color': 'C0DEED', 'profile_sidebar_fill_color': 'DDEEF6', 'profile_text_color': '333333', 'profile_use_background_image': True, 'has_extended_profile': False, 'default_profile': True, 'default_profile_image': False, 'following': False, 'follow_request_sent': False, 'notifications': False, 'translator_type': 'none'}, 'geo': None, 'coordinates': None, 'place': None, 'contributors': None, 'is_quote_status': False, 'retweet_count': 0, 'favorite_count': 0, 'favorited': False, 'retweeted': False, 'lang': 'pt'}, created_at=datetime.datetime(2017, 10, 12, 22, 43, 28), id=918608083445788672, id_str='918608083445788672', text='O que é big data?', truncated=False, entities={'hashtags': [], 'symbols': [], 'user_mentions': [], 'urls': []}, source='MBABigDataMarcelFerry', source_url='http://www.marcelferry.com.br', in_reply_to_status_id=None, in_reply_to_status_id_str=None, in_reply_to_user_id=None, in_reply_to_user_id_str=None, in_reply_to_screen_name=None, author=User(_api=<tweepy.api.API object at 0x104e475f8>, _json={'id': 49735869, 'id_str': '49735869', 'name': 'Marcelo Ferreira', 'screen_name': 'marcelferry', 'location': 'Londrina', 'description': 'Programador, Pai, Marido e bombril.', 'url': 'http://t.co/L7nIdvuTHc', 'entities': {'url': {'urls': [{'url': 'http://t.co/L7nIdvuTHc', 'expanded_url': 'http://marcelo.mythe.com.br', 'display_url': 'marcelo.mythe.com.br', 'indices': [0, 22]}]}, 'description': {'urls': []}}, 'protected': False, 'followers_count': 87, 'friends_count': 216, 'listed_count': 1, 'created_at': 'Mon Jun 22 19:31:09 +0000 2009', 'favourites_count': 13, 'utc_offset': None, 'time_zone': None, 'geo_enabled': True, 'verified': False, 'statuses_count': 258, 'lang': 'pt', 'contributors_enabled': False, 'is_translator': False, 'is_translation_enabled': False, 'profile_background_color': 'C0DEED', 'profile_background_image_url': 'http://abs.twimg.com/images/themes/theme1/bg.png', 'profile_background_image_url_https': 'https://abs.twimg.com/images/themes/theme1/bg.png', 'profile_background_tile': False, 'profile_image_url': 'http://pbs.twimg.com/profile_images/1209496493/Rosto_normal.png', 'profile_image_url_https': 'https://pbs.twimg.com/profile_images/1209496493/Rosto_normal.png', 'profile_link_color': '1DA1F2', 'profile_sidebar_border_color': 'C0DEED', 'profile_sidebar_fill_color': 'DDEEF6', 'profile_text_color': '333333', 'profile_use_background_image': True, 'has_extended_profile': False, 'default_profile': True, 'default_profile_image': False, 'following': False, 'follow_request_sent': False, 'notifications': False, 'translator_type': 'none'}, id=49735869, id_str='49735869', name='Marcelo Ferreira', screen_name='marcelferry', location='Londrina', description='Programador, Pai, Marido e bombril.', url='http://t.co/L7nIdvuTHc', entities={'url': {'urls': [{'url': 'http://t.co/L7nIdvuTHc', 'expanded_url': 'http://marcelo.mythe.com.br', 'display_url': 'marcelo.mythe.com.br', 'indices': [0, 22]}]}, 'description': {'urls': []}}, protected=False, followers_count=87, friends_count=216, listed_count=1, created_at=datetime.datetime(2009, 6, 22, 19, 31, 9), favourites_count=13, utc_offset=None, time_zone=None, geo_enabled=True, verified=False, statuses_count=258, lang='pt', contributors_enabled=False, is_translator=False, is_translation_enabled=False, profile_background_color='C0DEED', profile_background_image_url='http://abs.twimg.com/images/themes/theme1/bg.png', profile_background_image_url_https='https://abs.twimg.com/images/themes/theme1/bg.png', profile_background_tile=False, profile_image_url='http://pbs.twimg.com/profile_images/1209496493/Rosto_normal.png', profile_image_url_https='https://pbs.twimg.com/profile_images/1209496493/Rosto_normal.png', profile_link_color='1DA1F2', profile_sidebar_border_color='C0DEED', profile_sidebar_fill_color='DDEEF6', profile_text_color='333333', profile_use_background_image=True, has_extended_profile=False, default_profile=True, default_profile_image=False, following=False, follow_request_sent=False, notifications=False, translator_type='none'), user=User(_api=<tweepy.api.API object at 0x104e475f8>, _json={'id': 49735869, 'id_str': '49735869', 'name': 'Marcelo Ferreira', 'screen_name': 'marcelferry', 'location': 'Londrina', 'description': 'Programador, Pai, Marido e bombril.', 'url': 'http://t.co/L7nIdvuTHc', 'entities': {'url': {'urls': [{'url': 'http://t.co/L7nIdvuTHc', 'expanded_url': 'http://marcelo.mythe.com.br', 'display_url': 'marcelo.mythe.com.br', 'indices': [0, 22]}]}, 'description': {'urls': []}}, 'protected': False, 'followers_count': 87, 'friends_count': 216, 'listed_count': 1, 'created_at': 'Mon Jun 22 19:31:09 +0000 2009', 'favourites_count': 13, 'utc_offset': None, 'time_zone': None, 'geo_enabled': True, 'verified': False, 'statuses_count': 258, 'lang': 'pt', 'contributors_enabled': False, 'is_translator': False, 'is_translation_enabled': False, 'profile_background_color': 'C0DEED', 'profile_background_image_url': 'http://abs.twimg.com/images/themes/theme1/bg.png', 'profile_background_image_url_https': 'https://abs.twimg.com/images/themes/theme1/bg.png', 'profile_background_tile': False, 'profile_image_url': 'http://pbs.twimg.com/profile_images/1209496493/Rosto_normal.png', 'profile_image_url_https': 'https://pbs.twimg.com/profile_images/1209496493/Rosto_normal.png', 'profile_link_color': '1DA1F2', 'profile_sidebar_border_color': 'C0DEED', 'profile_sidebar_fill_color': 'DDEEF6', 'profile_text_color': '333333', 'profile_use_background_image': True, 'has_extended_profile': False, 'default_profile': True, 'default_profile_image': False, 'following': False, 'follow_request_sent': False, 'notifications': False, 'translator_type': 'none'}, id=49735869, id_str='49735869', name='Marcelo Ferreira', screen_name='marcelferry', location='Londrina', description='Programador, Pai, Marido e bombril.', url='http://t.co/L7nIdvuTHc', entities={'url': {'urls': [{'url': 'http://t.co/L7nIdvuTHc', 'expanded_url': 'http://marcelo.mythe.com.br', 'display_url': 'marcelo.mythe.com.br', 'indices': [0, 22]}]}, 'description': {'urls': []}}, protected=False, followers_count=87, friends_count=216, listed_count=1, created_at=datetime.datetime(2009, 6, 22, 19, 31, 9), favourites_count=13, utc_offset=None, time_zone=None, geo_enabled=True, verified=False, statuses_count=258, lang='pt', contributors_enabled=False, is_translator=False, is_translation_enabled=False, profile_background_color='C0DEED', profile_background_image_url='http://abs.twimg.com/images/themes/theme1/bg.png', profile_background_image_url_https='https://abs.twimg.com/images/themes/theme1/bg.png', profile_background_tile=False, profile_image_url='http://pbs.twimg.com/profile_images/1209496493/Rosto_normal.png', profile_image_url_https='https://pbs.twimg.com/profile_images/1209496493/Rosto_normal.png', profile_link_color='1DA1F2', profile_sidebar_border_color='C0DEED', profile_sidebar_fill_color='DDEEF6', profile_text_color='333333', profile_use_background_image=True, has_extended_profile=False, default_profile=True, default_profile_image=False, following=False, follow_request_sent=False, notifications=False, translator_type='none'), geo=None, coordinates=None, place=None, contributors=None, is_quote_status=False, retweet_count=0, favorite_count=0, favorited=False, retweeted=False, lang='pt')"
      ]
     },
     "execution_count": 22,
     "metadata": {},
     "output_type": "execute_result"
    }
   ],
   "source": [
    "api.destroy_status(id=info_tweet.id_str)"
   ]
  },
  {
   "cell_type": "code",
   "execution_count": null,
   "metadata": {},
   "outputs": [],
   "source": []
  }
 ],
 "metadata": {
  "kernelspec": {
   "display_name": "Python 3",
   "language": "python",
   "name": "python3"
  },
  "language_info": {
   "codemirror_mode": {
    "name": "ipython",
    "version": 3
   },
   "file_extension": ".py",
   "mimetype": "text/x-python",
   "name": "python",
   "nbconvert_exporter": "python",
   "pygments_lexer": "ipython3",
   "version": "3.6.2"
  }
 },
 "nbformat": 4,
 "nbformat_minor": 1
}
