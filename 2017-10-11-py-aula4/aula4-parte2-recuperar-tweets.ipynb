{
 "cells": [
  {
   "cell_type": "markdown",
   "metadata": {},
   "source": [
    "# Recuperando Tweets\n",
    "\n",
    "Para utilizar qualquer API do Twitter temos que importar os módulos e definir as chaves e tokens de acesso."
   ]
  },
  {
   "cell_type": "code",
   "execution_count": 1,
   "metadata": {},
   "outputs": [],
   "source": [
    "import tweepy"
   ]
  },
  {
   "cell_type": "code",
   "execution_count": 2,
   "metadata": {},
   "outputs": [],
   "source": [
    "consumer_key = 'DNp15L5hvYeTPh54bAYerSby4'\n",
    "consumer_secret = 'cNAOwTcUqFEhR2H11u863TYAz77gX6vXb7nMX4t6QzIgaYFUVy'\n",
    "access_token = '49735869-KWaOqIFUZrcPFPAuPEgxT6kMlhNjTw23IfR9Y865M'\n",
    "access_token_secret = 'EYDpYk30U7zmwFcYKRbISDqo4ntTgqrG96KxXL6a16xq1'"
   ]
  },
  {
   "cell_type": "markdown",
   "metadata": {},
   "source": [
    "Com as chaves e tokens de acesso, iremos criar a autenticação e definir o token de acesso."
   ]
  },
  {
   "cell_type": "code",
   "execution_count": 3,
   "metadata": {},
   "outputs": [],
   "source": [
    "autorizar = tweepy.OAuthHandler(consumer_key, consumer_secret)\n",
    "autorizar.set_access_token(access_token, access_token_secret)"
   ]
  },
  {
   "cell_type": "markdown",
   "metadata": {},
   "source": [
    "Com a autorização criada, vamos passar as credenciais de acesso para a API do Tweepy. Desta forma, teremos acesso aos métodos disponíveis na API."
   ]
  },
  {
   "cell_type": "code",
   "execution_count": 4,
   "metadata": {},
   "outputs": [
    {
     "name": "stdout",
     "output_type": "stream",
     "text": [
      "<tweepy.api.API object at 0x104e475f8>\n"
     ]
    }
   ],
   "source": [
    "api = tweepy.API(autorizar)\n",
    "print(api)"
   ]
  },
  {
   "cell_type": "markdown",
   "metadata": {
    "collapsed": true
   },
   "source": [
    "## Utilizar a home_timeline()\n",
    "\n",
    "Esse método recupera as últimas 20 atualizações (inclue retweet) da timeline do usuário autenticada.\n",
    "\n",
    "O retorno é um objeto parecido com uma lista que salva os resultados recuperados.\n",
    "\n",
    "http://docs.tweepy.org/en/v3.5.0/api.html?highlight=home_timeline#API.home_timeline"
   ]
  },
  {
   "cell_type": "code",
   "execution_count": 5,
   "metadata": {},
   "outputs": [],
   "source": [
    "tweets_publicos = api.home_timeline()"
   ]
  },
  {
   "cell_type": "code",
   "execution_count": 6,
   "metadata": {},
   "outputs": [
    {
     "name": "stdout",
     "output_type": "stream",
     "text": [
      "<class 'tweepy.models.ResultSet'>\n"
     ]
    }
   ],
   "source": [
    "print(type(tweets_publicos))"
   ]
  },
  {
   "cell_type": "code",
   "execution_count": 7,
   "metadata": {
    "scrolled": true
   },
   "outputs": [
    {
     "name": "stdout",
     "output_type": "stream",
     "text": [
      "1 ---> Peru: homem cai do 18º andar e sobrevive https://t.co/10RIppn6xG\n",
      "2 ---> Oba! Oba!! Hj tem nosso #thevoicebrasil . Tá imperdível \n",
      "Toda biita de Camisa e calça… https://t.co/rNUwGI8U6A\n",
      "3 ---> Lava Jato ataca STF por decisão sobre afastamento de parlamentar https://t.co/VmOQfOJXLZ\n",
      "4 ---> Quem tá pronto pra apresentar o game amanhã? #BGS10 #GloboNaBGS #BrasilGameJam https://t.co/u2CsDlIcGG\n",
      "5 ---> Já li tb. Muito bom. E o autor é um gato. https://t.co/rmWRCAfVAW\n",
      "6 ---> No Maracanã, Flamengo e Fluminense fazem jogo morno https://t.co/5xAcBN37C4\n",
      "7 ---> Aquele dia q vc ñ quer q termine: https://t.co/mAi8aVTx2t https://t.co/amdcMxwGpR\n",
      "8 ---> Ponte empata, Sport vence e São Paulo volta ao Z4 https://t.co/WjYiYiwdIV\n",
      "9 ---> More apps, fewer taps. Use Notification Dots on #AndroidOreo to see what’s new, &amp; clear them by swiping away.… https://t.co/0N7ZSX5psq\n",
      "10 ---> Outubro Rosa: ‘Angelina Jolie fez mais pelo câncer de mama do que os médicos’\n",
      "https://t.co/DgntohFY1Y https://t.co/PaVUj7e19a\n",
      "11 ---> RT @java: How do I migrate applications to #jdk9 \n",
      "\n",
      "There is a guide for that! \n",
      "\n",
      "https://t.co/ECpMF61zcX https://t.co/x1SfteBkoH\n",
      "12 ---> RT @java: How to build your own bot and run it on Facebook Messenger Massive Open Online Course \n",
      "\n",
      "#Java #chatbots #AI #MOOC \n",
      "\n",
      "https://t.co/…\n",
      "13 ---> Se o mundo é redondo, por que a gente não cai? https://t.co/aaB87IJsN4 https://t.co/7HhVp9ExVU\n",
      "14 ---> Acabei de acabar. Cc @leonelcaldela https://t.co/BuPIVs2UbB\n",
      "15 ---> Que covardia! Cadê alguém pra acabar com isso? 😠 #TempoDeAmar https://t.co/jYfOJiEuez\n",
      "16 ---> Feliz dia das crianças, criança! https://t.co/SHn9kdLisP\n",
      "17 ---> Filhos transgêneros. Pais em transformação.\n",
      "https://t.co/dk574B0d3P #VEJA https://t.co/nsXjoF4MRh\n",
      "18 ---> https://t.co/nncMmiZWc3\n",
      "19 ---> 🗺🚧 Confira as alterações operacionais programadas para as linhas de ônibus da cidade e programe-se antes de sair:… https://t.co/8ufcFsq37X\n"
     ]
    }
   ],
   "source": [
    "for i, tweet in enumerate(tweets_publicos, start=1):\n",
    "    print(\"{} ---> {}\".format(i, tweet.text))    "
   ]
  },
  {
   "cell_type": "markdown",
   "metadata": {},
   "source": [
    "Além disso, podemos utilizar o parâmetro ```count``` para limitar a busca."
   ]
  },
  {
   "cell_type": "code",
   "execution_count": 8,
   "metadata": {},
   "outputs": [],
   "source": [
    "tweets_publicos = api.home_timeline(count=5)"
   ]
  },
  {
   "cell_type": "code",
   "execution_count": 9,
   "metadata": {},
   "outputs": [
    {
     "name": "stdout",
     "output_type": "stream",
     "text": [
      "Tweet número: 1\n",
      "----------------\n",
      "Usuário @RedeGlobo disse:\n",
      "As investigações de #CidadeProibida em primeira mão! Clique https://t.co/GJuKyr17my e mergulhe nos casos de Zózimo… https://t.co/apqGqYnqsx\n",
      "id do usuário: 18219976\n",
      "\n",
      "\n",
      "Tweet número: 2\n",
      "----------------\n",
      "Usuário @VEJA disse:\n",
      "Peru: homem cai do 18º andar e sobrevive https://t.co/10RIppn6xG\n",
      "id do usuário: 17715048\n",
      "\n",
      "\n",
      "Tweet número: 3\n",
      "----------------\n",
      "Usuário @ivetesangalo disse:\n",
      "Oba! Oba!! Hj tem nosso #thevoicebrasil . Tá imperdível \n",
      "Toda biita de Camisa e calça… https://t.co/rNUwGI8U6A\n",
      "id do usuário: 14502789\n",
      "\n",
      "\n",
      "Tweet número: 4\n",
      "----------------\n",
      "Usuário @VEJA disse:\n",
      "Lava Jato ataca STF por decisão sobre afastamento de parlamentar https://t.co/VmOQfOJXLZ\n",
      "id do usuário: 17715048\n",
      "\n",
      "\n",
      "Tweet número: 5\n",
      "----------------\n",
      "Usuário @RedeGlobo disse:\n",
      "Quem tá pronto pra apresentar o game amanhã? #BGS10 #GloboNaBGS #BrasilGameJam https://t.co/u2CsDlIcGG\n",
      "id do usuário: 18219976\n",
      "\n",
      "\n"
     ]
    }
   ],
   "source": [
    "for i, tweet in enumerate(tweets_publicos, start=1):\n",
    "    print(\"Tweet número: {}\".format(i))\n",
    "    print(\"----------------\")\n",
    "    print(\"Usuário @{} disse:\".format(tweet.user.screen_name))\n",
    "    print(tweet.text)\n",
    "    print(\"id do usuário: {}\".format(tweet.user.id))\n",
    "    print('\\n')"
   ]
  },
  {
   "cell_type": "markdown",
   "metadata": {},
   "source": [
    "## Utilizar a user_timeline()\n",
    "\n",
    "Esse método recupera as últimas 20 atualizações do usuário autenticado ou do usuário especificado via parâmetro ```id```.\n",
    "\n",
    "O retorno é um objeto parecido com uma lista que salva os resultados recuperados.\n",
    "\n",
    "http://docs.tweepy.org/en/v3.5.0/api.html?highlight=user_timeline#API.user_timeline"
   ]
  },
  {
   "cell_type": "code",
   "execution_count": 10,
   "metadata": {},
   "outputs": [],
   "source": [
    "tweets_publicos_usuario = api.user_timeline(id='267283568', count=5)"
   ]
  },
  {
   "cell_type": "code",
   "execution_count": 11,
   "metadata": {},
   "outputs": [
    {
     "name": "stdout",
     "output_type": "stream",
     "text": [
      "----\n",
      "🌊💪🌊💪🌊 https://t.co/b1h1h007C0\n",
      "918565243600736256\n",
      "und\n",
      "None\n",
      "3\n",
      "None\n",
      "267283568\n",
      "----\n",
      "RT @IBMAnalytics: Companies are “all in” on #DataScience, but new tools make it a whole new game. Learn more: https://t.co/VrMUAlp4Rs #DSfo…\n",
      "918536096711094278\n",
      "en\n",
      "None\n",
      "43\n",
      "None\n",
      "267283568\n",
      "----\n",
      "RT @IBMAnalytics: New capabilities on #StoredIQ means more freedom to choose your #data sources. Register now for the free webcast: https:/…\n",
      "918526102347247616\n",
      "en\n",
      "None\n",
      "23\n",
      "None\n",
      "267283568\n",
      "----\n",
      "Hear @banjaxx and @SusanWhitmire share tips on #datagovernance at #ARMALIVE2017 in Orlando #IBMUG… https://t.co/WNlYB9sxfV\n",
      "918476359227363329\n",
      "en\n",
      "None\n",
      "7\n",
      "None\n",
      "267283568\n",
      "----\n",
      "How to build a successful multi-cloud strategy: https://t.co/hux5tS6ZW2 #cloud #analytics https://t.co/URANmKEx24\n",
      "918463013975412739\n",
      "en\n",
      "None\n",
      "11\n",
      "None\n",
      "267283568\n"
     ]
    }
   ],
   "source": [
    "for tweet in tweets_publicos_usuario:\n",
    "    print('----')\n",
    "    print(tweet.text)\n",
    "    print(tweet.id)\n",
    "    print(tweet.lang)\n",
    "    print(tweet.place)\n",
    "    print(tweet.retweet_count)\n",
    "    print(tweet.coordinates)\n",
    "    print(tweet.user.id)\n"
   ]
  },
  {
   "cell_type": "markdown",
   "metadata": {},
   "source": [
    "## Utilizar a retweets_of_me()\n",
    "\n",
    "Esse método recupera os últimos 20 tweets do usuário autenticado que foi retweeted por outros.\n",
    "\n",
    "O retorno é um objeto parecido com uma lista que salva os resultados recuperados.\n",
    "\n",
    "http://docs.tweepy.org/en/v3.5.0/api.html?highlight=retweets_of_me#API.retweets_of_me"
   ]
  },
  {
   "cell_type": "code",
   "execution_count": 12,
   "metadata": {},
   "outputs": [],
   "source": [
    "retweets = api.retweets_of_me(count=10)"
   ]
  },
  {
   "cell_type": "code",
   "execution_count": 13,
   "metadata": {},
   "outputs": [
    {
     "name": "stdout",
     "output_type": "stream",
     "text": [
      "1 - Ação muito importante da @Seagate em apoiar o @SciCastPodcast!!! Parabéns!!!\n",
      "2 - #Concafras2013 Várzea da Palma, Manaus, Parnaíba, Santa Maria. #Concafras2013EmSantaMariaEuVou\n",
      "3 - #Concafras2012 deixando o gostinho de quero mais. Apenas algumas horas para acabar!!\n",
      "4 - #concafras2012  acabamos de conhecer o Spiritist Center Benjamin Franklin Spiritist so ciety\n",
      "5 - #Concafras2012 Tema Central, Honrar Pai e Mãe. Estão aqui: @papodoalem, @paulo_almeeida @AninhaHobold @SilviaRBorges\n",
      "6 - @Jaumzera continue firme, pois saber que outros se fodem como eu pra fazer essa porcaria, me da ânimos pra continuar... Kkkk\n",
      "7 - @vMoselli @jaumzera mas hoje eh uma pseudo quinta/segunda!!\n",
      "8 - @anapaulachaves vc escolheu a área onde a maioria dos profissionais não sabem a diferença do dia ou da noite. Quer mais preparo q isso?\n",
      "9 - Parabéns Guilherme Briggs, a todos os dubladores!!' RT: @TeatroBonecos: 29 de Junho: FELIZ DIA DO DUBLADOR! =) http://t.co/9cvJdup\n",
      "10 - Após o almoço aqui em casa com @AninhaHobold, @SilviaRBorges, @Paulo_Almeida, vamos gravar o segundo episódio do @papodoalem.\n"
     ]
    }
   ],
   "source": [
    "for i, tweet in enumerate(retweets, start=1):\n",
    "    print(\"{} - {}\".format(i, tweet.text))"
   ]
  },
  {
   "cell_type": "code",
   "execution_count": null,
   "metadata": {
    "collapsed": true
   },
   "outputs": [],
   "source": []
  }
 ],
 "metadata": {
  "kernelspec": {
   "display_name": "Python 3",
   "language": "python",
   "name": "python3"
  },
  "language_info": {
   "codemirror_mode": {
    "name": "ipython",
    "version": 3
   },
   "file_extension": ".py",
   "mimetype": "text/x-python",
   "name": "python",
   "nbconvert_exporter": "python",
   "pygments_lexer": "ipython3",
   "version": "3.6.2"
  }
 },
 "nbformat": 4,
 "nbformat_minor": 1
}
