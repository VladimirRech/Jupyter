{
 "cells": [
  {
   "cell_type": "markdown",
   "metadata": {},
   "source": [
    "# Notas sobre Python\n",
    "\n",
    "## Formatação de números\n",
    "Basta usar a função format(). Veja exemplo abaixo:\n"
   ]
  },
  {
   "cell_type": "code",
   "execution_count": 5,
   "metadata": {},
   "outputs": [
    {
     "name": "stdout",
     "output_type": "stream",
     "text": [
      "Valor informado 16.667\n"
     ]
    }
   ],
   "source": [
    "valor = 50/3\n",
    "print(\"Valor informado {0:1.3f}\".format(valor, 3))"
   ]
  },
  {
   "cell_type": "markdown",
   "metadata": {},
   "source": [
    "#### Verificando o comportamento da formatação\n",
    "As chaves são substituídas pelos valores dentro da ordem que são colocadas dentro de format:\n",
    "\n",
    "`format(v0, v1, v2, ..., vn)`\n",
    "\n",
    "Se desejar pode ser também colocado um número indicando a ordem de substituição:\n",
    "```python\n",
    "print(\"Valor {1} e {0}\".format(0, 1))\n",
    "#resultado: valor 1 e 0\n",
    "```\n",
    "\n",
    "O exemplo abaixo mostra como criar um formatador dinâmico:"
   ]
  },
  {
   "cell_type": "code",
   "execution_count": 18,
   "metadata": {},
   "outputs": [
    {
     "name": "stdout",
     "output_type": "stream",
     "text": [
      "Casas decimais de i: 0 \t Valor: 7\n",
      "Casas decimais de i: 1 \t Valor: 6.7\n",
      "Casas decimais de i: 2 \t Valor: 6.67\n",
      "Casas decimais de i: 3 \t Valor: 6.667\n",
      "Casas decimais de i: 4 \t Valor: 6.6667\n",
      "Casas decimais de i: 5 \t Valor: 6.66667\n"
     ]
    }
   ],
   "source": [
    "i = 0\n",
    "val = 20 / 3\n",
    "while i < 6:\n",
    "      fmt = \"Casas decimais de i: {1} \\t Valor: {0:1.\" + str(i) + \"f}\"\n",
    "      print(fmt.format(val, i))\n",
    "      i += 1"
   ]
  },
  {
   "cell_type": "markdown",
   "metadata": {},
   "source": [
    "#### Usando interações\n",
    "Com Python é possível usar foreach como em C#:"
   ]
  },
  {
   "cell_type": "code",
   "execution_count": 4,
   "metadata": {},
   "outputs": [
    {
     "name": "stdout",
     "output_type": "stream",
     "text": [
      "1 orange\n",
      "2 strawberry\n",
      "3 banana\n",
      "4 apple\n"
     ]
    }
   ],
   "source": [
    "myList = ['orange', 'strawberry', 'banana', 'apple']\n",
    "\n",
    "for i, item in enumerate(myList):\n",
    "    print((i + 1), item)"
   ]
  },
  {
   "cell_type": "markdown",
   "metadata": {},
   "source": [
    "#### Reescrevendo o loop de formatação anterior\n",
    "Supondo que se deseje realizar um for para um número *n* de vezes como no C#:\n",
    "```csharp\n",
    "for(int i = 0; i < n; i++)\n",
    "    // some code here\n",
    "```\n",
    "\n",
    "Deve se usar a função *range(n)* onde deve se lembrar que *i* inicia-se sempre com zero:\n",
    "```python\n",
    "for i in range(n)\n",
    "    # some code here\n",
    "```"
   ]
  },
  {
   "cell_type": "code",
   "execution_count": 6,
   "metadata": {},
   "outputs": [
    {
     "name": "stdout",
     "output_type": "stream",
     "text": [
      "Casas decimais de i: 0 \t Valor: 7\n",
      "Casas decimais de i: 1 \t Valor: 6.7\n",
      "Casas decimais de i: 2 \t Valor: 6.67\n",
      "Casas decimais de i: 3 \t Valor: 6.667\n",
      "Casas decimais de i: 4 \t Valor: 6.6667\n",
      "Casas decimais de i: 5 \t Valor: 6.66667\n"
     ]
    }
   ],
   "source": [
    "val = 20 / 3\n",
    "\n",
    "for i in range(6):\n",
    "      fmt = \"Casas decimais de i: {1} \\t Valor: {0:1.\" + str(i) + \"f}\"\n",
    "      print(fmt.format(val, i))\n"
   ]
  }
 ],
 "metadata": {
  "kernelspec": {
   "display_name": "Python 3",
   "language": "python",
   "name": "python3"
  },
  "language_info": {
   "codemirror_mode": {
    "name": "ipython",
    "version": 3
   },
   "file_extension": ".py",
   "mimetype": "text/x-python",
   "name": "python",
   "nbconvert_exporter": "python",
   "pygments_lexer": "ipython3",
   "version": "3.8.5"
  }
 },
 "nbformat": 4,
 "nbformat_minor": 4
}
