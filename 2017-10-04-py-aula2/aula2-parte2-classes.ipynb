{
 "cells": [
  {
   "cell_type": "markdown",
   "metadata": {},
   "source": [
    "# Classes e Objetos"
   ]
  },
  {
   "cell_type": "code",
   "execution_count": 1,
   "metadata": {},
   "outputs": [],
   "source": [
    "class Pessoa(object):\n",
    "    def __init__(self, nome, idade):\n",
    "        self.nome = nome\n",
    "        self.idade = idade"
   ]
  },
  {
   "cell_type": "code",
   "execution_count": 2,
   "metadata": {},
   "outputs": [
    {
     "ename": "TypeError",
     "evalue": "__init__() missing 2 required positional arguments: 'nome' and 'idade'",
     "output_type": "error",
     "traceback": [
      "\u001b[1;31m---------------------------------------------------------------------------\u001b[0m",
      "\u001b[1;31mTypeError\u001b[0m                                 Traceback (most recent call last)",
      "\u001b[1;32m<ipython-input-2-38cb5b863233>\u001b[0m in \u001b[0;36m<module>\u001b[1;34m()\u001b[0m\n\u001b[1;32m----> 1\u001b[1;33m \u001b[0mjoao\u001b[0m \u001b[1;33m=\u001b[0m \u001b[0mPessoa\u001b[0m\u001b[1;33m(\u001b[0m\u001b[1;33m)\u001b[0m\u001b[1;33m\u001b[0m\u001b[0m\n\u001b[0m",
      "\u001b[1;31mTypeError\u001b[0m: __init__() missing 2 required positional arguments: 'nome' and 'idade'"
     ]
    }
   ],
   "source": [
    "joao = Pessoa()"
   ]
  },
  {
   "cell_type": "code",
   "execution_count": 3,
   "metadata": {},
   "outputs": [
    {
     "name": "stdout",
     "output_type": "stream",
     "text": [
      "<__main__.Pessoa object at 0x066EE2F0> \n",
      "\n",
      "João\n",
      "20\n"
     ]
    }
   ],
   "source": [
    "joao = Pessoa('João', 20)\n",
    "print(joao, '\\n')\n",
    "print(joao.nome)\n",
    "print(joao.idade)"
   ]
  },
  {
   "cell_type": "code",
   "execution_count": 4,
   "metadata": {},
   "outputs": [
    {
     "name": "stdout",
     "output_type": "stream",
     "text": [
      "João Pedro\n"
     ]
    }
   ],
   "source": [
    "joao.nome = 'João Pedro'\n",
    "print(joao.nome)"
   ]
  },
  {
   "cell_type": "code",
   "execution_count": 5,
   "metadata": {},
   "outputs": [
    {
     "name": "stdout",
     "output_type": "stream",
     "text": [
      "<__main__.Pessoa object at 0x066EE3D0>\n",
      "Maria\n",
      "20\n"
     ]
    }
   ],
   "source": [
    "maria = Pessoa('Maria', 20)\n",
    "print(maria)\n",
    "print(maria.nome)\n",
    "print(maria.idade)"
   ]
  },
  {
   "cell_type": "markdown",
   "metadata": {},
   "source": [
    "## Herança"
   ]
  },
  {
   "cell_type": "code",
   "execution_count": 6,
   "metadata": {
    "collapsed": true,
    "jupyter": {
     "outputs_hidden": true
    }
   },
   "outputs": [],
   "source": [
    "class Pessoa(object):\n",
    "    def __init__(self, nome, idade):\n",
    "        self.nome = nome\n",
    "        self.idade = idade"
   ]
  },
  {
   "cell_type": "code",
   "execution_count": 7,
   "metadata": {
    "collapsed": true,
    "jupyter": {
     "outputs_hidden": true
    }
   },
   "outputs": [],
   "source": [
    "class Atleta(Pessoa):\n",
    "    def __init__(self, nome, idade, peso):\n",
    "        Pessoa.__init__(self, nome, idade)\n",
    "        self.peso = peso\n",
    "        self.aposentado = False\n",
    "        \n",
    "    def aquecer(self):\n",
    "        print(\"Atleta Aquecido\")\n",
    "    \n",
    "    def aposentar(self):\n",
    "        self.aposentado = True\n"
   ]
  },
  {
   "cell_type": "code",
   "execution_count": 8,
   "metadata": {},
   "outputs": [
    {
     "name": "stdout",
     "output_type": "stream",
     "text": [
      "False\n"
     ]
    }
   ],
   "source": [
    "jose = Atleta('Jose', 30, 80)\n",
    "print(jose.aposentado)"
   ]
  },
  {
   "cell_type": "code",
   "execution_count": 9,
   "metadata": {},
   "outputs": [
    {
     "name": "stdout",
     "output_type": "stream",
     "text": [
      "True\n"
     ]
    }
   ],
   "source": [
    "jose.aposentar()\n",
    "print(jose.aposentado)"
   ]
  },
  {
   "cell_type": "code",
   "execution_count": 10,
   "metadata": {},
   "outputs": [
    {
     "name": "stdout",
     "output_type": "stream",
     "text": [
      "Atleta Aquecido\n"
     ]
    }
   ],
   "source": [
    "jose.aquecer()"
   ]
  },
  {
   "cell_type": "code",
   "execution_count": 11,
   "metadata": {},
   "outputs": [
    {
     "name": "stdout",
     "output_type": "stream",
     "text": [
      "Zé 30 80\n"
     ]
    }
   ],
   "source": [
    "jose.nome = 'Zé'\n",
    "print(jose.nome, jose.idade, jose.peso)"
   ]
  },
  {
   "cell_type": "code",
   "execution_count": 12,
   "metadata": {
    "collapsed": true,
    "jupyter": {
     "outputs_hidden": true
    }
   },
   "outputs": [],
   "source": [
    "class Corredor(Atleta):\n",
    "    def correr(self):\n",
    "        print(\"Corredor correndo\")\n",
    "\n",
    "class Nadador(Atleta):\n",
    "    def nadar(self):\n",
    "        print(\"Nadador nadando\")\n",
    "\n",
    "class Ciclista(Atleta):\n",
    "    def pedalar(self):\n",
    "        print(\"Ciclista pedalando\")"
   ]
  },
  {
   "cell_type": "code",
   "execution_count": 13,
   "metadata": {},
   "outputs": [
    {
     "name": "stdout",
     "output_type": "stream",
     "text": [
      "['__class__', '__delattr__', '__dict__', '__dir__', '__doc__', '__eq__', '__format__', '__ge__', '__getattribute__', '__gt__', '__hash__', '__init__', '__le__', '__lt__', '__module__', '__ne__', '__new__', '__reduce__', '__reduce_ex__', '__repr__', '__setattr__', '__sizeof__', '__str__', '__subclasshook__', '__weakref__', 'aposentado', 'aposentar', 'aquecer', 'idade', 'nome', 'pedalar', 'peso']\n"
     ]
    }
   ],
   "source": [
    "pedro = Ciclista('Pedro', 30, 100)\n",
    "print(dir(pedro))"
   ]
  },
  {
   "cell_type": "code",
   "execution_count": 14,
   "metadata": {
    "collapsed": true,
    "jupyter": {
     "outputs_hidden": true
    }
   },
   "outputs": [],
   "source": [
    "class Triatleta(Corredor, Nadador, Ciclista):\n",
    "    def triatlo(self):\n",
    "        print(\"Iniciar prova\")"
   ]
  },
  {
   "cell_type": "markdown",
   "metadata": {},
   "source": [
    "## Exercício de 5 minutos\n",
    "\n",
    "    a) Crie uma instancia da classe Pessoa com o nome de joao.\n",
    "    b) Crie uma instancia da classe Atleta com o nome de anderson.\n",
    "    c) Crie uma instancia da classe Corredor com o nome de vanderlei.\n",
    "    d) Crie uma instancia da classe Triatleta com o nome de silvia.\n",
    "    e) Análise o comportamento da criação e teste os métodos existentes em cada uma das instâncias criadas.\n"
   ]
  },
  {
   "cell_type": "code",
   "execution_count": 15,
   "metadata": {},
   "outputs": [
    {
     "name": "stdout",
     "output_type": "stream",
     "text": [
      "['__class__', '__delattr__', '__dict__', '__dir__', '__doc__', '__eq__', '__format__', '__ge__', '__getattribute__', '__gt__', '__hash__', '__init__', '__le__', '__lt__', '__module__', '__ne__', '__new__', '__reduce__', '__reduce_ex__', '__repr__', '__setattr__', '__sizeof__', '__str__', '__subclasshook__', '__weakref__', 'idade', 'nome']\n"
     ]
    }
   ],
   "source": [
    "# a)\n",
    "joao = Pessoa('Joao', 20)\n",
    "print(dir(joao))"
   ]
  },
  {
   "cell_type": "code",
   "execution_count": 16,
   "metadata": {},
   "outputs": [
    {
     "name": "stdout",
     "output_type": "stream",
     "text": [
      "['__class__', '__delattr__', '__dict__', '__dir__', '__doc__', '__eq__', '__format__', '__ge__', '__getattribute__', '__gt__', '__hash__', '__init__', '__le__', '__lt__', '__module__', '__ne__', '__new__', '__reduce__', '__reduce_ex__', '__repr__', '__setattr__', '__sizeof__', '__str__', '__subclasshook__', '__weakref__', 'aposentado', 'aposentar', 'aquecer', 'idade', 'nome', 'peso']\n"
     ]
    }
   ],
   "source": [
    "# b)\n",
    "anderson = Atleta('Anderson', 30, 80)\n",
    "print(dir(anderson))"
   ]
  },
  {
   "cell_type": "code",
   "execution_count": 17,
   "metadata": {},
   "outputs": [
    {
     "name": "stdout",
     "output_type": "stream",
     "text": [
      "['__class__', '__delattr__', '__dict__', '__dir__', '__doc__', '__eq__', '__format__', '__ge__', '__getattribute__', '__gt__', '__hash__', '__init__', '__le__', '__lt__', '__module__', '__ne__', '__new__', '__reduce__', '__reduce_ex__', '__repr__', '__setattr__', '__sizeof__', '__str__', '__subclasshook__', '__weakref__', 'aposentado', 'aposentar', 'aquecer', 'correr', 'idade', 'nome', 'peso']\n"
     ]
    }
   ],
   "source": [
    "# c)\n",
    "vanderlei = Corredor('Vanderlei', 30, 80)\n",
    "print(dir(vanderlei))"
   ]
  },
  {
   "cell_type": "code",
   "execution_count": 18,
   "metadata": {},
   "outputs": [
    {
     "name": "stdout",
     "output_type": "stream",
     "text": [
      "['__class__', '__delattr__', '__dict__', '__dir__', '__doc__', '__eq__', '__format__', '__ge__', '__getattribute__', '__gt__', '__hash__', '__init__', '__le__', '__lt__', '__module__', '__ne__', '__new__', '__reduce__', '__reduce_ex__', '__repr__', '__setattr__', '__sizeof__', '__str__', '__subclasshook__', '__weakref__', 'aposentado', 'aposentar', 'aquecer', 'correr', 'idade', 'nadar', 'nome', 'pedalar', 'peso', 'triatlo']\n"
     ]
    }
   ],
   "source": [
    "# d)\n",
    "silvia = Triatleta('Silvia', 30, 80)\n",
    "print(dir(silvia))"
   ]
  }
 ],
 "metadata": {
  "kernelspec": {
   "display_name": "Python 3",
   "language": "python",
   "name": "python3"
  },
  "language_info": {
   "codemirror_mode": {
    "name": "ipython",
    "version": 3
   },
   "file_extension": ".py",
   "mimetype": "text/x-python",
   "name": "python",
   "nbconvert_exporter": "python",
   "pygments_lexer": "ipython3",
   "version": "3.8.5"
  }
 },
 "nbformat": 4,
 "nbformat_minor": 4
}
