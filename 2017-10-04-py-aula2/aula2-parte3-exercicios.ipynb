{
 "cells": [
  {
   "cell_type": "markdown",
   "metadata": {},
   "source": [
    "# Exercícios\n",
    "\n",
    "1 - Escreva uma função chamada carregar_arquivo, que lê o conteúdo do arquivo dados.txt. Esse arquivo contém uma palavra em cada linha. Para cada linha lida, deve-se adicionar a palavra em uma lista. Ao final do código deve-se retornar a lista criada contendo todas as palavras. Lembre-se de remover o ```\\n```.\n",
    "\n",
    "    def carregar_arquivo():\n"
   ]
  },
  {
   "cell_type": "code",
   "execution_count": 1,
   "metadata": {
    "collapsed": true,
    "jupyter": {
     "outputs_hidden": true
    }
   },
   "outputs": [],
   "source": [
    "def carregar_arquivo(nome_arquivo):\n",
    "    arq = open(nome_arquivo, 'r')\n",
    "    lst = arq.readlines()\n",
    "    arq.close()\n",
    "    aux_lst = []\n",
    "    for item in lst:\n",
    "        aux_lst.append(item[:-1])\n",
    "    return aux_lst"
   ]
  },
  {
   "cell_type": "code",
   "execution_count": 2,
   "metadata": {},
   "outputs": [
    {
     "name": "stdout",
     "output_type": "stream",
     "text": [
      "['carro', 'navio', 'nuvem', 'big data', 'dinheiro', 'python', 'fia', 'programas', 'codigos', 'big data', 'dinheiro', 'programas', 'codigos', 'big data', 'dinheiro', 'programas', 'codigos', 'big data', 'dinheiro', 'programas', 'codigos', 'big data', 'dinheiro', 'programas', 'codigos', 'big data', 'dinheiro', 'python', 'fia', 'programas', 'codigos', 'big data', 'dinheiro', 'python', 'fia', 'programas', 'codigos', 'big data', 'dinheiro', 'python', 'fia', 'programas', 'codigos', 'big data', 'dinheiro', 'python', 'fia', 'programas', 'codigos', 'big data', 'dinheiro', 'fia', 'programas', 'codigos', 'big data', 'dinheiro', 'fia', 'programas', 'codigos', 'big data', 'dinheiro', 'fia', 'programas', 'codigos', 'big data', 'dinheiro', 'fia', 'programas', 'codigos', 'big data', 'dinheiro', 'python', 'fia', 'programas', 'codigos', 'dinheiro', 'python', 'fia', 'programas', 'codigos', 'dinheiro', 'python', 'fia', 'programas', 'codigos', 'dinheiro', 'python', 'fia', 'programas', 'codigos', 'dinheiro', 'python', 'fia', 'programas', 'codigos', 'dinheiro', 'python', 'fia', 'programas', 'codigos', 'fia', 'programas', 'codigos', 'big data', 'dinheiro', 'python', 'fia', 'programas', 'codigos', 'dinheiro', 'python', 'fia', 'programas', 'codigos', 'dinheiro', 'python', 'fia', 'programas', 'codigos', 'big data', 'dinheiro', 'python', 'fia', 'programas', 'codigos', 'dinheiro', 'python', 'fia', 'programas', 'codigos', 'dinheiro', 'python', 'carro', 'navio', 'nuvem', 'big data', 'dinheiro', 'python', 'fia', 'programas', 'codigos', 'big data', 'carro', 'navio', 'nuvem', 'big data', 'dinheiro', 'python', 'fia', 'programas', 'codigos', 'big data', 'fia', 'programas', 'codigos', 'dinheiro', 'python', 'fia', 'programas', 'codigos', 'dinheiro', 'python', 'carro', 'navio', 'nuvem', 'big data', 'dinheiro', 'python', 'fia', 'programas', 'codigos', 'big data', 'carro', 'navio', 'nuvem', 'big data', 'dinheiro', 'programas', 'codigos', 'dinheiro', 'python', 'fia', 'programas', 'codigos', 'dinheiro', 'python', 'fia', 'programas', 'codigos', 'dinheiro', 'python', 'fia', 'programas', 'codigos', 'dinheiro', 'python', 'fia', 'fia', 'programas', 'codigo']\n"
     ]
    }
   ],
   "source": [
    "dados = carregar_arquivo('dados.txt')\n",
    "print(dados)"
   ]
  },
  {
   "cell_type": "markdown",
   "metadata": {},
   "source": [
    "2 - Crie uma função chamada remover_repetidos. Essa função deve receber uma lista como parâmetro. Deve-se remover todos as palavras repetidas. Utilize uma lista auxiliar para facilitar. Ao final retorne a lista.\n",
    "\n",
    "    def remover_repetidos(dados):"
   ]
  },
  {
   "cell_type": "code",
   "execution_count": 3,
   "metadata": {
    "collapsed": true,
    "jupyter": {
     "outputs_hidden": true
    }
   },
   "outputs": [],
   "source": [
    "def remover_repetidos(dados):\n",
    "    aux = []\n",
    "    for item in dados:\n",
    "        if item not in aux:\n",
    "            aux.append(item)\n",
    "            \n",
    "    # Uma outra opção é utilizar o tipo de dados set.\n",
    "    # Esse tipo de dados remove os repetidos e salva com o tipo set.\n",
    "    # Depois é necessário converter novamente para lista.\n",
    "    #aux_lst = list(set(lista))\n",
    "    #print len(aux_lst)\n",
    "    return aux"
   ]
  },
  {
   "cell_type": "code",
   "execution_count": 4,
   "metadata": {},
   "outputs": [
    {
     "name": "stdout",
     "output_type": "stream",
     "text": [
      "['carro', 'navio', 'nuvem', 'big data', 'dinheiro', 'python', 'fia', 'programas', 'codigos', 'codigo']\n"
     ]
    }
   ],
   "source": [
    "dados_unicos = remover_repetidos(dados)\n",
    "print(dados_unicos)"
   ]
  },
  {
   "cell_type": "markdown",
   "metadata": {},
   "source": [
    "3 - Agora, crie uma função chamada ```verificar_repetidos```. Essa função irá receber duas lista como parâmetro. Uma com todas as palavras lidas do arquivo e outra sem as palavras repetidas. Verifique a quantidade de vezes que as palavras aparecem. Ao final imprima a lista de palavras e a quantidade de vezes de cada palavra.\n",
    "\n",
    "    def verificar_repetidos(dados, dados_unicos):\n",
    "\n",
    "Exemplo de saída:\n",
    "\n",
    "    carro – 10\n",
    "    fia - 8\n",
    "    big data - 5\n"
   ]
  },
  {
   "cell_type": "code",
   "execution_count": 5,
   "metadata": {
    "collapsed": true,
    "jupyter": {
     "outputs_hidden": true
    }
   },
   "outputs": [],
   "source": [
    "def verificar_repetidos(dados, dados_unicos):\n",
    "    for item in dados_unicos:\n",
    "        print(\"{} - {}\".format(item, dados.count(item)))"
   ]
  },
  {
   "cell_type": "code",
   "execution_count": 6,
   "metadata": {},
   "outputs": [
    {
     "name": "stdout",
     "output_type": "stream",
     "text": [
      "carro - 5\n",
      "navio - 5\n",
      "nuvem - 5\n",
      "big data - 23\n",
      "dinheiro - 35\n",
      "python - 26\n",
      "fia - 31\n",
      "programas - 35\n",
      "codigos - 34\n",
      "codigo - 1\n"
     ]
    }
   ],
   "source": [
    "verificar_repetidos(dados, dados_unicos)"
   ]
  },
  {
   "cell_type": "markdown",
   "metadata": {},
   "source": [
    "4 - Modifique a classe pessoa vista em aula:\n",
    "\n",
    "    a) Crie um método para calcular a idade em meses, chamado calcular_meses.\n",
    "    b) Instancie a classe com os seguintes argumentos\n",
    "        Nome: 'João Silva'\n",
    "        Idade: 42\n",
    "    c) Imprima a seguinte frase:\n",
    "        \"Y tem X meses de vida\", onde Y é o nome e X é o calculo da idade em meses.\n"
   ]
  },
  {
   "cell_type": "code",
   "execution_count": 7,
   "metadata": {
    "collapsed": true,
    "jupyter": {
     "outputs_hidden": true
    }
   },
   "outputs": [],
   "source": [
    "# Resposta a)\n",
    "class Pessoa(object):\n",
    "    def __init__(self, nome, idade):\n",
    "        self.nome = nome\n",
    "        self.idade = idade\n",
    "        \n",
    "    def calcular_meses(self):\n",
    "        self.total_meses = 12 * self.idade\n",
    "        return self.total_meses"
   ]
  },
  {
   "cell_type": "code",
   "execution_count": 8,
   "metadata": {
    "collapsed": true,
    "jupyter": {
     "outputs_hidden": true
    }
   },
   "outputs": [],
   "source": [
    "# Resposta b)\n",
    "joao = Pessoa('João Silva', 42)"
   ]
  },
  {
   "cell_type": "code",
   "execution_count": 9,
   "metadata": {},
   "outputs": [
    {
     "name": "stdout",
     "output_type": "stream",
     "text": [
      "João Silva tem 504 meses de vida\n"
     ]
    }
   ],
   "source": [
    "# Resposta c)\n",
    "print(\"{} tem {} meses de vida\".format(joao.nome, joao.calcular_meses()))"
   ]
  },
  {
   "cell_type": "markdown",
   "metadata": {},
   "source": [
    "5 - Crie uma classe que modele um quadrado:\n",
    "\n",
    "    Atributo privado: tamanho do lado (tam_lado)\n",
    "    Comportamentos:\n",
    "        - Mudar valor do lado;\n",
    "        - Retornar valor do lado; e\n",
    "        - Calcular área;\n",
    "    a) Instancie a classe com o valor de 4.\n",
    "    b) Modifique o valor do lado para 8.\n",
    "    c) Imprima a área calculada."
   ]
  },
  {
   "cell_type": "code",
   "execution_count": 10,
   "metadata": {
    "collapsed": true,
    "jupyter": {
     "outputs_hidden": true
    }
   },
   "outputs": [],
   "source": [
    "class Quadrado(object):\n",
    "    def __init__(self, tam_lado):\n",
    "        self.tam_lado = tam_lado\n",
    "        \n",
    "    def calcular_area(self):\n",
    "        return self.tam_lado * self.tam_lado   \n",
    "        "
   ]
  },
  {
   "cell_type": "code",
   "execution_count": 11,
   "metadata": {},
   "outputs": [
    {
     "name": "stdout",
     "output_type": "stream",
     "text": [
      "4\n"
     ]
    }
   ],
   "source": [
    "# Resposta a)\n",
    "quadrado = Quadrado(4)\n",
    "print(quadrado.tam_lado)"
   ]
  },
  {
   "cell_type": "code",
   "execution_count": 12,
   "metadata": {
    "collapsed": true,
    "jupyter": {
     "outputs_hidden": true
    }
   },
   "outputs": [],
   "source": [
    "# Resposta b)\n",
    "quadrado.tam_lado = 8"
   ]
  },
  {
   "cell_type": "code",
   "execution_count": 13,
   "metadata": {},
   "outputs": [
    {
     "name": "stdout",
     "output_type": "stream",
     "text": [
      "A área calculada foi de 64.\n"
     ]
    }
   ],
   "source": [
    "# Resposta c)\n",
    "print('A área calculada foi de {}.'.format(quadrado.calcular_area()))"
   ]
  }
 ],
 "metadata": {
  "kernelspec": {
   "display_name": "Python 3",
   "language": "python",
   "name": "python3"
  },
  "language_info": {
   "codemirror_mode": {
    "name": "ipython",
    "version": 3
   },
   "file_extension": ".py",
   "mimetype": "text/x-python",
   "name": "python",
   "nbconvert_exporter": "python",
   "pygments_lexer": "ipython3",
   "version": "3.8.5"
  }
 },
 "nbformat": 4,
 "nbformat_minor": 4
}
