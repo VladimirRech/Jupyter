{
 "cells": [
  {
   "cell_type": "markdown",
   "metadata": {},
   "source": [
    "# Funções\n",
    "\n",
    "* Até agora, vimos diversos tipos de dados, atribuições, comparações e estruturas de controle.\n",
    "* A ideia da função é dividir para conquistar, onde:\n",
    "    * Um problema é dividido em diversos subproblemas\n",
    "    * As soluções dos subproblemas são combinadas numa solução do problema maior.\n",
    "* Esses subproblemas têm o nome de funções.\n",
    "\n",
    "\n",
    "* Uma função tem 3 partes importantes:\n",
    "```\n",
    "def <nome> ( <parametros> ):\n",
    "        <corpo da função>\n",
    "```\n",
    "\n",
    "* ```def``` é uma palavra chave\n",
    "* ```<nome>``` é qualquer nome aceito pelo Python\n",
    "* ```<parametros>``` é a quantidade de parâmetros que será passado para a função (pode ser nenhum).\n",
    "* ```<corpo da função>``` contém o código da função.\n",
    "\n",
    "Exemplo de função para calcular o máximo entre dois número:"
   ]
  },
  {
   "cell_type": "code",
   "execution_count": 1,
   "metadata": {
    "collapsed": true,
    "jupyter": {
     "outputs_hidden": true
    }
   },
   "outputs": [],
   "source": [
    "def maximo(x, y):\n",
    "    if x > y:\n",
    "        return x\n",
    "    else:\n",
    "        return y"
   ]
  },
  {
   "cell_type": "markdown",
   "metadata": {},
   "source": [
    "Utilizando a função:"
   ]
  },
  {
   "cell_type": "code",
   "execution_count": 2,
   "metadata": {
    "collapsed": true,
    "jupyter": {
     "outputs_hidden": true
    }
   },
   "outputs": [],
   "source": [
    "z = maximo(3, 4)"
   ]
  },
  {
   "cell_type": "code",
   "execution_count": 3,
   "metadata": {},
   "outputs": [
    {
     "name": "stdout",
     "output_type": "stream",
     "text": [
      "4\n"
     ]
    }
   ],
   "source": [
    "print(z)"
   ]
  },
  {
   "cell_type": "code",
   "execution_count": 4,
   "metadata": {},
   "outputs": [
    {
     "name": "stdout",
     "output_type": "stream",
     "text": [
      "O maximo é 30\n"
     ]
    }
   ],
   "source": [
    "print(\"O maximo é {}\".format(maximo(10,30)))"
   ]
  },
  {
   "cell_type": "code",
   "execution_count": 5,
   "metadata": {},
   "outputs": [
    {
     "name": "stdout",
     "output_type": "stream",
     "text": [
      "O maximo é 10\n"
     ]
    }
   ],
   "source": [
    "print(\"O maximo é {}\".format(maximo(10,5)))"
   ]
  },
  {
   "cell_type": "markdown",
   "metadata": {},
   "source": [
    "Já entendemos o que é e como criar funções. \n",
    "\n",
    "Para testar vamos criar uma função que irá realizar uma conta."
   ]
  },
  {
   "cell_type": "code",
   "execution_count": 6,
   "metadata": {
    "collapsed": true,
    "jupyter": {
     "outputs_hidden": true
    }
   },
   "outputs": [],
   "source": [
    "def economias (dinheiro, conta, gastos):\n",
    "    total = (dinheiro + conta) - gastos\n",
    "    return (total)"
   ]
  },
  {
   "cell_type": "code",
   "execution_count": 7,
   "metadata": {},
   "outputs": [
    {
     "name": "stdout",
     "output_type": "stream",
     "text": [
      "20\n"
     ]
    }
   ],
   "source": [
    "eco = economias(10, 20, 10)\n",
    "print(eco)"
   ]
  },
  {
   "cell_type": "markdown",
   "metadata": {},
   "source": [
    "**Também podemos definir um valor padrão para um ou mais argumentos**\n",
    "\n",
    "Vamos reescrever a função economias para que os gastos sejam fixados em 150, caso não seja passado nenhum valor por padrão."
   ]
  },
  {
   "cell_type": "code",
   "execution_count": 8,
   "metadata": {
    "collapsed": true,
    "jupyter": {
     "outputs_hidden": true
    }
   },
   "outputs": [],
   "source": [
    "def economias(dinheiro, conta, gastos=150):\n",
    "    total = (dinheiro + conta) - gastos\n",
    "    return(total)"
   ]
  },
  {
   "cell_type": "code",
   "execution_count": 9,
   "metadata": {},
   "outputs": [
    {
     "name": "stdout",
     "output_type": "stream",
     "text": [
      "10\n"
     ]
    }
   ],
   "source": [
    "print(economias(100, 60))"
   ]
  },
  {
   "cell_type": "code",
   "execution_count": 10,
   "metadata": {},
   "outputs": [
    {
     "name": "stdout",
     "output_type": "stream",
     "text": [
      "150\n"
     ]
    }
   ],
   "source": [
    "print(economias(100, 60, 10))"
   ]
  },
  {
   "cell_type": "markdown",
   "metadata": {},
   "source": [
    "É importante notar que uma variável que está dentro de uma função, não pode ser utilizada novamente enquanto a função não terminar de ser executada. \n",
    "\n",
    "No mundo da programação, isso é chamado de escopo. Vamos tentar imprimir o valor da variável dinheiro."
   ]
  },
  {
   "cell_type": "code",
   "execution_count": 11,
   "metadata": {},
   "outputs": [
    {
     "ename": "NameError",
     "evalue": "name 'dinheiro' is not defined",
     "output_type": "error",
     "traceback": [
      "\u001b[1;31m---------------------------------------------------------------------------\u001b[0m",
      "\u001b[1;31mNameError\u001b[0m                                 Traceback (most recent call last)",
      "\u001b[1;32m<ipython-input-11-7f3f8da2b4c1>\u001b[0m in \u001b[0;36m<module>\u001b[1;34m()\u001b[0m\n\u001b[1;32m----> 1\u001b[1;33m \u001b[0mprint\u001b[0m\u001b[1;33m(\u001b[0m\u001b[0mdinheiro\u001b[0m\u001b[1;33m)\u001b[0m\u001b[1;33m\u001b[0m\u001b[0m\n\u001b[0m",
      "\u001b[1;31mNameError\u001b[0m: name 'dinheiro' is not defined"
     ]
    }
   ],
   "source": [
    "print(dinheiro)"
   ]
  },
  {
   "cell_type": "markdown",
   "metadata": {},
   "source": [
    "**<span style=\"color:blue;\">Por que isso aconteceu?</span>**\n",
    "\n",
    "Esse erro acontece pois a variável dinheiro somente existe dentro da função economias, ou seja, ela existe apenas no contexto local dessa função.\n",
    "\n",
    "Vamos modificar novamente a função economias:"
   ]
  },
  {
   "cell_type": "code",
   "execution_count": 12,
   "metadata": {},
   "outputs": [],
   "source": [
    "def economias(dinheiro, conta, gastos=150):\n",
    "    total = (dinheiro + conta) - gastos\n",
    "    total = total + eco\n",
    "    return(total)"
   ]
  },
  {
   "cell_type": "code",
   "execution_count": 13,
   "metadata": {},
   "outputs": [
    {
     "name": "stdout",
     "output_type": "stream",
     "text": [
      "30\n"
     ]
    }
   ],
   "source": [
    "print(economias(100,60))"
   ]
  },
  {
   "cell_type": "markdown",
   "metadata": {},
   "source": [
    "**<span style=\"color:blue;\">Por que não deu problema?</span>**\n",
    "\n",
    "Quando utilizamos uma variável que não está dentro da função, mas foi definida antes, o erro não acontece. Pois nesse caso estamos utilizando a ideia de variáveis globais, onde dentro do contexto geral do programa essa variável foi criada com algum valor e portanto pode ser utilizada dentro da função.\n",
    "\n",
    "<span style=\"color:red;\">Isso não é recomendado! O correto seria ter um novo argumento!</span>"
   ]
  },
  {
   "cell_type": "markdown",
   "metadata": {},
   "source": [
    "#### Exercício de Funções\n",
    "\n",
    "Crie uma função que receba dois argumentos.\n",
    "* O primeiro argumento é o valor de um determinado serviço\n",
    "* O segundo é a porcentagem da multa por atraso do pagamento. O valor padrão da porcentagem, se não passado, é de 7%. A função deve retornar o valor final da conta com o juros. Lembre-se de converter 7%."
   ]
  },
  {
   "cell_type": "code",
   "execution_count": 14,
   "metadata": {
    "collapsed": true,
    "jupyter": {
     "outputs_hidden": true
    }
   },
   "outputs": [],
   "source": [
    "def conta(valor, multa=7):\n",
    "    total = valor + (valor * (multa/100))\n",
    "    return total"
   ]
  },
  {
   "cell_type": "code",
   "execution_count": 15,
   "metadata": {},
   "outputs": [
    {
     "name": "stdout",
     "output_type": "stream",
     "text": [
      "107.0\n"
     ]
    }
   ],
   "source": [
    "# Execute essa cedula para testar\n",
    "print(conta(100))"
   ]
  },
  {
   "cell_type": "code",
   "execution_count": 16,
   "metadata": {},
   "outputs": [
    {
     "name": "stdout",
     "output_type": "stream",
     "text": [
      "110.0\n"
     ]
    }
   ],
   "source": [
    "# Execute essa cedula para testar\n",
    "print(conta(100, 10))"
   ]
  },
  {
   "cell_type": "markdown",
   "metadata": {},
   "source": [
    "## Funções embutidas\n",
    "\n",
    "Python já vem com diversas funções embutidas, que estão prontas para serem utilizadas.\n",
    "\n",
    "Uma lista completa pode ser encontrada em https://docs.python.org/3/library/functions.html.\n",
    "\n",
    "<span style=\"color:blue;\">Já utilizamos algumas delas! Quais?</span>\n",
    "\n",
    "### input\n",
    "\n",
    "Uma outra função que é bem interessante, é a ```input```. Essa função permite que o usuário digite uma entrada, por exemplo:"
   ]
  },
  {
   "cell_type": "code",
   "execution_count": 17,
   "metadata": {},
   "outputs": [
    {
     "name": "stdout",
     "output_type": "stream",
     "text": [
      "Digite sua idade:30\n",
      "30\n"
     ]
    }
   ],
   "source": [
    "idade = input('Digite sua idade:')\n",
    "print(idade)"
   ]
  },
  {
   "cell_type": "code",
   "execution_count": 18,
   "metadata": {},
   "outputs": [
    {
     "name": "stdout",
     "output_type": "stream",
     "text": [
      "Digite seu nome:Dino\n",
      "Dino\n"
     ]
    }
   ],
   "source": [
    "nome = input('Digite seu nome:')\n",
    "print(nome)"
   ]
  },
  {
   "cell_type": "code",
   "execution_count": 19,
   "metadata": {},
   "outputs": [
    {
     "name": "stdout",
     "output_type": "stream",
     "text": [
      "<class 'str'>\n"
     ]
    }
   ],
   "source": [
    "print(type(idade))"
   ]
  },
  {
   "cell_type": "code",
   "execution_count": 20,
   "metadata": {},
   "outputs": [
    {
     "name": "stdout",
     "output_type": "stream",
     "text": [
      "<class 'str'>\n"
     ]
    }
   ],
   "source": [
    "print(type(nome))"
   ]
  },
  {
   "cell_type": "markdown",
   "metadata": {},
   "source": [
    "Note que ambas as variáveis são strings. Portanto precisamos converter para inteiro a idade."
   ]
  },
  {
   "cell_type": "code",
   "execution_count": 21,
   "metadata": {},
   "outputs": [
    {
     "name": "stdout",
     "output_type": "stream",
     "text": [
      "Digite sua idade:30\n"
     ]
    }
   ],
   "source": [
    "idade = int(input(\"Digite sua idade:\"))"
   ]
  },
  {
   "cell_type": "code",
   "execution_count": 22,
   "metadata": {},
   "outputs": [
    {
     "name": "stdout",
     "output_type": "stream",
     "text": [
      "<class 'int'>\n"
     ]
    }
   ],
   "source": [
    "print(type(idade))"
   ]
  },
  {
   "cell_type": "markdown",
   "metadata": {},
   "source": [
    "### open"
   ]
  },
  {
   "cell_type": "markdown",
   "metadata": {},
   "source": [
    "A função ```open```, permite abrir um arquivo para leitura e escrita.\n",
    "\n",
    "    open(nome_do_arquivo, modo)\n",
    "    \n",
    "Modos:\n",
    "        * r - abre o arquivo para leitura.\n",
    "        * w - abre o arquivo para escrita.\n",
    "        * a - abre o arquivo para escrita acresentando os dados no final do arquivo.\n",
    "        * + - pode ser lido e escrito simultaneamente."
   ]
  },
  {
   "cell_type": "code",
   "execution_count": 23,
   "metadata": {
    "collapsed": true,
    "jupyter": {
     "outputs_hidden": true
    }
   },
   "outputs": [],
   "source": [
    "import os\n",
    "os.remove(\"arquivo.txt\")"
   ]
  },
  {
   "cell_type": "code",
   "execution_count": 24,
   "metadata": {
    "collapsed": true,
    "jupyter": {
     "outputs_hidden": true
    }
   },
   "outputs": [],
   "source": [
    "arq = open(\"arquivo.txt\", \"w\")"
   ]
  },
  {
   "cell_type": "code",
   "execution_count": 25,
   "metadata": {
    "collapsed": true,
    "jupyter": {
     "outputs_hidden": true
    }
   },
   "outputs": [],
   "source": [
    "for i in range(1, 5):\n",
    "    arq.write('{}. Escrevendo em arquivo\\n'.format(i))"
   ]
  },
  {
   "cell_type": "code",
   "execution_count": 26,
   "metadata": {
    "collapsed": true,
    "jupyter": {
     "outputs_hidden": true
    }
   },
   "outputs": [],
   "source": [
    "arq.close()"
   ]
  },
  {
   "cell_type": "markdown",
   "metadata": {},
   "source": [
    "#### Métodos\n",
    "\n",
    "* ```read()``` - retorna uma string única com todo o conteúdo do arquivo.\n",
    "* ```readlines()``` - todo o conteúdo do arquivo é salvo em uma lista, onde cada linha do arquivo será uma elemento da lista."
   ]
  },
  {
   "cell_type": "code",
   "execution_count": 27,
   "metadata": {},
   "outputs": [
    {
     "name": "stdout",
     "output_type": "stream",
     "text": [
      "<_io.TextIOWrapper name='arquivo.txt' mode='r' encoding='cp1252'> \n",
      "\n",
      "1. Escrevendo em arquivo\n",
      "2. Escrevendo em arquivo\n",
      "3. Escrevendo em arquivo\n",
      "4. Escrevendo em arquivo\n",
      "\n"
     ]
    }
   ],
   "source": [
    "f = open(\"arquivo.txt\", \"r\")\n",
    "print(f, '\\n')\n",
    "texto = f.read()\n",
    "print(texto)\n",
    "f.close()"
   ]
  },
  {
   "cell_type": "code",
   "execution_count": 28,
   "metadata": {},
   "outputs": [
    {
     "name": "stdout",
     "output_type": "stream",
     "text": [
      "['1. Escrevendo em arquivo\\n', '2. Escrevendo em arquivo\\n', '3. Escrevendo em arquivo\\n', '4. Escrevendo em arquivo\\n']\n"
     ]
    }
   ],
   "source": [
    "f = open(\"arquivo.txt\", \"r\")\n",
    "texto = f.readlines()\n",
    "print(texto)\n",
    "#f.close()"
   ]
  },
  {
   "cell_type": "code",
   "execution_count": 29,
   "metadata": {},
   "outputs": [
    {
     "name": "stdout",
     "output_type": "stream",
     "text": [
      "Help on built-in function readlines:\n",
      "\n",
      "readlines(hint=-1, /) method of _io.TextIOWrapper instance\n",
      "    Return a list of lines from the stream.\n",
      "    \n",
      "    hint can be specified to control the number of lines read: no more\n",
      "    lines will be read if the total size (in bytes/characters) of all\n",
      "    lines so far exceeds hint.\n",
      "\n"
     ]
    }
   ],
   "source": [
    "help(f.readlines)"
   ]
  },
  {
   "cell_type": "markdown",
   "metadata": {},
   "source": [
    "Para remover o ```\\n``` podemos utilizar o método ```read``` que irá gerar uma única string e depois aplicamos o método ```splitlines```."
   ]
  },
  {
   "cell_type": "code",
   "execution_count": 30,
   "metadata": {},
   "outputs": [
    {
     "name": "stdout",
     "output_type": "stream",
     "text": [
      "['1. Escrevendo em arquivo', '2. Escrevendo em arquivo', '3. Escrevendo em arquivo', '4. Escrevendo em arquivo']\n"
     ]
    }
   ],
   "source": [
    "f = open(\"arquivo.txt\", \"r\")\n",
    "texto = f.read().splitlines()\n",
    "print(texto)\n",
    "f.close()"
   ]
  }
 ],
 "metadata": {
  "kernelspec": {
   "display_name": "Python 3",
   "language": "python",
   "name": "python3"
  },
  "language_info": {
   "codemirror_mode": {
    "name": "ipython",
    "version": 3
   },
   "file_extension": ".py",
   "mimetype": "text/x-python",
   "name": "python",
   "nbconvert_exporter": "python",
   "pygments_lexer": "ipython3",
   "version": "3.8.5"
  }
 },
 "nbformat": 4,
 "nbformat_minor": 4
}
