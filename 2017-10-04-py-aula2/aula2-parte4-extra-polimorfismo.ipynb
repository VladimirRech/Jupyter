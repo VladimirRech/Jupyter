{
 "cells": [
  {
   "cell_type": "markdown",
   "metadata": {
    "collapsed": true
   },
   "source": [
    "# Polimorfismo"
   ]
  },
  {
   "cell_type": "code",
   "execution_count": 1,
   "metadata": {
    "collapsed": false
   },
   "outputs": [],
   "source": [
    "class Time():\n",
    "    def campeonato(self):\n",
    "        print('Campeonato Brasileiro de Futebol')\n",
    "    def nome(self):\n",
    "        print('Um time de futebol')\n",
    "    def tradicao(self):\n",
    "        print('Um time decente sempre traz titulos para sua torcida')\n",
    "\n",
    "class Atletico(Time):\n",
    "    def nome(self):\n",
    "        print('Clube Atletico Mineiro')\n",
    "    def tradicao(self):\n",
    "        print('Nao ganha nada desde 1971')\n",
    "\n",
    "class Cruzeiro(Time):\n",
    "    def nome(self):\n",
    "        print('Cruzeiro Esporte Clube')"
   ]
  },
  {
   "cell_type": "code",
   "execution_count": 2,
   "metadata": {
    "collapsed": false
   },
   "outputs": [],
   "source": [
    "def main():\n",
    "    cam = Atletico()\n",
    "    cru = Cruzeiro()\n",
    "    \n",
    "\n",
    "\n",
    "if __name__ == \"__main__\": main()"
   ]
  },
  {
   "cell_type": "code",
   "execution_count": 3,
   "metadata": {
    "collapsed": true
   },
   "outputs": [],
   "source": [
    "cam = Atletico()\n",
    "cru = Cruzeiro()"
   ]
  },
  {
   "cell_type": "code",
   "execution_count": 4,
   "metadata": {
    "collapsed": false
   },
   "outputs": [
    {
     "name": "stdout",
     "output_type": "stream",
     "text": [
      "cam: \n",
      "\n",
      "Clube Atletico Mineiro\n",
      "Campeonato Brasileiro de Futebol\n",
      "Nao ganha nada desde 1971\n"
     ]
    }
   ],
   "source": [
    "print('cam: \\n')\n",
    "cam.nome()\n",
    "cam.campeonato()\n",
    "cam.tradicao()"
   ]
  },
  {
   "cell_type": "code",
   "execution_count": 5,
   "metadata": {
    "collapsed": false
   },
   "outputs": [
    {
     "name": "stdout",
     "output_type": "stream",
     "text": [
      "cru: \n",
      "\n",
      "Cruzeiro Esporte Clube\n",
      "Campeonato Brasileiro de Futebol\n",
      "Um time decente sempre traz titulos para sua torcida\n"
     ]
    }
   ],
   "source": [
    "print('cru: \\n')\n",
    "cru.nome()\n",
    "cru.campeonato()\n",
    "cru.tradicao()"
   ]
  },
  {
   "cell_type": "code",
   "execution_count": null,
   "metadata": {
    "collapsed": true
   },
   "outputs": [],
   "source": []
  }
 ],
 "metadata": {
  "kernelspec": {
   "display_name": "Python 3",
   "language": "python",
   "name": "python3"
  },
  "language_info": {
   "codemirror_mode": {
    "name": "ipython",
    "version": 3
   },
   "file_extension": ".py",
   "mimetype": "text/x-python",
   "name": "python",
   "nbconvert_exporter": "python",
   "pygments_lexer": "ipython3",
   "version": "3.5.1"
  }
 },
 "nbformat": 4,
 "nbformat_minor": 0
}
