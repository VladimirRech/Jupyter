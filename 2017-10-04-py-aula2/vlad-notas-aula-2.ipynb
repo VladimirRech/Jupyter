{
 "cells": [
  {
   "cell_type": "markdown",
   "metadata": {},
   "source": [
    "# Notas da aula 2"
   ]
  },
  {
   "cell_type": "code",
   "execution_count": 6,
   "metadata": {},
   "outputs": [
    {
     "name": "stdout",
     "output_type": "stream",
     "text": [
      "Valor final aplicando 100 à taxa de 2 em 30 vezes: 3002.0\n",
      "Valor final aplicando 234 à taxa de 30 em 1 vezes: 304.2\n"
     ]
    },
    {
     "ename": "TypeError",
     "evalue": "capitalize() missing 1 required positional argument: 'tax'",
     "output_type": "error",
     "traceback": [
      "\u001b[0;31m---------------------------------------------------------------------------\u001b[0m",
      "\u001b[0;31mTypeError\u001b[0m                                 Traceback (most recent call last)",
      "\u001b[0;32m<ipython-input-6-70eec1ba6e8a>\u001b[0m in \u001b[0;36m<module>\u001b[0;34m\u001b[0m\n\u001b[1;32m      8\u001b[0m \u001b[0mcapitalize\u001b[0m\u001b[0;34m(\u001b[0m\u001b[0;36m234\u001b[0m\u001b[0;34m,\u001b[0m \u001b[0;36m30\u001b[0m\u001b[0;34m)\u001b[0m\u001b[0;34m\u001b[0m\u001b[0;34m\u001b[0m\u001b[0m\n\u001b[1;32m      9\u001b[0m \u001b[0;31m# aqui vai dar erro\u001b[0m\u001b[0;34m\u001b[0m\u001b[0;34m\u001b[0m\u001b[0;34m\u001b[0m\u001b[0m\n\u001b[0;32m---> 10\u001b[0;31m \u001b[0mcapitalize\u001b[0m\u001b[0;34m(\u001b[0m\u001b[0;36m234\u001b[0m\u001b[0;34m)\u001b[0m\u001b[0;34m\u001b[0m\u001b[0;34m\u001b[0m\u001b[0m\n\u001b[0m",
      "\u001b[0;31mTypeError\u001b[0m: capitalize() missing 1 required positional argument: 'tax'"
     ]
    }
   ],
   "source": [
    "# Funções com valores pré-definidos\n",
    "\n",
    "def capitalize(capital, tax, amount = 1):\n",
    "    op = amount + (tax / 100)\n",
    "    print('Valor final aplicando {} à taxa de {} em {} vezes: {}'.format(capital, tax, amount, capital * op))\n",
    "    \n",
    "capitalize(100, 2, 30)\n",
    "capitalize(234, 30)\n",
    "# aqui vai dar erro\n",
    "capitalize(234)"
   ]
  },
  {
   "cell_type": "code",
   "execution_count": 9,
   "metadata": {},
   "outputs": [],
   "source": [
    "# Escrita em arquivos\n",
    "import os\n",
    "os.remove('arquivo.txt')\n",
    "arq = open('arquivo.txt', 'w')\n",
    "\n",
    "for i in range(1, 6):\n",
    "    arq.write('{} Escrevendo em arquivo\\n'.format(i))\n",
    "    \n",
    "arq.close()"
   ]
  },
  {
   "cell_type": "code",
   "execution_count": 12,
   "metadata": {},
   "outputs": [
    {
     "name": "stdout",
     "output_type": "stream",
     "text": [
      "O arquivo contém {} linhas.\n",
      "\n",
      "Conteúdo:\n",
      "\n",
      "\n",
      "1 Escrevendo em arquivo\n",
      "\n",
      "2 Escrevendo em arquivo\n",
      "\n",
      "3 Escrevendo em arquivo\n",
      "\n",
      "4 Escrevendo em arquivo\n",
      "\n",
      "5 Escrevendo em arquivo\n",
      "\n"
     ]
    }
   ],
   "source": [
    "# Enviando o arquivo para uma lista\n",
    "f = open('arquivo.txt', 'r')\n",
    "lines = f.readlines()\n",
    "\n",
    "print('O arquivo contém {} linhas.\\n\\nConteúdo:\\n\\n')\n",
    "\n",
    "for item in lines:\n",
    "    print(item)\n"
   ]
  },
  {
   "cell_type": "markdown",
   "metadata": {},
   "source": [
    "# Classes e objetos\n",
    "Assim como em outras linguagens caso sejam definidos parâmetros no construtor sem valores default, ao inicializar a classe é necessário informar caso contrário ocorrerá erro de execução."
   ]
  },
  {
   "cell_type": "code",
   "execution_count": 2,
   "metadata": {},
   "outputs": [
    {
     "name": "stdout",
     "output_type": "stream",
     "text": [
      "<__main__.Vehicle object at 0x7f42c44fca30>\n",
      "Wheels 2 \n",
      "Has motor? False\n",
      "Wheels 3 \n",
      "Has motor? False\n",
      "Color: red\n"
     ]
    }
   ],
   "source": [
    "class Vehicle(object):\n",
    "    # constructor\n",
    "    def __init__(self, wheels, hasMotor):\n",
    "        self.wheels = wheels\n",
    "        self.hasMotor = hasMotor\n",
    "        \n",
    "bicycle = Vehicle(2, False)\n",
    "\n",
    "print(bicycle)\n",
    "print(\"Wheels {} \\nHas motor? {}\".format(bicycle.wheels, bicycle.hasMotor))\n",
    "# aqui vai dar erro\n",
    "# car = Vehicle()\n",
    "bicycle.wheels = 3\n",
    "# as propriedades são dinâmicas não sendo necessário definir na estrutura da classe\n",
    "bicycle.color = 'red'\n",
    "print(\"Wheels {} \\nHas motor? {}\\nColor: {}\".format(bicycle.wheels, bicycle.hasMotor, bicycle.color))"
   ]
  },
  {
   "cell_type": "markdown",
   "metadata": {},
   "source": [
    "# Herança\n",
    "Na definição da classe passar o nome da classe da qual se deseja herdar. No exemplo anterior a herança era do ancestral `object`.\n",
    "\n",
    "> **IMPORTANTE**: execute o script anterior antes de executar o abaixo."
   ]
  },
  {
   "cell_type": "code",
   "execution_count": 10,
   "metadata": {},
   "outputs": [
    {
     "name": "stdout",
     "output_type": "stream",
     "text": [
      "My car is stopped\n",
      "<class '__main__.car'>\n",
      "My car has:\n",
      "\t4 wheels\n",
      "\t4Doors\n",
      "\tMotor?True\n",
      "\tand use Gasoline as a fuel.\n",
      "\n",
      "['__class__', '__delattr__', '__dict__', '__dir__', '__doc__', '__eq__', '__format__', '__ge__', '__getattribute__', '__gt__', '__hash__', '__init__', '__init_subclass__', '__le__', '__lt__', '__module__', '__ne__', '__new__', '__reduce__', '__reduce_ex__', '__repr__', '__setattr__', '__sizeof__', '__str__', '__subclasshook__', '__weakref__', 'accelerate', 'doors', 'fuelType', 'hasMotor', 'moving', 'start', 'status', 'stop', 'velocity', 'wheels']\n",
      " \n",
      "My car is moving at speed of 10 km/h\n",
      "My car is moving at speed of 30 km/h\n",
      "My car is moving at speed of 90 km/h\n",
      "My car is stopped\n"
     ]
    }
   ],
   "source": [
    "class car(Vehicle):\n",
    "    # define o construtur próprio\n",
    "    # é importante lembrar do construtor do ancestral\n",
    "    def __init__(self, wheels, hasMotor, doors, fuelType):\n",
    "        # invocando o inicializador do ancestral\n",
    "        Vehicle.__init__(self, wheels, hasMotor)\n",
    "        self.doors = doors\n",
    "        self.fuelType = fuelType\n",
    "        self.stop()\n",
    "        \n",
    "    def stop(self):\n",
    "        self.velocity = 0\n",
    "        self.moving = False;\n",
    "        self.status()\n",
    "        \n",
    "    def status(self):\n",
    "        if (self.moving):\n",
    "            print('My car is moving at speed of {} km/h'.format(self.velocity))\n",
    "        else:\n",
    "            print('My car is stopped')\n",
    "        \n",
    "    def start(self):\n",
    "        self.moving = True\n",
    "        self.velocity = 10\n",
    "        self.status()\n",
    "        \n",
    "    def accelerate(self, increaseVel):\n",
    "        self.velocity += increaseVel\n",
    "        self.status()\n",
    "        \n",
    "        \n",
    "        \n",
    "myCar = car(4, True, 4, 'Gasoline')\n",
    "print(car)\n",
    "print('My car has:\\n\\t{} wheels\\n\\t{}Doors\\n\\tMotor?{}\\n\\tand use {} as a fuel.\\n'\\\n",
    "     .format(myCar.wheels, myCar.doors, myCar.hasMotor, myCar.fuelType))\n",
    "\n",
    "\n",
    "# Lista objetos, propriedades e métodos do objeto\n",
    "print(dir(myCar))\n",
    "print(\" \")\n",
    "myCar.start()\n",
    "myCar.accelerate(20)\n",
    "myCar.accelerate(60)\n",
    "myCar.stop()"
   ]
  }
 ],
 "metadata": {
  "kernelspec": {
   "display_name": "Python 3",
   "language": "python",
   "name": "python3"
  },
  "language_info": {
   "codemirror_mode": {
    "name": "ipython",
    "version": 3
   },
   "file_extension": ".py",
   "mimetype": "text/x-python",
   "name": "python",
   "nbconvert_exporter": "python",
   "pygments_lexer": "ipython3",
   "version": "3.8.5"
  }
 },
 "nbformat": 4,
 "nbformat_minor": 4
}
