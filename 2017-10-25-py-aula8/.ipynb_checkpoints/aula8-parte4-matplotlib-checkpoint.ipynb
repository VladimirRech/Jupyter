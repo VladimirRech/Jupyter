{
 "cells": [
  {
   "cell_type": "markdown",
   "metadata": {},
   "source": [
    "# Matplotlib - Uma pequena introdução\n",
    "\n",
    "A biblioteca matplotlib é um pacote de criação de gráficos 2D o qual produz figuras com qualidade em uma variedade de formatos e permite integrar em ambientes interativos em diversas plataformas.\n",
    "\n",
    "http://matplotlib.org/examples/index.html"
   ]
  },
  {
   "cell_type": "code",
   "execution_count": 1,
   "metadata": {},
   "outputs": [],
   "source": [
    "import matplotlib.pyplot as plt"
   ]
  },
  {
   "cell_type": "code",
   "execution_count": 2,
   "metadata": {},
   "outputs": [],
   "source": [
    "%matplotlib inline"
   ]
  },
  {
   "cell_type": "markdown",
   "metadata": {},
   "source": [
    "Iremos criar um gráfico simples com os seguintes pontos ```[1, 2, 3, 4]``` no eixo x e ```[3, 6, 9, 12]``` no eixo y"
   ]
  },
  {
   "cell_type": "code",
   "execution_count": 3,
   "metadata": {},
   "outputs": [
    {
     "data": {
      "image/png": "[encoded data removed]",
      "text/plain": [
       "<matplotlib.figure.Figure at 0x111f9f940>"
      ]
     },
     "metadata": {},
     "output_type": "display_data"
    }
   ],
   "source": [
    "plt.plot([1, 2, 3, 4], [3, 6, 9, 12], 'r-o')\n",
    "plt.ylabel('Pontos em Y')\n",
    "plt.xlabel('Pontos em X')\n",
    "plt.axis([0,6,0,14])\n",
    "plt.show()"
   ]
  },
  {
   "cell_type": "markdown",
   "metadata": {},
   "source": [
    "Podemos definir a cor da linha, o tipo e também qual o marcador utilizando o parâmetro correto."
   ]
  },
  {
   "cell_type": "code",
   "execution_count": 4,
   "metadata": {},
   "outputs": [
    {
     "data": {
      "image/png": "[encoded data removed]",
      "text/plain": [
       "<matplotlib.figure.Figure at 0x111f9f5f8>"
      ]
     },
     "metadata": {},
     "output_type": "display_data"
    }
   ],
   "source": [
    "plt.plot([1, 2, 3, 4], [3, 6, 9, 12], c='#FFCC00', ls='-', lw=3, marker='o', ms=12, mfc='r', mec='b', mew=3, drawstyle='steps-mid')\n",
    "\n",
    "plt.ylabel(u'Pontos em Y')\n",
    "plt.xlabel(u'Pontos em X')\n",
    "plt.axis([0, 6, 0, 14])\n",
    "plt.show()"
   ]
  },
  {
   "cell_type": "markdown",
   "metadata": {},
   "source": [
    "A cor da linha pode ser definida pelo parâmetro ```c``` ou ```color```.\n",
    "\n",
    "Qualquer cor da tabela abaixo ou utilizando a cor como RGB na forma #FFDD33.\n",
    "\n",
    "Cor | Caractere\n",
    "----| ---------\n",
    "Azul | 'b' \n",
    "Verde | 'g'\n",
    "Vermelho | 'r'\n",
    "Ciano | 'c'\n",
    "Magenta | 'm'\n",
    "Amarelo | 'y'\n",
    "Preto | 'k'\n",
    "Branco | 'w'\n",
    "\n",
    "O estilo da linha pode ser definido com parâmetro ```ls``` ou ```linestyle```. Qualquer valor de estilo da tabela abaixo:\n",
    "\n",
    "Estilo linha | Caractere\n",
    "------ | -------\n",
    "Linha Cheia | '-'\n",
    "Linha Tracejada | '--'\n",
    "Linha traço-ponto | '-.'\n",
    "Linha pontilhada | ':'\n",
    "\n",
    "O estilo do formato da marcação de um ponto pode ser definido pelo parâmetro marker.\n",
    "\n",
    "Tipo Marcador | Caractere\n",
    "------ | ------\n",
    "Ponto | '.'\n",
    "Pixel | ','\n",
    "Círculo | 'o'\n",
    "Triângulo | 'v'\n",
    "Triângulo | '^'\n",
    "Triângulo | '<'\n",
    "Triângulo | '>'\n",
    "Y para baixo | '1'\n",
    "Y para cima | '2'\n",
    "Estrela | '*'\n",
    "Hexágono | 'H'\n",
    "Hexágono | 'h'\n",
    "Y para a esquerda | '3'\n",
    "Y para a direita | '4'\n",
    "Quadrado | 's'\n",
    "Pentágono | 'p'\n",
    "Linha vertical | '&#124;'\n",
    "Linha horizontal | '-'\n",
    "Sinal de mais | '+'\n",
    "Sinal cruzado | 'x'\n",
    "Losando largo | 'D'\n",
    "Losando estreito | 'd'\n",
    "\n"
   ]
  },
  {
   "cell_type": "markdown",
   "metadata": {},
   "source": [
    "* Para definir a largura da linha adicione um valor inteiro para ```linewidth``` ou ```lw```.\n",
    "* Para definir a cor da linha de contorno da marcação do ponto modifique o valor de ```markeredgecolor``` ou ```mec```.\n",
    "* Para definir a largura da linha de contorno da marcação do ponto modifique o valor de ```markeredgewidth```. ou ```mew```.\n",
    "* Para definir a cor da marcação utilize ```markerfacecolor```.\n",
    "* Para definir o tamanho da marcação dos pontos utilize ```markersize``` ou ```ms```.\n",
    "* Para realizar o preenchimento da marcação dos pontos, utilize ```fillstyle```.\n",
    "\n",
    "\n",
    "* Podemos definir a cor da linha, o tipo e também qual o marcador utilizando o parâmetro correto."
   ]
  },
  {
   "cell_type": "code",
   "execution_count": null,
   "metadata": {},
   "outputs": [],
   "source": [
    "plt.plot([1, 2, 3, 4], [3, 6, 9, 12], c='#FFCC00', ls='-', lw=3, marker='o', ms=12, mfc='r', mec='b', mew=3)\n",
    "plt.ylabel('Pontos em Y')\n",
    "plt.xlabel('Pontos em X')\n",
    "plt.axis([0, 6, 0, 14])\n",
    "plt.grid(True)\n",
    "plt.show()"
   ]
  },
  {
   "cell_type": "markdown",
   "metadata": {},
   "source": [
    "* Esse módulo utiliza o conceito de \"janela corrente\" e \"gráfico corrente\".\n",
    "* A função ```plt.figure()``` é o comando que cria e seleciona, uma janela no terminal onde o gráfico será mostrado.\n",
    "* Para criar os diferentes gráficos dentro da janela usa-se o comanto ```plt.subplot()``` que tem 3 argumentos:\n",
    "    * Número de linhas\n",
    "    * Número de colunas\n",
    "    * Número do gráfico\n"
   ]
  },
  {
   "cell_type": "code",
   "execution_count": null,
   "metadata": {},
   "outputs": [],
   "source": [
    "plt.figure(1)\n",
    "plt.subplot(2, 1, 1)\n",
    "plt.plot([1, 2, 3, 4], [3, 6, 9, 12], 'r-o')\n",
    "plt.subplot(2, 1, 2)\n",
    "plt.plot([4,3,2,1], [12, 9, 6, 3], 'b--*')\n",
    "plt.ylabel(u'Pontos em Y')\n",
    "plt.xlabel(u'Pontos em X')\n",
    "plt.axis([0, 6, 0, 14])\n",
    "plt.grid(True)\n",
    "plt.show()"
   ]
  },
  {
   "cell_type": "markdown",
   "metadata": {},
   "source": [
    "* Podemos adicionar texto em qualquer posição do gráfico corrente. Podemos utilizar ```plt.text()``` que recebe três parâmetro:\n",
    "    * Coordenada X\n",
    "    * Coordenada Y\n",
    "    * O texto a ser mostrado\n"
   ]
  },
  {
   "cell_type": "code",
   "execution_count": null,
   "metadata": {},
   "outputs": [],
   "source": [
    "plt.plot([1, 2, 3, 4], [3, 6, 9, 12], c='#FFCC00', ls='-', lw=3, marker='o', ms=12, mfc='r', mec='b', mew=3)\n",
    "plt.ylabel(u'Pontos em Y')\n",
    "plt.xlabel(u'Pontos em X')\n",
    "plt.axis([0, 6, 0, 14])\n",
    "plt.text(2.5, 5, 'Muito interessante', color='red')\n",
    "plt.grid(True)\n",
    "plt.show()"
   ]
  },
  {
   "cell_type": "markdown",
   "metadata": {},
   "source": [
    "Outros parâmetros de formatação de texto:\n",
    "\n",
    "Descrição | Parâmetro | Valores\n",
    "---- | ----- | -----\n",
    "Cor da letra | color | O mesmo que anterior\n",
    "Cor do fundo | background | O mesmo da cor se aplica ao background\n",
    "Tamanho da letra | size | xx-small, x-small, small, medium, large, x-large, xx-large\n",
    "Fonte | family | Nome da fonte: serif, sans-serif, cursive, fantasy, monospace\n",
    "Estilo da fonte | style | normal, italic, oblique\n",
    "Negrito | weight | ultralight, light, normal, regular, book, medium, roman, semibold, demibold, demi, bold, heavy\n",
    "Alinhamento horizontal | horizontalalignment | center, right, left\n",
    "Alinhamento vertical | verticalalignment | center, top, bottom, baseline\n",
    "Espaçamento entre linhas | linespacing | Um número real onde 1.0 representa a largura da linha. O padrão é 1.2"
   ]
  },
  {
   "cell_type": "markdown",
   "metadata": {},
   "source": [
    "* O matplotlib é muito extenso, completo e poderoso. Mais informações e exemplos sobre a biblioteca pode ser encontrado em: http://matplotlib.org/\n",
    "\n",
    "* Antes de aplicarmos o matplotlib em um exercício vamos estudar outra biblioteca extremamente importante no mundo Python para Big Data.\n"
   ]
  },
  {
   "cell_type": "code",
   "execution_count": null,
   "metadata": {},
   "outputs": [],
   "source": []
  }
 ],
 "metadata": {
  "kernelspec": {
   "display_name": "Python 3",
   "language": "python",
   "name": "python3"
  },
  "language_info": {
   "codemirror_mode": {
    "name": "ipython",
    "version": 3
   },
   "file_extension": ".py",
   "mimetype": "text/x-python",
   "name": "python",
   "nbconvert_exporter": "python",
   "pygments_lexer": "ipython3",
   "version": "3.6.5"
  }
 },
 "nbformat": 4,
 "nbformat_minor": 1
}
