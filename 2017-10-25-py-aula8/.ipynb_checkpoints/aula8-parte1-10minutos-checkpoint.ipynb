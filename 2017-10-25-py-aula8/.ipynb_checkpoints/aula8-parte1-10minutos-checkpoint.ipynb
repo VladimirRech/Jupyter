{
 "cells": [
  {
   "cell_type": "markdown",
   "metadata": {},
   "source": [
    "# Aula 8 - Gráficos Simples\n",
    "\n",
    "Verificando sua instalação"
   ]
  },
  {
   "cell_type": "code",
   "execution_count": 1,
   "metadata": {},
   "outputs": [],
   "source": [
    "import bokeh"
   ]
  },
  {
   "cell_type": "code",
   "execution_count": 2,
   "metadata": {},
   "outputs": [
    {
     "name": "stdout",
     "output_type": "stream",
     "text": [
      "0.12.9\n"
     ]
    }
   ],
   "source": [
    "print(bokeh.__version__)"
   ]
  },
  {
   "cell_type": "markdown",
   "metadata": {},
   "source": [
    "Primeiramente iremos criar um gráfico simples para plotar dados de duas listas (x, y), além disso iremos incluir as ferramentas que permitem ações no gráfico gerado."
   ]
  },
  {
   "cell_type": "code",
   "execution_count": 3,
   "metadata": {},
   "outputs": [],
   "source": [
    "from bokeh.plotting import figure, output_notebook, show"
   ]
  },
  {
   "cell_type": "code",
   "execution_count": 4,
   "metadata": {},
   "outputs": [
    {
     "data": {
      "text/html": [
       "\n",
       "    <div class=\"bk-root\">\n",
       "        <a href=\"https://bokeh.pydata.org\" target=\"_blank\" class=\"bk-logo bk-logo-small bk-logo-notebook\"></a>\n",
       "        <span id=\"a7ecb085-bf54-4bf0-8aee-63d5a4ba2fce\">Loading BokehJS ...</span>\n",
       "    </div>"
      ]
     },
     "metadata": {},
     "output_type": "display_data"
    },
    {
     "data": {
      "application/javascript": [
       "\n",
       "(function(root) {\n",
       "  function now() {\n",
       "    return new Date();\n",
       "  }\n",
       "\n",
       "  var force = true;\n",
       "\n",
       "  if (typeof (root._bokeh_onload_callbacks) === \"undefined\" || force === true) {\n",
       "    root._bokeh_onload_callbacks = [];\n",
       "    root._bokeh_is_loading = undefined;\n",
       "  }\n",
       "\n",
       "  var JS_MIME_TYPE = 'application/javascript';\n",
       "  var HTML_MIME_TYPE = 'text/html';\n",
       "  var EXEC_MIME_TYPE = 'application/vnd.bokehjs_exec.v0+json';\n",
       "  var CLASS_NAME = 'output_bokeh rendered_html';\n",
       "\n",
       "  /**\n",
       "   * Render data to the DOM node\n",
       "   */\n",
       "  function render(props, node) {\n",
       "    var script = document.createElement(\"script\");\n",
       "    node.appendChild(script);\n",
       "  }\n",
       "\n",
       "  /**\n",
       "   * Handle when an output is cleared or removed\n",
       "   */\n",
       "  function handleClearOutput(event, handle) {\n",
       "    var cell = handle.cell;\n",
       "\n",
       "    var id = cell.output_area._bokeh_element_id;\n",
       "    var server_id = cell.output_area._bokeh_server_id;\n",
       "    // Clean up Bokeh references\n",
       "    if (id !== undefined) {\n",
       "      Bokeh.index[id].model.document.clear();\n",
       "      delete Bokeh.index[id];\n",
       "    }\n",
       "\n",
       "    if (server_id !== undefined) {\n",
       "      // Clean up Bokeh references\n",
       "      var cmd = \"from bokeh.io import _state; print(_state.uuid_to_server['\" + server_id + \"'].get_sessions()[0].document.roots[0]._id)\";\n",
       "      cell.notebook.kernel.execute(cmd, {\n",
       "        iopub: {\n",
       "          output: function(msg) {\n",
       "            var element_id = msg.content.text.trim();\n",
       "            Bokeh.index[element_id].model.document.clear();\n",
       "            delete Bokeh.index[element_id];\n",
       "          }\n",
       "        }\n",
       "      });\n",
       "      // Destroy server and session\n",
       "      var cmd = \"from bokeh import io; io._destroy_server('\" + server_id + \"')\";\n",
       "      cell.notebook.kernel.execute(cmd);\n",
       "    }\n",
       "  }\n",
       "\n",
       "  /**\n",
       "   * Handle when a new output is added\n",
       "   */\n",
       "  function handleAddOutput(event, handle) {\n",
       "    var output_area = handle.output_area;\n",
       "    var output = handle.output;\n",
       "\n",
       "    // limit handleAddOutput to display_data with EXEC_MIME_TYPE content only\n",
       "    if ((output.output_type != \"display_data\") || (!output.data.hasOwnProperty(EXEC_MIME_TYPE))) {\n",
       "      return\n",
       "    }\n",
       "\n",
       "    var toinsert = output_area.element.find(`.${CLASS_NAME.split(' ')[0]}`);\n",
       "\n",
       "    if (output.metadata[EXEC_MIME_TYPE][\"id\"] !== undefined) {\n",
       "      toinsert[0].firstChild.textContent = output.data[JS_MIME_TYPE];\n",
       "      // store reference to embed id on output_area\n",
       "      output_area._bokeh_element_id = output.metadata[EXEC_MIME_TYPE][\"id\"];\n",
       "    }\n",
       "    if (output.metadata[EXEC_MIME_TYPE][\"server_id\"] !== undefined) {\n",
       "      var bk_div = document.createElement(\"div\");\n",
       "      bk_div.innerHTML = output.data[HTML_MIME_TYPE];\n",
       "      var script_attrs = bk_div.children[0].attributes;\n",
       "      for (var i = 0; i < script_attrs.length; i++) {\n",
       "        toinsert[0].firstChild.setAttribute(script_attrs[i].name, script_attrs[i].value);\n",
       "      }\n",
       "      // store reference to server id on output_area\n",
       "      output_area._bokeh_server_id = output.metadata[EXEC_MIME_TYPE][\"server_id\"];\n",
       "    }\n",
       "  }\n",
       "\n",
       "  function register_renderer(events, OutputArea) {\n",
       "\n",
       "    function append_mime(data, metadata, element) {\n",
       "      // create a DOM node to render to\n",
       "      var toinsert = this.create_output_subarea(\n",
       "        metadata,\n",
       "        CLASS_NAME,\n",
       "        EXEC_MIME_TYPE\n",
       "      );\n",
       "      this.keyboard_manager.register_events(toinsert);\n",
       "      // Render to node\n",
       "      var props = {data: data, metadata: metadata[EXEC_MIME_TYPE]};\n",
       "      render(props, toinsert[0]);\n",
       "      element.append(toinsert);\n",
       "      return toinsert\n",
       "    }\n",
       "\n",
       "    /* Handle when an output is cleared or removed */\n",
       "    events.on('clear_output.CodeCell', handleClearOutput);\n",
       "    events.on('delete.Cell', handleClearOutput);\n",
       "\n",
       "    /* Handle when a new output is added */\n",
       "    events.on('output_added.OutputArea', handleAddOutput);\n",
       "\n",
       "    /**\n",
       "     * Register the mime type and append_mime function with output_area\n",
       "     */\n",
       "    OutputArea.prototype.register_mime_type(EXEC_MIME_TYPE, append_mime, {\n",
       "      /* Is output safe? */\n",
       "      safe: true,\n",
       "      /* Index of renderer in `output_area.display_order` */\n",
       "      index: 0\n",
       "    });\n",
       "  }\n",
       "\n",
       "  // register the mime type if in Jupyter Notebook environment and previously unregistered\n",
       "  if (root.Jupyter !== undefined) {\n",
       "    var events = require('base/js/events');\n",
       "    var OutputArea = require('notebook/js/outputarea').OutputArea;\n",
       "\n",
       "    if (OutputArea.prototype.mime_types().indexOf(EXEC_MIME_TYPE) == -1) {\n",
       "      register_renderer(events, OutputArea);\n",
       "    }\n",
       "  }\n",
       "\n",
       "  \n",
       "  if (typeof (root._bokeh_timeout) === \"undefined\" || force === true) {\n",
       "    root._bokeh_timeout = Date.now() + 5000;\n",
       "    root._bokeh_failed_load = false;\n",
       "  }\n",
       "\n",
       "  var NB_LOAD_WARNING = {'data': {'text/html':\n",
       "     \"<div style='background-color: #fdd'>\\n\"+\n",
       "     \"<p>\\n\"+\n",
       "     \"BokehJS does not appear to have successfully loaded. If loading BokehJS from CDN, this \\n\"+\n",
       "     \"may be due to a slow or bad network connection. Possible fixes:\\n\"+\n",
       "     \"</p>\\n\"+\n",
       "     \"<ul>\\n\"+\n",
       "     \"<li>re-rerun `output_notebook()` to attempt to load from CDN again, or</li>\\n\"+\n",
       "     \"<li>use INLINE resources instead, as so:</li>\\n\"+\n",
       "     \"</ul>\\n\"+\n",
       "     \"<code>\\n\"+\n",
       "     \"from bokeh.resources import INLINE\\n\"+\n",
       "     \"output_notebook(resources=INLINE)\\n\"+\n",
       "     \"</code>\\n\"+\n",
       "     \"</div>\"}};\n",
       "\n",
       "  function display_loaded() {\n",
       "    var el = document.getElementById(\"a7ecb085-bf54-4bf0-8aee-63d5a4ba2fce\");\n",
       "    if (el != null) {\n",
       "      el.textContent = \"BokehJS is loading...\";\n",
       "    }\n",
       "    if (root.Bokeh !== undefined) {\n",
       "      if (el != null) {\n",
       "        el.textContent = \"BokehJS \" + root.Bokeh.version + \" successfully loaded.\";\n",
       "      }\n",
       "    } else if (Date.now() < root._bokeh_timeout) {\n",
       "      setTimeout(display_loaded, 100)\n",
       "    }\n",
       "  }\n",
       "\n",
       "\n",
       "  function run_callbacks() {\n",
       "    try {\n",
       "      root._bokeh_onload_callbacks.forEach(function(callback) { callback() });\n",
       "    }\n",
       "    finally {\n",
       "      delete root._bokeh_onload_callbacks\n",
       "    }\n",
       "    console.info(\"Bokeh: all callbacks have finished\");\n",
       "  }\n",
       "\n",
       "  function load_libs(js_urls, callback) {\n",
       "    root._bokeh_onload_callbacks.push(callback);\n",
       "    if (root._bokeh_is_loading > 0) {\n",
       "      console.log(\"Bokeh: BokehJS is being loaded, scheduling callback at\", now());\n",
       "      return null;\n",
       "    }\n",
       "    if (js_urls == null || js_urls.length === 0) {\n",
       "      run_callbacks();\n",
       "      return null;\n",
       "    }\n",
       "    console.log(\"Bokeh: BokehJS not loaded, scheduling load and callback at\", now());\n",
       "    root._bokeh_is_loading = js_urls.length;\n",
       "    for (var i = 0; i < js_urls.length; i++) {\n",
       "      var url = js_urls[i];\n",
       "      var s = document.createElement('script');\n",
       "      s.src = url;\n",
       "      s.async = false;\n",
       "      s.onreadystatechange = s.onload = function() {\n",
       "        root._bokeh_is_loading--;\n",
       "        if (root._bokeh_is_loading === 0) {\n",
       "          console.log(\"Bokeh: all BokehJS libraries loaded\");\n",
       "          run_callbacks()\n",
       "        }\n",
       "      };\n",
       "      s.onerror = function() {\n",
       "        console.warn(\"failed to load library \" + url);\n",
       "      };\n",
       "      console.log(\"Bokeh: injecting script tag for BokehJS library: \", url);\n",
       "      document.getElementsByTagName(\"head\")[0].appendChild(s);\n",
       "    }\n",
       "  };var element = document.getElementById(\"a7ecb085-bf54-4bf0-8aee-63d5a4ba2fce\");\n",
       "  if (element == null) {\n",
       "    console.log(\"Bokeh: ERROR: autoload.js configured with elementid 'a7ecb085-bf54-4bf0-8aee-63d5a4ba2fce' but no matching script tag was found. \")\n",
       "    return false;\n",
       "  }\n",
       "\n",
       "  var js_urls = [\"https://cdn.pydata.org/bokeh/release/bokeh-0.12.9.min.js\", \"https://cdn.pydata.org/bokeh/release/bokeh-widgets-0.12.9.min.js\", \"https://cdn.pydata.org/bokeh/release/bokeh-tables-0.12.9.min.js\", \"https://cdn.pydata.org/bokeh/release/bokeh-gl-0.12.9.min.js\"];\n",
       "\n",
       "  var inline_js = [\n",
       "    function(Bokeh) {\n",
       "      Bokeh.set_log_level(\"info\");\n",
       "    },\n",
       "    \n",
       "    function(Bokeh) {\n",
       "      \n",
       "    },\n",
       "    function(Bokeh) {\n",
       "      console.log(\"Bokeh: injecting CSS: https://cdn.pydata.org/bokeh/release/bokeh-0.12.9.min.css\");\n",
       "      Bokeh.embed.inject_css(\"https://cdn.pydata.org/bokeh/release/bokeh-0.12.9.min.css\");\n",
       "      console.log(\"Bokeh: injecting CSS: https://cdn.pydata.org/bokeh/release/bokeh-widgets-0.12.9.min.css\");\n",
       "      Bokeh.embed.inject_css(\"https://cdn.pydata.org/bokeh/release/bokeh-widgets-0.12.9.min.css\");\n",
       "      console.log(\"Bokeh: injecting CSS: https://cdn.pydata.org/bokeh/release/bokeh-tables-0.12.9.min.css\");\n",
       "      Bokeh.embed.inject_css(\"https://cdn.pydata.org/bokeh/release/bokeh-tables-0.12.9.min.css\");\n",
       "    }\n",
       "  ];\n",
       "\n",
       "  function run_inline_js() {\n",
       "    \n",
       "    if ((root.Bokeh !== undefined) || (force === true)) {\n",
       "      for (var i = 0; i < inline_js.length; i++) {\n",
       "        inline_js[i].call(root, root.Bokeh);\n",
       "      }if (force === true) {\n",
       "        display_loaded();\n",
       "      }} else if (Date.now() < root._bokeh_timeout) {\n",
       "      setTimeout(run_inline_js, 100);\n",
       "    } else if (!root._bokeh_failed_load) {\n",
       "      console.log(\"Bokeh: BokehJS failed to load within specified timeout.\");\n",
       "      root._bokeh_failed_load = true;\n",
       "    } else if (force !== true) {\n",
       "      var cell = $(document.getElementById(\"a7ecb085-bf54-4bf0-8aee-63d5a4ba2fce\")).parents('.cell').data().cell;\n",
       "      cell.output_area.append_execute_result(NB_LOAD_WARNING)\n",
       "    }\n",
       "\n",
       "  }\n",
       "\n",
       "  if (root._bokeh_is_loading === 0) {\n",
       "    console.log(\"Bokeh: BokehJS loaded, going straight to plotting\");\n",
       "    run_inline_js();\n",
       "  } else {\n",
       "    load_libs(js_urls, function() {\n",
       "      console.log(\"Bokeh: BokehJS plotting callback run at\", now());\n",
       "      run_inline_js();\n",
       "    });\n",
       "  }\n",
       "}(window));"
      ],
      "application/vnd.bokehjs_load.v0+json": "\n(function(root) {\n  function now() {\n    return new Date();\n  }\n\n  var force = true;\n\n  if (typeof (root._bokeh_onload_callbacks) === \"undefined\" || force === true) {\n    root._bokeh_onload_callbacks = [];\n    root._bokeh_is_loading = undefined;\n  }\n\n  \n\n  \n  if (typeof (root._bokeh_timeout) === \"undefined\" || force === true) {\n    root._bokeh_timeout = Date.now() + 5000;\n    root._bokeh_failed_load = false;\n  }\n\n  var NB_LOAD_WARNING = {'data': {'text/html':\n     \"<div style='background-color: #fdd'>\\n\"+\n     \"<p>\\n\"+\n     \"BokehJS does not appear to have successfully loaded. If loading BokehJS from CDN, this \\n\"+\n     \"may be due to a slow or bad network connection. Possible fixes:\\n\"+\n     \"</p>\\n\"+\n     \"<ul>\\n\"+\n     \"<li>re-rerun `output_notebook()` to attempt to load from CDN again, or</li>\\n\"+\n     \"<li>use INLINE resources instead, as so:</li>\\n\"+\n     \"</ul>\\n\"+\n     \"<code>\\n\"+\n     \"from bokeh.resources import INLINE\\n\"+\n     \"output_notebook(resources=INLINE)\\n\"+\n     \"</code>\\n\"+\n     \"</div>\"}};\n\n  function display_loaded() {\n    var el = document.getElementById(\"a7ecb085-bf54-4bf0-8aee-63d5a4ba2fce\");\n    if (el != null) {\n      el.textContent = \"BokehJS is loading...\";\n    }\n    if (root.Bokeh !== undefined) {\n      if (el != null) {\n        el.textContent = \"BokehJS \" + root.Bokeh.version + \" successfully loaded.\";\n      }\n    } else if (Date.now() < root._bokeh_timeout) {\n      setTimeout(display_loaded, 100)\n    }\n  }\n\n\n  function run_callbacks() {\n    try {\n      root._bokeh_onload_callbacks.forEach(function(callback) { callback() });\n    }\n    finally {\n      delete root._bokeh_onload_callbacks\n    }\n    console.info(\"Bokeh: all callbacks have finished\");\n  }\n\n  function load_libs(js_urls, callback) {\n    root._bokeh_onload_callbacks.push(callback);\n    if (root._bokeh_is_loading > 0) {\n      console.log(\"Bokeh: BokehJS is being loaded, scheduling callback at\", now());\n      return null;\n    }\n    if (js_urls == null || js_urls.length === 0) {\n      run_callbacks();\n      return null;\n    }\n    console.log(\"Bokeh: BokehJS not loaded, scheduling load and callback at\", now());\n    root._bokeh_is_loading = js_urls.length;\n    for (var i = 0; i < js_urls.length; i++) {\n      var url = js_urls[i];\n      var s = document.createElement('script');\n      s.src = url;\n      s.async = false;\n      s.onreadystatechange = s.onload = function() {\n        root._bokeh_is_loading--;\n        if (root._bokeh_is_loading === 0) {\n          console.log(\"Bokeh: all BokehJS libraries loaded\");\n          run_callbacks()\n        }\n      };\n      s.onerror = function() {\n        console.warn(\"failed to load library \" + url);\n      };\n      console.log(\"Bokeh: injecting script tag for BokehJS library: \", url);\n      document.getElementsByTagName(\"head\")[0].appendChild(s);\n    }\n  };var element = document.getElementById(\"a7ecb085-bf54-4bf0-8aee-63d5a4ba2fce\");\n  if (element == null) {\n    console.log(\"Bokeh: ERROR: autoload.js configured with elementid 'a7ecb085-bf54-4bf0-8aee-63d5a4ba2fce' but no matching script tag was found. \")\n    return false;\n  }\n\n  var js_urls = [\"https://cdn.pydata.org/bokeh/release/bokeh-0.12.9.min.js\", \"https://cdn.pydata.org/bokeh/release/bokeh-widgets-0.12.9.min.js\", \"https://cdn.pydata.org/bokeh/release/bokeh-tables-0.12.9.min.js\", \"https://cdn.pydata.org/bokeh/release/bokeh-gl-0.12.9.min.js\"];\n\n  var inline_js = [\n    function(Bokeh) {\n      Bokeh.set_log_level(\"info\");\n    },\n    \n    function(Bokeh) {\n      \n    },\n    function(Bokeh) {\n      console.log(\"Bokeh: injecting CSS: https://cdn.pydata.org/bokeh/release/bokeh-0.12.9.min.css\");\n      Bokeh.embed.inject_css(\"https://cdn.pydata.org/bokeh/release/bokeh-0.12.9.min.css\");\n      console.log(\"Bokeh: injecting CSS: https://cdn.pydata.org/bokeh/release/bokeh-widgets-0.12.9.min.css\");\n      Bokeh.embed.inject_css(\"https://cdn.pydata.org/bokeh/release/bokeh-widgets-0.12.9.min.css\");\n      console.log(\"Bokeh: injecting CSS: https://cdn.pydata.org/bokeh/release/bokeh-tables-0.12.9.min.css\");\n      Bokeh.embed.inject_css(\"https://cdn.pydata.org/bokeh/release/bokeh-tables-0.12.9.min.css\");\n    }\n  ];\n\n  function run_inline_js() {\n    \n    if ((root.Bokeh !== undefined) || (force === true)) {\n      for (var i = 0; i < inline_js.length; i++) {\n        inline_js[i].call(root, root.Bokeh);\n      }if (force === true) {\n        display_loaded();\n      }} else if (Date.now() < root._bokeh_timeout) {\n      setTimeout(run_inline_js, 100);\n    } else if (!root._bokeh_failed_load) {\n      console.log(\"Bokeh: BokehJS failed to load within specified timeout.\");\n      root._bokeh_failed_load = true;\n    } else if (force !== true) {\n      var cell = $(document.getElementById(\"a7ecb085-bf54-4bf0-8aee-63d5a4ba2fce\")).parents('.cell').data().cell;\n      cell.output_area.append_execute_result(NB_LOAD_WARNING)\n    }\n\n  }\n\n  if (root._bokeh_is_loading === 0) {\n    console.log(\"Bokeh: BokehJS loaded, going straight to plotting\");\n    run_inline_js();\n  } else {\n    load_libs(js_urls, function() {\n      console.log(\"Bokeh: BokehJS plotting callback run at\", now());\n      run_inline_js();\n    });\n  }\n}(window));"
     },
     "metadata": {},
     "output_type": "display_data"
    }
   ],
   "source": [
    "output_notebook()"
   ]
  },
  {
   "cell_type": "code",
   "execution_count": 5,
   "metadata": {},
   "outputs": [
    {
     "name": "stderr",
     "output_type": "stream",
     "text": [
      "/Library/Frameworks/Python.framework/Versions/3.6/lib/python3.6/site-packages/bokeh/util/deprecation.py:34: BokehDeprecationWarning: ResizeTool is removed in Bokeh 0.12.7, adding it is a no-op. In the future, accessing ResizeTool will be an error\n",
      "  warn(message)\n"
     ]
    }
   ],
   "source": [
    "p = figure(\n",
    "    title='Gráfico de Linha',\n",
    "    width = 400,\n",
    "    height = 400,\n",
    "    x_axis_label='Dias',\n",
    "    y_axis_label='Graus',\n",
    "    tools='box_zoom,reset,save,resize,crosshair'\n",
    ")"
   ]
  },
  {
   "cell_type": "code",
   "execution_count": 6,
   "metadata": {},
   "outputs": [],
   "source": [
    "dias = [1,2,3,4,5]\n",
    "celsius = [22,18,15,18, 37]"
   ]
  },
  {
   "cell_type": "code",
   "execution_count": 7,
   "metadata": {},
   "outputs": [
    {
     "data": {
      "text/html": [
       "<div style=\"display: table;\"><div style=\"display: table-row;\"><div style=\"display: table-cell;\"><b title=\"bokeh.models.renderers.GlyphRenderer\">GlyphRenderer</b>(</div><div style=\"display: table-cell;\">id&nbsp;=&nbsp;'2c24b60a-146a-4c7a-b28b-31e9e9e783ea', <span id=\"3767a867-51ca-4b3c-a548-0d1852780344\" style=\"cursor: pointer;\">&hellip;)</span></div></div><div class=\"b9820839-9f50-4039-aa7c-60f756d993d8\" style=\"display: none;\"><div style=\"display: table-cell;\"></div><div style=\"display: table-cell;\">data_source&nbsp;=&nbsp;ColumnDataSource(id='89e903de-de39-4610-8043-c48b300e302e', ...),</div></div><div class=\"b9820839-9f50-4039-aa7c-60f756d993d8\" style=\"display: none;\"><div style=\"display: table-cell;\"></div><div style=\"display: table-cell;\">glyph&nbsp;=&nbsp;Line(id='c68f2a51-f2fe-4314-a9ac-eaf428af6a4f', ...),</div></div><div class=\"b9820839-9f50-4039-aa7c-60f756d993d8\" style=\"display: none;\"><div style=\"display: table-cell;\"></div><div style=\"display: table-cell;\">hover_glyph&nbsp;=&nbsp;None,</div></div><div class=\"b9820839-9f50-4039-aa7c-60f756d993d8\" style=\"display: none;\"><div style=\"display: table-cell;\"></div><div style=\"display: table-cell;\">js_event_callbacks&nbsp;=&nbsp;{},</div></div><div class=\"b9820839-9f50-4039-aa7c-60f756d993d8\" style=\"display: none;\"><div style=\"display: table-cell;\"></div><div style=\"display: table-cell;\">js_property_callbacks&nbsp;=&nbsp;{},</div></div><div class=\"b9820839-9f50-4039-aa7c-60f756d993d8\" style=\"display: none;\"><div style=\"display: table-cell;\"></div><div style=\"display: table-cell;\">level&nbsp;=&nbsp;'glyph',</div></div><div class=\"b9820839-9f50-4039-aa7c-60f756d993d8\" style=\"display: none;\"><div style=\"display: table-cell;\"></div><div style=\"display: table-cell;\">muted&nbsp;=&nbsp;False,</div></div><div class=\"b9820839-9f50-4039-aa7c-60f756d993d8\" style=\"display: none;\"><div style=\"display: table-cell;\"></div><div style=\"display: table-cell;\">muted_glyph&nbsp;=&nbsp;None,</div></div><div class=\"b9820839-9f50-4039-aa7c-60f756d993d8\" style=\"display: none;\"><div style=\"display: table-cell;\"></div><div style=\"display: table-cell;\">name&nbsp;=&nbsp;None,</div></div><div class=\"b9820839-9f50-4039-aa7c-60f756d993d8\" style=\"display: none;\"><div style=\"display: table-cell;\"></div><div style=\"display: table-cell;\">nonselection_glyph&nbsp;=&nbsp;Line(id='e15a323d-0986-4666-bffb-b99aad94c4cb', ...),</div></div><div class=\"b9820839-9f50-4039-aa7c-60f756d993d8\" style=\"display: none;\"><div style=\"display: table-cell;\"></div><div style=\"display: table-cell;\">selection_glyph&nbsp;=&nbsp;None,</div></div><div class=\"b9820839-9f50-4039-aa7c-60f756d993d8\" style=\"display: none;\"><div style=\"display: table-cell;\"></div><div style=\"display: table-cell;\">subscribed_events&nbsp;=&nbsp;[],</div></div><div class=\"b9820839-9f50-4039-aa7c-60f756d993d8\" style=\"display: none;\"><div style=\"display: table-cell;\"></div><div style=\"display: table-cell;\">tags&nbsp;=&nbsp;[],</div></div><div class=\"b9820839-9f50-4039-aa7c-60f756d993d8\" style=\"display: none;\"><div style=\"display: table-cell;\"></div><div style=\"display: table-cell;\">view&nbsp;=&nbsp;CDSView(id='5ba48007-9399-46ec-a0a2-6aa248199f6a', ...),</div></div><div class=\"b9820839-9f50-4039-aa7c-60f756d993d8\" style=\"display: none;\"><div style=\"display: table-cell;\"></div><div style=\"display: table-cell;\">visible&nbsp;=&nbsp;True,</div></div><div class=\"b9820839-9f50-4039-aa7c-60f756d993d8\" style=\"display: none;\"><div style=\"display: table-cell;\"></div><div style=\"display: table-cell;\">x_range_name&nbsp;=&nbsp;'default',</div></div><div class=\"b9820839-9f50-4039-aa7c-60f756d993d8\" style=\"display: none;\"><div style=\"display: table-cell;\"></div><div style=\"display: table-cell;\">y_range_name&nbsp;=&nbsp;'default')</div></div></div>\n",
       "<script>\n",
       "(function() {\n",
       "  var expanded = false;\n",
       "  var ellipsis = document.getElementById(\"3767a867-51ca-4b3c-a548-0d1852780344\");\n",
       "  ellipsis.addEventListener(\"click\", function() {\n",
       "    var rows = document.getElementsByClassName(\"b9820839-9f50-4039-aa7c-60f756d993d8\");\n",
       "    for (var i = 0; i < rows.length; i++) {\n",
       "      var el = rows[i];\n",
       "      el.style.display = expanded ? \"none\" : \"table-row\";\n",
       "    }\n",
       "    ellipsis.innerHTML = expanded ? \"&hellip;)\" : \"&lsaquo;&lsaquo;&lsaquo;\";\n",
       "    expanded = !expanded;\n",
       "  });\n",
       "})();\n",
       "</script>\n"
      ],
      "text/plain": [
       "GlyphRenderer(id='2c24b60a-146a-4c7a-b28b-31e9e9e783ea', ...)"
      ]
     },
     "execution_count": 7,
     "metadata": {},
     "output_type": "execute_result"
    }
   ],
   "source": [
    "p.line(x=dias, y=celsius,\n",
    "       legend='Celsius',\n",
    "       line_width=2,\n",
    "       line_color=\"green\"\n",
    ")"
   ]
  },
  {
   "cell_type": "code",
   "execution_count": 8,
   "metadata": {},
   "outputs": [
    {
     "data": {
      "text/html": [
       "\n",
       "<div class=\"bk-root\">\n",
       "    <div class=\"bk-plotdiv\" id=\"8e412700-642b-49cc-95fa-cec3b8bb9b7d\"></div>\n",
       "</div>"
      ]
     },
     "metadata": {},
     "output_type": "display_data"
    },
    {
     "data": {
      "application/javascript": [
       "(function(root) {\n",
       "  function embed_document(root) {\n",
       "    var docs_json = {\"bf759261-668d-40b8-b708-e2dfc363e026\":{\"roots\":{\"references\":[{\"attributes\":{\"plot\":{\"id\":\"0dad84ed-bed1-4528-a344-e12bf6d6494f\",\"subtype\":\"Figure\",\"type\":\"Plot\"},\"ticker\":{\"id\":\"9ecd602e-cd5e-468d-b890-6608bca69b12\",\"type\":\"BasicTicker\"}},\"id\":\"4370d4d2-2b26-4bf3-9fbc-00779ccd2443\",\"type\":\"Grid\"},{\"attributes\":{},\"id\":\"ab3ec1e1-ffc9-48ab-b548-71a3fabcf086\",\"type\":\"BasicTickFormatter\"},{\"attributes\":{\"axis_label\":\"Graus\",\"formatter\":{\"id\":\"ab3ec1e1-ffc9-48ab-b548-71a3fabcf086\",\"type\":\"BasicTickFormatter\"},\"plot\":{\"id\":\"0dad84ed-bed1-4528-a344-e12bf6d6494f\",\"subtype\":\"Figure\",\"type\":\"Plot\"},\"ticker\":{\"id\":\"de31e9f0-a9c5-4e3f-b61c-23f6e95e005a\",\"type\":\"BasicTicker\"}},\"id\":\"b3f40831-65f5-48de-a3ed-dea9dd9378c0\",\"type\":\"LinearAxis\"},{\"attributes\":{\"callback\":null,\"column_names\":[\"x\",\"y\"],\"data\":{\"x\":[1,2,3,4,5],\"y\":[22,18,15,18,37]}},\"id\":\"89e903de-de39-4610-8043-c48b300e302e\",\"type\":\"ColumnDataSource\"},{\"attributes\":{},\"id\":\"de31e9f0-a9c5-4e3f-b61c-23f6e95e005a\",\"type\":\"BasicTicker\"},{\"attributes\":{\"data_source\":{\"id\":\"89e903de-de39-4610-8043-c48b300e302e\",\"type\":\"ColumnDataSource\"},\"glyph\":{\"id\":\"c68f2a51-f2fe-4314-a9ac-eaf428af6a4f\",\"type\":\"Line\"},\"hover_glyph\":null,\"muted_glyph\":null,\"nonselection_glyph\":{\"id\":\"e15a323d-0986-4666-bffb-b99aad94c4cb\",\"type\":\"Line\"},\"selection_glyph\":null,\"view\":{\"id\":\"5ba48007-9399-46ec-a0a2-6aa248199f6a\",\"type\":\"CDSView\"}},\"id\":\"2c24b60a-146a-4c7a-b28b-31e9e9e783ea\",\"type\":\"GlyphRenderer\"},{\"attributes\":{\"line_color\":{\"value\":\"green\"},\"line_width\":{\"value\":2},\"x\":{\"field\":\"x\"},\"y\":{\"field\":\"y\"}},\"id\":\"c68f2a51-f2fe-4314-a9ac-eaf428af6a4f\",\"type\":\"Line\"},{\"attributes\":{\"dimension\":1,\"plot\":{\"id\":\"0dad84ed-bed1-4528-a344-e12bf6d6494f\",\"subtype\":\"Figure\",\"type\":\"Plot\"},\"ticker\":{\"id\":\"de31e9f0-a9c5-4e3f-b61c-23f6e95e005a\",\"type\":\"BasicTicker\"}},\"id\":\"3f1da593-e8ef-429a-8a56-a1016fa22754\",\"type\":\"Grid\"},{\"attributes\":{\"overlay\":{\"id\":\"df788a63-9fa5-44b7-a606-d0767ec8d4b5\",\"type\":\"BoxAnnotation\"}},\"id\":\"8f6ad952-e7e6-40f5-977c-6d0da64afcae\",\"type\":\"BoxZoomTool\"},{\"attributes\":{\"below\":[{\"id\":\"7212a770-fade-4072-bea0-22ff17d8b9db\",\"type\":\"LinearAxis\"}],\"left\":[{\"id\":\"b3f40831-65f5-48de-a3ed-dea9dd9378c0\",\"type\":\"LinearAxis\"}],\"plot_height\":400,\"plot_width\":400,\"renderers\":[{\"id\":\"7212a770-fade-4072-bea0-22ff17d8b9db\",\"type\":\"LinearAxis\"},{\"id\":\"4370d4d2-2b26-4bf3-9fbc-00779ccd2443\",\"type\":\"Grid\"},{\"id\":\"b3f40831-65f5-48de-a3ed-dea9dd9378c0\",\"type\":\"LinearAxis\"},{\"id\":\"3f1da593-e8ef-429a-8a56-a1016fa22754\",\"type\":\"Grid\"},{\"id\":\"df788a63-9fa5-44b7-a606-d0767ec8d4b5\",\"type\":\"BoxAnnotation\"},{\"id\":\"919c7a0f-ce3c-4d61-8b84-e03b09d97dbb\",\"type\":\"Legend\"},{\"id\":\"2c24b60a-146a-4c7a-b28b-31e9e9e783ea\",\"type\":\"GlyphRenderer\"}],\"title\":{\"id\":\"b6771067-289b-4dab-bcb1-78090e173e91\",\"type\":\"Title\"},\"toolbar\":{\"id\":\"ae1d83bf-3606-4d70-b198-08ed7f7fdd62\",\"type\":\"Toolbar\"},\"x_range\":{\"id\":\"958591cc-040b-4d3d-b37a-f2961129c9b0\",\"type\":\"DataRange1d\"},\"x_scale\":{\"id\":\"3c57c4e4-b39a-44f3-98f1-a3184533682e\",\"type\":\"LinearScale\"},\"y_range\":{\"id\":\"4bf7e7c3-95ef-4032-87da-37316cb66c83\",\"type\":\"DataRange1d\"},\"y_scale\":{\"id\":\"f438d9d6-a37f-4abd-9bfc-dc6ec2635fd9\",\"type\":\"LinearScale\"}},\"id\":\"0dad84ed-bed1-4528-a344-e12bf6d6494f\",\"subtype\":\"Figure\",\"type\":\"Plot\"},{\"attributes\":{\"plot\":null,\"text\":\"Gr\\u00e1fico de Linha\"},\"id\":\"b6771067-289b-4dab-bcb1-78090e173e91\",\"type\":\"Title\"},{\"attributes\":{\"line_alpha\":{\"value\":0.1},\"line_color\":{\"value\":\"#1f77b4\"},\"line_width\":{\"value\":2},\"x\":{\"field\":\"x\"},\"y\":{\"field\":\"y\"}},\"id\":\"e15a323d-0986-4666-bffb-b99aad94c4cb\",\"type\":\"Line\"},{\"attributes\":{\"bottom_units\":\"screen\",\"fill_alpha\":{\"value\":0.5},\"fill_color\":{\"value\":\"lightgrey\"},\"left_units\":\"screen\",\"level\":\"overlay\",\"line_alpha\":{\"value\":1.0},\"line_color\":{\"value\":\"black\"},\"line_dash\":[4,4],\"line_width\":{\"value\":2},\"plot\":null,\"render_mode\":\"css\",\"right_units\":\"screen\",\"top_units\":\"screen\"},\"id\":\"df788a63-9fa5-44b7-a606-d0767ec8d4b5\",\"type\":\"BoxAnnotation\"},{\"attributes\":{\"callback\":null},\"id\":\"958591cc-040b-4d3d-b37a-f2961129c9b0\",\"type\":\"DataRange1d\"},{\"attributes\":{},\"id\":\"198aa146-e17c-4754-bf31-e653a4745d40\",\"type\":\"CrosshairTool\"},{\"attributes\":{},\"id\":\"f16b5ac7-9a12-47c2-a408-125837b78eac\",\"type\":\"ResetTool\"},{\"attributes\":{\"label\":{\"value\":\"Celsius\"},\"renderers\":[{\"id\":\"2c24b60a-146a-4c7a-b28b-31e9e9e783ea\",\"type\":\"GlyphRenderer\"}]},\"id\":\"343b7b2b-6318-4fdf-98a9-1ce7e0475a06\",\"type\":\"LegendItem\"},{\"attributes\":{},\"id\":\"827fcff1-4241-4a09-9be2-0b8b44613ddb\",\"type\":\"SaveTool\"},{\"attributes\":{\"active_drag\":\"auto\",\"active_inspect\":\"auto\",\"active_scroll\":\"auto\",\"active_tap\":\"auto\",\"tools\":[{\"id\":\"8f6ad952-e7e6-40f5-977c-6d0da64afcae\",\"type\":\"BoxZoomTool\"},{\"id\":\"f16b5ac7-9a12-47c2-a408-125837b78eac\",\"type\":\"ResetTool\"},{\"id\":\"827fcff1-4241-4a09-9be2-0b8b44613ddb\",\"type\":\"SaveTool\"},{\"id\":\"198aa146-e17c-4754-bf31-e653a4745d40\",\"type\":\"CrosshairTool\"}]},\"id\":\"ae1d83bf-3606-4d70-b198-08ed7f7fdd62\",\"type\":\"Toolbar\"},{\"attributes\":{},\"id\":\"3c57c4e4-b39a-44f3-98f1-a3184533682e\",\"type\":\"LinearScale\"},{\"attributes\":{\"callback\":null},\"id\":\"4bf7e7c3-95ef-4032-87da-37316cb66c83\",\"type\":\"DataRange1d\"},{\"attributes\":{},\"id\":\"f438d9d6-a37f-4abd-9bfc-dc6ec2635fd9\",\"type\":\"LinearScale\"},{\"attributes\":{\"items\":[{\"id\":\"343b7b2b-6318-4fdf-98a9-1ce7e0475a06\",\"type\":\"LegendItem\"}],\"plot\":{\"id\":\"0dad84ed-bed1-4528-a344-e12bf6d6494f\",\"subtype\":\"Figure\",\"type\":\"Plot\"}},\"id\":\"919c7a0f-ce3c-4d61-8b84-e03b09d97dbb\",\"type\":\"Legend\"},{\"attributes\":{\"source\":{\"id\":\"89e903de-de39-4610-8043-c48b300e302e\",\"type\":\"ColumnDataSource\"}},\"id\":\"5ba48007-9399-46ec-a0a2-6aa248199f6a\",\"type\":\"CDSView\"},{\"attributes\":{\"axis_label\":\"Dias\",\"formatter\":{\"id\":\"3c896f03-fbf0-468f-904e-381df6dba531\",\"type\":\"BasicTickFormatter\"},\"plot\":{\"id\":\"0dad84ed-bed1-4528-a344-e12bf6d6494f\",\"subtype\":\"Figure\",\"type\":\"Plot\"},\"ticker\":{\"id\":\"9ecd602e-cd5e-468d-b890-6608bca69b12\",\"type\":\"BasicTicker\"}},\"id\":\"7212a770-fade-4072-bea0-22ff17d8b9db\",\"type\":\"LinearAxis\"},{\"attributes\":{},\"id\":\"3c896f03-fbf0-468f-904e-381df6dba531\",\"type\":\"BasicTickFormatter\"},{\"attributes\":{},\"id\":\"9ecd602e-cd5e-468d-b890-6608bca69b12\",\"type\":\"BasicTicker\"}],\"root_ids\":[\"0dad84ed-bed1-4528-a344-e12bf6d6494f\"]},\"title\":\"Bokeh Application\",\"version\":\"0.12.9\"}};\n",
       "    var render_items = [{\"docid\":\"bf759261-668d-40b8-b708-e2dfc363e026\",\"elementid\":\"8e412700-642b-49cc-95fa-cec3b8bb9b7d\",\"modelid\":\"0dad84ed-bed1-4528-a344-e12bf6d6494f\"}];\n",
       "\n",
       "    root.Bokeh.embed.embed_items(docs_json, render_items);\n",
       "  }\n",
       "\n",
       "  if (root.Bokeh !== undefined) {\n",
       "    embed_document(root);\n",
       "  } else {\n",
       "    var attempts = 0;\n",
       "    var timer = setInterval(function(root) {\n",
       "      if (root.Bokeh !== undefined) {\n",
       "        embed_document(root);\n",
       "        clearInterval(timer);\n",
       "      }\n",
       "      attempts++;\n",
       "      if (attempts > 100) {\n",
       "        console.log(\"Bokeh: ERROR: Unable to embed document because BokehJS library is missing\")\n",
       "        clearInterval(timer);\n",
       "      }\n",
       "    }, 10, root)\n",
       "  }\n",
       "})(window);"
      ],
      "application/vnd.bokehjs_exec.v0+json": ""
     },
     "metadata": {
      "application/vnd.bokehjs_exec.v0+json": {
       "id": "0dad84ed-bed1-4528-a344-e12bf6d6494f"
      }
     },
     "output_type": "display_data"
    }
   ],
   "source": [
    "show(p)"
   ]
  },
  {
   "cell_type": "code",
   "execution_count": 9,
   "metadata": {},
   "outputs": [],
   "source": [
    "kelvin = []\n",
    "for i in celsius:\n",
    "    kelvin.append(i+273)"
   ]
  },
  {
   "cell_type": "code",
   "execution_count": 10,
   "metadata": {},
   "outputs": [
    {
     "data": {
      "text/html": [
       "<div style=\"display: table;\"><div style=\"display: table-row;\"><div style=\"display: table-cell;\"><b title=\"bokeh.models.renderers.GlyphRenderer\">GlyphRenderer</b>(</div><div style=\"display: table-cell;\">id&nbsp;=&nbsp;'97d3c94b-77f3-4502-ae72-ff8c1f9d0e23', <span id=\"8c5abc0a-e3e8-4ac9-aed3-0b81cf55eecf\" style=\"cursor: pointer;\">&hellip;)</span></div></div><div class=\"6e11ddce-f736-423b-bd9d-75f303e6040c\" style=\"display: none;\"><div style=\"display: table-cell;\"></div><div style=\"display: table-cell;\">data_source&nbsp;=&nbsp;ColumnDataSource(id='e5d9d939-83d4-4c9d-ab17-09bbc85ecdd9', ...),</div></div><div class=\"6e11ddce-f736-423b-bd9d-75f303e6040c\" style=\"display: none;\"><div style=\"display: table-cell;\"></div><div style=\"display: table-cell;\">glyph&nbsp;=&nbsp;Triangle(id='6921fff8-3934-45ea-98f9-de3b3032a98f', ...),</div></div><div class=\"6e11ddce-f736-423b-bd9d-75f303e6040c\" style=\"display: none;\"><div style=\"display: table-cell;\"></div><div style=\"display: table-cell;\">hover_glyph&nbsp;=&nbsp;None,</div></div><div class=\"6e11ddce-f736-423b-bd9d-75f303e6040c\" style=\"display: none;\"><div style=\"display: table-cell;\"></div><div style=\"display: table-cell;\">js_event_callbacks&nbsp;=&nbsp;{},</div></div><div class=\"6e11ddce-f736-423b-bd9d-75f303e6040c\" style=\"display: none;\"><div style=\"display: table-cell;\"></div><div style=\"display: table-cell;\">js_property_callbacks&nbsp;=&nbsp;{},</div></div><div class=\"6e11ddce-f736-423b-bd9d-75f303e6040c\" style=\"display: none;\"><div style=\"display: table-cell;\"></div><div style=\"display: table-cell;\">level&nbsp;=&nbsp;'glyph',</div></div><div class=\"6e11ddce-f736-423b-bd9d-75f303e6040c\" style=\"display: none;\"><div style=\"display: table-cell;\"></div><div style=\"display: table-cell;\">muted&nbsp;=&nbsp;False,</div></div><div class=\"6e11ddce-f736-423b-bd9d-75f303e6040c\" style=\"display: none;\"><div style=\"display: table-cell;\"></div><div style=\"display: table-cell;\">muted_glyph&nbsp;=&nbsp;None,</div></div><div class=\"6e11ddce-f736-423b-bd9d-75f303e6040c\" style=\"display: none;\"><div style=\"display: table-cell;\"></div><div style=\"display: table-cell;\">name&nbsp;=&nbsp;None,</div></div><div class=\"6e11ddce-f736-423b-bd9d-75f303e6040c\" style=\"display: none;\"><div style=\"display: table-cell;\"></div><div style=\"display: table-cell;\">nonselection_glyph&nbsp;=&nbsp;Triangle(id='0fedbf77-a7fd-46b8-b8df-8b765091eacc', ...),</div></div><div class=\"6e11ddce-f736-423b-bd9d-75f303e6040c\" style=\"display: none;\"><div style=\"display: table-cell;\"></div><div style=\"display: table-cell;\">selection_glyph&nbsp;=&nbsp;None,</div></div><div class=\"6e11ddce-f736-423b-bd9d-75f303e6040c\" style=\"display: none;\"><div style=\"display: table-cell;\"></div><div style=\"display: table-cell;\">subscribed_events&nbsp;=&nbsp;[],</div></div><div class=\"6e11ddce-f736-423b-bd9d-75f303e6040c\" style=\"display: none;\"><div style=\"display: table-cell;\"></div><div style=\"display: table-cell;\">tags&nbsp;=&nbsp;[],</div></div><div class=\"6e11ddce-f736-423b-bd9d-75f303e6040c\" style=\"display: none;\"><div style=\"display: table-cell;\"></div><div style=\"display: table-cell;\">view&nbsp;=&nbsp;CDSView(id='cad76179-0daa-4306-80f0-b6888bd49b05', ...),</div></div><div class=\"6e11ddce-f736-423b-bd9d-75f303e6040c\" style=\"display: none;\"><div style=\"display: table-cell;\"></div><div style=\"display: table-cell;\">visible&nbsp;=&nbsp;True,</div></div><div class=\"6e11ddce-f736-423b-bd9d-75f303e6040c\" style=\"display: none;\"><div style=\"display: table-cell;\"></div><div style=\"display: table-cell;\">x_range_name&nbsp;=&nbsp;'default',</div></div><div class=\"6e11ddce-f736-423b-bd9d-75f303e6040c\" style=\"display: none;\"><div style=\"display: table-cell;\"></div><div style=\"display: table-cell;\">y_range_name&nbsp;=&nbsp;'default')</div></div></div>\n",
       "<script>\n",
       "(function() {\n",
       "  var expanded = false;\n",
       "  var ellipsis = document.getElementById(\"8c5abc0a-e3e8-4ac9-aed3-0b81cf55eecf\");\n",
       "  ellipsis.addEventListener(\"click\", function() {\n",
       "    var rows = document.getElementsByClassName(\"6e11ddce-f736-423b-bd9d-75f303e6040c\");\n",
       "    for (var i = 0; i < rows.length; i++) {\n",
       "      var el = rows[i];\n",
       "      el.style.display = expanded ? \"none\" : \"table-row\";\n",
       "    }\n",
       "    ellipsis.innerHTML = expanded ? \"&hellip;)\" : \"&lsaquo;&lsaquo;&lsaquo;\";\n",
       "    expanded = !expanded;\n",
       "  });\n",
       "})();\n",
       "</script>\n"
      ],
      "text/plain": [
       "GlyphRenderer(id='97d3c94b-77f3-4502-ae72-ff8c1f9d0e23', ...)"
      ]
     },
     "execution_count": 10,
     "metadata": {},
     "output_type": "execute_result"
    }
   ],
   "source": [
    "p.line(x=dias, y=kelvin, line_width=5)\n",
    "p.triangle(x=dias, y=kelvin,\n",
    "        legend='Kelvin',\n",
    "        size=15\n",
    ")"
   ]
  },
  {
   "cell_type": "code",
   "execution_count": 11,
   "metadata": {},
   "outputs": [
    {
     "data": {
      "text/html": [
       "\n",
       "<div class=\"bk-root\">\n",
       "    <div class=\"bk-plotdiv\" id=\"8e41a286-bb9b-47e6-a577-80095fc356cd\"></div>\n",
       "</div>"
      ]
     },
     "metadata": {},
     "output_type": "display_data"
    },
    {
     "data": {
      "application/javascript": [
       "(function(root) {\n",
       "  function embed_document(root) {\n",
       "    var docs_json = {\"9be65795-54b1-4257-a47f-a375ce55f13d\":{\"roots\":{\"references\":[{\"attributes\":{},\"id\":\"ab3ec1e1-ffc9-48ab-b548-71a3fabcf086\",\"type\":\"BasicTickFormatter\"},{\"attributes\":{\"callback\":null,\"column_names\":[\"x\",\"y\"],\"data\":{\"x\":[1,2,3,4,5],\"y\":[22,18,15,18,37]}},\"id\":\"89e903de-de39-4610-8043-c48b300e302e\",\"type\":\"ColumnDataSource\"},{\"attributes\":{\"data_source\":{\"id\":\"89e903de-de39-4610-8043-c48b300e302e\",\"type\":\"ColumnDataSource\"},\"glyph\":{\"id\":\"c68f2a51-f2fe-4314-a9ac-eaf428af6a4f\",\"type\":\"Line\"},\"hover_glyph\":null,\"muted_glyph\":null,\"nonselection_glyph\":{\"id\":\"e15a323d-0986-4666-bffb-b99aad94c4cb\",\"type\":\"Line\"},\"selection_glyph\":null,\"view\":{\"id\":\"5ba48007-9399-46ec-a0a2-6aa248199f6a\",\"type\":\"CDSView\"}},\"id\":\"2c24b60a-146a-4c7a-b28b-31e9e9e783ea\",\"type\":\"GlyphRenderer\"},{\"attributes\":{\"line_color\":{\"value\":\"green\"},\"line_width\":{\"value\":2},\"x\":{\"field\":\"x\"},\"y\":{\"field\":\"y\"}},\"id\":\"c68f2a51-f2fe-4314-a9ac-eaf428af6a4f\",\"type\":\"Line\"},{\"attributes\":{\"below\":[{\"id\":\"7212a770-fade-4072-bea0-22ff17d8b9db\",\"type\":\"LinearAxis\"}],\"left\":[{\"id\":\"b3f40831-65f5-48de-a3ed-dea9dd9378c0\",\"type\":\"LinearAxis\"}],\"plot_height\":400,\"plot_width\":400,\"renderers\":[{\"id\":\"7212a770-fade-4072-bea0-22ff17d8b9db\",\"type\":\"LinearAxis\"},{\"id\":\"4370d4d2-2b26-4bf3-9fbc-00779ccd2443\",\"type\":\"Grid\"},{\"id\":\"b3f40831-65f5-48de-a3ed-dea9dd9378c0\",\"type\":\"LinearAxis\"},{\"id\":\"3f1da593-e8ef-429a-8a56-a1016fa22754\",\"type\":\"Grid\"},{\"id\":\"df788a63-9fa5-44b7-a606-d0767ec8d4b5\",\"type\":\"BoxAnnotation\"},{\"id\":\"919c7a0f-ce3c-4d61-8b84-e03b09d97dbb\",\"type\":\"Legend\"},{\"id\":\"2c24b60a-146a-4c7a-b28b-31e9e9e783ea\",\"type\":\"GlyphRenderer\"},{\"id\":\"a8311c6d-14e8-4337-b93a-5d73733d705f\",\"type\":\"GlyphRenderer\"},{\"id\":\"97d3c94b-77f3-4502-ae72-ff8c1f9d0e23\",\"type\":\"GlyphRenderer\"}],\"title\":{\"id\":\"b6771067-289b-4dab-bcb1-78090e173e91\",\"type\":\"Title\"},\"toolbar\":{\"id\":\"ae1d83bf-3606-4d70-b198-08ed7f7fdd62\",\"type\":\"Toolbar\"},\"x_range\":{\"id\":\"958591cc-040b-4d3d-b37a-f2961129c9b0\",\"type\":\"DataRange1d\"},\"x_scale\":{\"id\":\"3c57c4e4-b39a-44f3-98f1-a3184533682e\",\"type\":\"LinearScale\"},\"y_range\":{\"id\":\"4bf7e7c3-95ef-4032-87da-37316cb66c83\",\"type\":\"DataRange1d\"},\"y_scale\":{\"id\":\"f438d9d6-a37f-4abd-9bfc-dc6ec2635fd9\",\"type\":\"LinearScale\"}},\"id\":\"0dad84ed-bed1-4528-a344-e12bf6d6494f\",\"subtype\":\"Figure\",\"type\":\"Plot\"},{\"attributes\":{\"plot\":null,\"text\":\"Gr\\u00e1fico de Linha\"},\"id\":\"b6771067-289b-4dab-bcb1-78090e173e91\",\"type\":\"Title\"},{\"attributes\":{\"line_alpha\":{\"value\":0.1},\"line_color\":{\"value\":\"#1f77b4\"},\"line_width\":{\"value\":2},\"x\":{\"field\":\"x\"},\"y\":{\"field\":\"y\"}},\"id\":\"e15a323d-0986-4666-bffb-b99aad94c4cb\",\"type\":\"Line\"},{\"attributes\":{\"callback\":null},\"id\":\"958591cc-040b-4d3d-b37a-f2961129c9b0\",\"type\":\"DataRange1d\"},{\"attributes\":{\"label\":{\"value\":\"Celsius\"},\"renderers\":[{\"id\":\"2c24b60a-146a-4c7a-b28b-31e9e9e783ea\",\"type\":\"GlyphRenderer\"}]},\"id\":\"343b7b2b-6318-4fdf-98a9-1ce7e0475a06\",\"type\":\"LegendItem\"},{\"attributes\":{\"active_drag\":\"auto\",\"active_inspect\":\"auto\",\"active_scroll\":\"auto\",\"active_tap\":\"auto\",\"tools\":[{\"id\":\"8f6ad952-e7e6-40f5-977c-6d0da64afcae\",\"type\":\"BoxZoomTool\"},{\"id\":\"f16b5ac7-9a12-47c2-a408-125837b78eac\",\"type\":\"ResetTool\"},{\"id\":\"827fcff1-4241-4a09-9be2-0b8b44613ddb\",\"type\":\"SaveTool\"},{\"id\":\"198aa146-e17c-4754-bf31-e653a4745d40\",\"type\":\"CrosshairTool\"}]},\"id\":\"ae1d83bf-3606-4d70-b198-08ed7f7fdd62\",\"type\":\"Toolbar\"},{\"attributes\":{},\"id\":\"3c57c4e4-b39a-44f3-98f1-a3184533682e\",\"type\":\"LinearScale\"},{\"attributes\":{\"callback\":null},\"id\":\"4bf7e7c3-95ef-4032-87da-37316cb66c83\",\"type\":\"DataRange1d\"},{\"attributes\":{},\"id\":\"f438d9d6-a37f-4abd-9bfc-dc6ec2635fd9\",\"type\":\"LinearScale\"},{\"attributes\":{\"items\":[{\"id\":\"343b7b2b-6318-4fdf-98a9-1ce7e0475a06\",\"type\":\"LegendItem\"},{\"id\":\"233113d6-be55-4b18-9dfe-b367a634ca23\",\"type\":\"LegendItem\"}],\"plot\":{\"id\":\"0dad84ed-bed1-4528-a344-e12bf6d6494f\",\"subtype\":\"Figure\",\"type\":\"Plot\"}},\"id\":\"919c7a0f-ce3c-4d61-8b84-e03b09d97dbb\",\"type\":\"Legend\"},{\"attributes\":{\"axis_label\":\"Dias\",\"formatter\":{\"id\":\"3c896f03-fbf0-468f-904e-381df6dba531\",\"type\":\"BasicTickFormatter\"},\"plot\":{\"id\":\"0dad84ed-bed1-4528-a344-e12bf6d6494f\",\"subtype\":\"Figure\",\"type\":\"Plot\"},\"ticker\":{\"id\":\"9ecd602e-cd5e-468d-b890-6608bca69b12\",\"type\":\"BasicTicker\"}},\"id\":\"7212a770-fade-4072-bea0-22ff17d8b9db\",\"type\":\"LinearAxis\"},{\"attributes\":{\"fill_alpha\":{\"value\":0.1},\"fill_color\":{\"value\":\"#1f77b4\"},\"line_alpha\":{\"value\":0.1},\"line_color\":{\"value\":\"#1f77b4\"},\"size\":{\"units\":\"screen\",\"value\":15},\"x\":{\"field\":\"x\"},\"y\":{\"field\":\"y\"}},\"id\":\"0fedbf77-a7fd-46b8-b8df-8b765091eacc\",\"type\":\"Triangle\"},{\"attributes\":{},\"id\":\"9ecd602e-cd5e-468d-b890-6608bca69b12\",\"type\":\"BasicTicker\"},{\"attributes\":{\"plot\":{\"id\":\"0dad84ed-bed1-4528-a344-e12bf6d6494f\",\"subtype\":\"Figure\",\"type\":\"Plot\"},\"ticker\":{\"id\":\"9ecd602e-cd5e-468d-b890-6608bca69b12\",\"type\":\"BasicTicker\"}},\"id\":\"4370d4d2-2b26-4bf3-9fbc-00779ccd2443\",\"type\":\"Grid\"},{\"attributes\":{\"callback\":null,\"column_names\":[\"x\",\"y\"],\"data\":{\"x\":[1,2,3,4,5],\"y\":[295,291,288,291,310]}},\"id\":\"663e1bc6-f618-4fd2-8e12-0854abd4e3ca\",\"type\":\"ColumnDataSource\"},{\"attributes\":{\"axis_label\":\"Graus\",\"formatter\":{\"id\":\"ab3ec1e1-ffc9-48ab-b548-71a3fabcf086\",\"type\":\"BasicTickFormatter\"},\"plot\":{\"id\":\"0dad84ed-bed1-4528-a344-e12bf6d6494f\",\"subtype\":\"Figure\",\"type\":\"Plot\"},\"ticker\":{\"id\":\"de31e9f0-a9c5-4e3f-b61c-23f6e95e005a\",\"type\":\"BasicTicker\"}},\"id\":\"b3f40831-65f5-48de-a3ed-dea9dd9378c0\",\"type\":\"LinearAxis\"},{\"attributes\":{},\"id\":\"de31e9f0-a9c5-4e3f-b61c-23f6e95e005a\",\"type\":\"BasicTicker\"},{\"attributes\":{\"dimension\":1,\"plot\":{\"id\":\"0dad84ed-bed1-4528-a344-e12bf6d6494f\",\"subtype\":\"Figure\",\"type\":\"Plot\"},\"ticker\":{\"id\":\"de31e9f0-a9c5-4e3f-b61c-23f6e95e005a\",\"type\":\"BasicTicker\"}},\"id\":\"3f1da593-e8ef-429a-8a56-a1016fa22754\",\"type\":\"Grid\"},{\"attributes\":{\"line_color\":{\"value\":\"#1f77b4\"},\"line_width\":{\"value\":5},\"x\":{\"field\":\"x\"},\"y\":{\"field\":\"y\"}},\"id\":\"36c93a7c-f3f8-4156-8ca3-55b44edb0141\",\"type\":\"Line\"},{\"attributes\":{\"data_source\":{\"id\":\"e5d9d939-83d4-4c9d-ab17-09bbc85ecdd9\",\"type\":\"ColumnDataSource\"},\"glyph\":{\"id\":\"6921fff8-3934-45ea-98f9-de3b3032a98f\",\"type\":\"Triangle\"},\"hover_glyph\":null,\"muted_glyph\":null,\"nonselection_glyph\":{\"id\":\"0fedbf77-a7fd-46b8-b8df-8b765091eacc\",\"type\":\"Triangle\"},\"selection_glyph\":null,\"view\":{\"id\":\"cad76179-0daa-4306-80f0-b6888bd49b05\",\"type\":\"CDSView\"}},\"id\":\"97d3c94b-77f3-4502-ae72-ff8c1f9d0e23\",\"type\":\"GlyphRenderer\"},{\"attributes\":{\"overlay\":{\"id\":\"df788a63-9fa5-44b7-a606-d0767ec8d4b5\",\"type\":\"BoxAnnotation\"}},\"id\":\"8f6ad952-e7e6-40f5-977c-6d0da64afcae\",\"type\":\"BoxZoomTool\"},{\"attributes\":{\"source\":{\"id\":\"e5d9d939-83d4-4c9d-ab17-09bbc85ecdd9\",\"type\":\"ColumnDataSource\"}},\"id\":\"cad76179-0daa-4306-80f0-b6888bd49b05\",\"type\":\"CDSView\"},{\"attributes\":{\"line_alpha\":{\"value\":0.1},\"line_color\":{\"value\":\"#1f77b4\"},\"line_width\":{\"value\":5},\"x\":{\"field\":\"x\"},\"y\":{\"field\":\"y\"}},\"id\":\"e796b173-f885-43bb-8edf-47c635a9c3eb\",\"type\":\"Line\"},{\"attributes\":{\"fill_color\":{\"value\":\"#1f77b4\"},\"line_color\":{\"value\":\"#1f77b4\"},\"size\":{\"units\":\"screen\",\"value\":15},\"x\":{\"field\":\"x\"},\"y\":{\"field\":\"y\"}},\"id\":\"6921fff8-3934-45ea-98f9-de3b3032a98f\",\"type\":\"Triangle\"},{\"attributes\":{\"data_source\":{\"id\":\"663e1bc6-f618-4fd2-8e12-0854abd4e3ca\",\"type\":\"ColumnDataSource\"},\"glyph\":{\"id\":\"36c93a7c-f3f8-4156-8ca3-55b44edb0141\",\"type\":\"Line\"},\"hover_glyph\":null,\"muted_glyph\":null,\"nonselection_glyph\":{\"id\":\"e796b173-f885-43bb-8edf-47c635a9c3eb\",\"type\":\"Line\"},\"selection_glyph\":null,\"view\":{\"id\":\"4b8fdd0d-da28-4a0c-958e-99ffad0911eb\",\"type\":\"CDSView\"}},\"id\":\"a8311c6d-14e8-4337-b93a-5d73733d705f\",\"type\":\"GlyphRenderer\"},{\"attributes\":{\"bottom_units\":\"screen\",\"fill_alpha\":{\"value\":0.5},\"fill_color\":{\"value\":\"lightgrey\"},\"left_units\":\"screen\",\"level\":\"overlay\",\"line_alpha\":{\"value\":1.0},\"line_color\":{\"value\":\"black\"},\"line_dash\":[4,4],\"line_width\":{\"value\":2},\"plot\":null,\"render_mode\":\"css\",\"right_units\":\"screen\",\"top_units\":\"screen\"},\"id\":\"df788a63-9fa5-44b7-a606-d0767ec8d4b5\",\"type\":\"BoxAnnotation\"},{\"attributes\":{\"source\":{\"id\":\"663e1bc6-f618-4fd2-8e12-0854abd4e3ca\",\"type\":\"ColumnDataSource\"}},\"id\":\"4b8fdd0d-da28-4a0c-958e-99ffad0911eb\",\"type\":\"CDSView\"},{\"attributes\":{},\"id\":\"198aa146-e17c-4754-bf31-e653a4745d40\",\"type\":\"CrosshairTool\"},{\"attributes\":{},\"id\":\"f16b5ac7-9a12-47c2-a408-125837b78eac\",\"type\":\"ResetTool\"},{\"attributes\":{},\"id\":\"827fcff1-4241-4a09-9be2-0b8b44613ddb\",\"type\":\"SaveTool\"},{\"attributes\":{\"callback\":null,\"column_names\":[\"x\",\"y\"],\"data\":{\"x\":[1,2,3,4,5],\"y\":[295,291,288,291,310]}},\"id\":\"e5d9d939-83d4-4c9d-ab17-09bbc85ecdd9\",\"type\":\"ColumnDataSource\"},{\"attributes\":{\"label\":{\"value\":\"Kelvin\"},\"renderers\":[{\"id\":\"97d3c94b-77f3-4502-ae72-ff8c1f9d0e23\",\"type\":\"GlyphRenderer\"}]},\"id\":\"233113d6-be55-4b18-9dfe-b367a634ca23\",\"type\":\"LegendItem\"},{\"attributes\":{\"source\":{\"id\":\"89e903de-de39-4610-8043-c48b300e302e\",\"type\":\"ColumnDataSource\"}},\"id\":\"5ba48007-9399-46ec-a0a2-6aa248199f6a\",\"type\":\"CDSView\"},{\"attributes\":{},\"id\":\"3c896f03-fbf0-468f-904e-381df6dba531\",\"type\":\"BasicTickFormatter\"}],\"root_ids\":[\"0dad84ed-bed1-4528-a344-e12bf6d6494f\"]},\"title\":\"Bokeh Application\",\"version\":\"0.12.9\"}};\n",
       "    var render_items = [{\"docid\":\"9be65795-54b1-4257-a47f-a375ce55f13d\",\"elementid\":\"8e41a286-bb9b-47e6-a577-80095fc356cd\",\"modelid\":\"0dad84ed-bed1-4528-a344-e12bf6d6494f\"}];\n",
       "\n",
       "    root.Bokeh.embed.embed_items(docs_json, render_items);\n",
       "  }\n",
       "\n",
       "  if (root.Bokeh !== undefined) {\n",
       "    embed_document(root);\n",
       "  } else {\n",
       "    var attempts = 0;\n",
       "    var timer = setInterval(function(root) {\n",
       "      if (root.Bokeh !== undefined) {\n",
       "        embed_document(root);\n",
       "        clearInterval(timer);\n",
       "      }\n",
       "      attempts++;\n",
       "      if (attempts > 100) {\n",
       "        console.log(\"Bokeh: ERROR: Unable to embed document because BokehJS library is missing\")\n",
       "        clearInterval(timer);\n",
       "      }\n",
       "    }, 10, root)\n",
       "  }\n",
       "})(window);"
      ],
      "application/vnd.bokehjs_exec.v0+json": ""
     },
     "metadata": {
      "application/vnd.bokehjs_exec.v0+json": {
       "id": "0dad84ed-bed1-4528-a344-e12bf6d6494f"
      }
     },
     "output_type": "display_data"
    }
   ],
   "source": [
    "show(p)"
   ]
  },
  {
   "cell_type": "code",
   "execution_count": 12,
   "metadata": {},
   "outputs": [],
   "source": [
    "fahrenheit = []\n",
    "for i in celsius:\n",
    "    fahrenheit.append((160+(9*i))/5)"
   ]
  },
  {
   "cell_type": "code",
   "execution_count": 13,
   "metadata": {},
   "outputs": [
    {
     "name": "stdout",
     "output_type": "stream",
     "text": [
      "[71.6, 64.4, 59.0, 64.4, 98.6]\n"
     ]
    }
   ],
   "source": [
    "print(fahrenheit)"
   ]
  },
  {
   "cell_type": "code",
   "execution_count": 14,
   "metadata": {},
   "outputs": [
    {
     "data": {
      "text/html": [
       "<div style=\"display: table;\"><div style=\"display: table-row;\"><div style=\"display: table-cell;\"><b title=\"bokeh.models.renderers.GlyphRenderer\">GlyphRenderer</b>(</div><div style=\"display: table-cell;\">id&nbsp;=&nbsp;'24654595-ad77-4499-939a-ffd869d660b5', <span id=\"f564f1a2-2a46-4e01-8cfc-b493282e6cb3\" style=\"cursor: pointer;\">&hellip;)</span></div></div><div class=\"f668e280-d6e3-46fa-8028-a278b9e67df4\" style=\"display: none;\"><div style=\"display: table-cell;\"></div><div style=\"display: table-cell;\">data_source&nbsp;=&nbsp;ColumnDataSource(id='6c71223f-e2b1-46a5-a243-48d1914e2055', ...),</div></div><div class=\"f668e280-d6e3-46fa-8028-a278b9e67df4\" style=\"display: none;\"><div style=\"display: table-cell;\"></div><div style=\"display: table-cell;\">glyph&nbsp;=&nbsp;Circle(id='d1e0fcb5-1eb0-406a-af75-730b78648ee2', ...),</div></div><div class=\"f668e280-d6e3-46fa-8028-a278b9e67df4\" style=\"display: none;\"><div style=\"display: table-cell;\"></div><div style=\"display: table-cell;\">hover_glyph&nbsp;=&nbsp;None,</div></div><div class=\"f668e280-d6e3-46fa-8028-a278b9e67df4\" style=\"display: none;\"><div style=\"display: table-cell;\"></div><div style=\"display: table-cell;\">js_event_callbacks&nbsp;=&nbsp;{},</div></div><div class=\"f668e280-d6e3-46fa-8028-a278b9e67df4\" style=\"display: none;\"><div style=\"display: table-cell;\"></div><div style=\"display: table-cell;\">js_property_callbacks&nbsp;=&nbsp;{},</div></div><div class=\"f668e280-d6e3-46fa-8028-a278b9e67df4\" style=\"display: none;\"><div style=\"display: table-cell;\"></div><div style=\"display: table-cell;\">level&nbsp;=&nbsp;'glyph',</div></div><div class=\"f668e280-d6e3-46fa-8028-a278b9e67df4\" style=\"display: none;\"><div style=\"display: table-cell;\"></div><div style=\"display: table-cell;\">muted&nbsp;=&nbsp;False,</div></div><div class=\"f668e280-d6e3-46fa-8028-a278b9e67df4\" style=\"display: none;\"><div style=\"display: table-cell;\"></div><div style=\"display: table-cell;\">muted_glyph&nbsp;=&nbsp;None,</div></div><div class=\"f668e280-d6e3-46fa-8028-a278b9e67df4\" style=\"display: none;\"><div style=\"display: table-cell;\"></div><div style=\"display: table-cell;\">name&nbsp;=&nbsp;None,</div></div><div class=\"f668e280-d6e3-46fa-8028-a278b9e67df4\" style=\"display: none;\"><div style=\"display: table-cell;\"></div><div style=\"display: table-cell;\">nonselection_glyph&nbsp;=&nbsp;Circle(id='2d8f0136-5ac0-4a63-b2c7-e3beaa0d316f', ...),</div></div><div class=\"f668e280-d6e3-46fa-8028-a278b9e67df4\" style=\"display: none;\"><div style=\"display: table-cell;\"></div><div style=\"display: table-cell;\">selection_glyph&nbsp;=&nbsp;None,</div></div><div class=\"f668e280-d6e3-46fa-8028-a278b9e67df4\" style=\"display: none;\"><div style=\"display: table-cell;\"></div><div style=\"display: table-cell;\">subscribed_events&nbsp;=&nbsp;[],</div></div><div class=\"f668e280-d6e3-46fa-8028-a278b9e67df4\" style=\"display: none;\"><div style=\"display: table-cell;\"></div><div style=\"display: table-cell;\">tags&nbsp;=&nbsp;[],</div></div><div class=\"f668e280-d6e3-46fa-8028-a278b9e67df4\" style=\"display: none;\"><div style=\"display: table-cell;\"></div><div style=\"display: table-cell;\">view&nbsp;=&nbsp;CDSView(id='5a842f3d-3535-4b82-be64-dbbad95381c6', ...),</div></div><div class=\"f668e280-d6e3-46fa-8028-a278b9e67df4\" style=\"display: none;\"><div style=\"display: table-cell;\"></div><div style=\"display: table-cell;\">visible&nbsp;=&nbsp;True,</div></div><div class=\"f668e280-d6e3-46fa-8028-a278b9e67df4\" style=\"display: none;\"><div style=\"display: table-cell;\"></div><div style=\"display: table-cell;\">x_range_name&nbsp;=&nbsp;'default',</div></div><div class=\"f668e280-d6e3-46fa-8028-a278b9e67df4\" style=\"display: none;\"><div style=\"display: table-cell;\"></div><div style=\"display: table-cell;\">y_range_name&nbsp;=&nbsp;'default')</div></div></div>\n",
       "<script>\n",
       "(function() {\n",
       "  var expanded = false;\n",
       "  var ellipsis = document.getElementById(\"f564f1a2-2a46-4e01-8cfc-b493282e6cb3\");\n",
       "  ellipsis.addEventListener(\"click\", function() {\n",
       "    var rows = document.getElementsByClassName(\"f668e280-d6e3-46fa-8028-a278b9e67df4\");\n",
       "    for (var i = 0; i < rows.length; i++) {\n",
       "      var el = rows[i];\n",
       "      el.style.display = expanded ? \"none\" : \"table-row\";\n",
       "    }\n",
       "    ellipsis.innerHTML = expanded ? \"&hellip;)\" : \"&lsaquo;&lsaquo;&lsaquo;\";\n",
       "    expanded = !expanded;\n",
       "  });\n",
       "})();\n",
       "</script>\n"
      ],
      "text/plain": [
       "GlyphRenderer(id='24654595-ad77-4499-939a-ffd869d660b5', ...)"
      ]
     },
     "execution_count": 14,
     "metadata": {},
     "output_type": "execute_result"
    }
   ],
   "source": [
    "p.line(x=dias, y=fahrenheit, line_color='red')\n",
    "p.circle(x=dias, y=fahrenheit,\n",
    "         legend='Fahrenheit',\n",
    "         fill_color='white',\n",
    "         line_color='red',\n",
    "         size=10       \n",
    ")"
   ]
  },
  {
   "cell_type": "code",
   "execution_count": 15,
   "metadata": {},
   "outputs": [
    {
     "data": {
      "text/html": [
       "\n",
       "<div class=\"bk-root\">\n",
       "    <div class=\"bk-plotdiv\" id=\"2409c2d4-9ab2-4ace-b752-dc3a64f8d699\"></div>\n",
       "</div>"
      ]
     },
     "metadata": {},
     "output_type": "display_data"
    },
    {
     "data": {
      "application/javascript": [
       "(function(root) {\n",
       "  function embed_document(root) {\n",
       "    var docs_json = {\"858255e9-bac7-49d2-9035-84ee20c29752\":{\"roots\":{\"references\":[{\"attributes\":{},\"id\":\"ab3ec1e1-ffc9-48ab-b548-71a3fabcf086\",\"type\":\"BasicTickFormatter\"},{\"attributes\":{\"callback\":null,\"column_names\":[\"x\",\"y\"],\"data\":{\"x\":[1,2,3,4,5],\"y\":[22,18,15,18,37]}},\"id\":\"89e903de-de39-4610-8043-c48b300e302e\",\"type\":\"ColumnDataSource\"},{\"attributes\":{\"data_source\":{\"id\":\"89e903de-de39-4610-8043-c48b300e302e\",\"type\":\"ColumnDataSource\"},\"glyph\":{\"id\":\"c68f2a51-f2fe-4314-a9ac-eaf428af6a4f\",\"type\":\"Line\"},\"hover_glyph\":null,\"muted_glyph\":null,\"nonselection_glyph\":{\"id\":\"e15a323d-0986-4666-bffb-b99aad94c4cb\",\"type\":\"Line\"},\"selection_glyph\":null,\"view\":{\"id\":\"5ba48007-9399-46ec-a0a2-6aa248199f6a\",\"type\":\"CDSView\"}},\"id\":\"2c24b60a-146a-4c7a-b28b-31e9e9e783ea\",\"type\":\"GlyphRenderer\"},{\"attributes\":{\"line_color\":{\"value\":\"green\"},\"line_width\":{\"value\":2},\"x\":{\"field\":\"x\"},\"y\":{\"field\":\"y\"}},\"id\":\"c68f2a51-f2fe-4314-a9ac-eaf428af6a4f\",\"type\":\"Line\"},{\"attributes\":{\"below\":[{\"id\":\"7212a770-fade-4072-bea0-22ff17d8b9db\",\"type\":\"LinearAxis\"}],\"left\":[{\"id\":\"b3f40831-65f5-48de-a3ed-dea9dd9378c0\",\"type\":\"LinearAxis\"}],\"plot_height\":400,\"plot_width\":400,\"renderers\":[{\"id\":\"7212a770-fade-4072-bea0-22ff17d8b9db\",\"type\":\"LinearAxis\"},{\"id\":\"4370d4d2-2b26-4bf3-9fbc-00779ccd2443\",\"type\":\"Grid\"},{\"id\":\"b3f40831-65f5-48de-a3ed-dea9dd9378c0\",\"type\":\"LinearAxis\"},{\"id\":\"3f1da593-e8ef-429a-8a56-a1016fa22754\",\"type\":\"Grid\"},{\"id\":\"df788a63-9fa5-44b7-a606-d0767ec8d4b5\",\"type\":\"BoxAnnotation\"},{\"id\":\"919c7a0f-ce3c-4d61-8b84-e03b09d97dbb\",\"type\":\"Legend\"},{\"id\":\"2c24b60a-146a-4c7a-b28b-31e9e9e783ea\",\"type\":\"GlyphRenderer\"},{\"id\":\"a8311c6d-14e8-4337-b93a-5d73733d705f\",\"type\":\"GlyphRenderer\"},{\"id\":\"97d3c94b-77f3-4502-ae72-ff8c1f9d0e23\",\"type\":\"GlyphRenderer\"},{\"id\":\"38f95bae-7911-4f79-800f-7b7e874ce435\",\"type\":\"GlyphRenderer\"},{\"id\":\"24654595-ad77-4499-939a-ffd869d660b5\",\"type\":\"GlyphRenderer\"}],\"title\":{\"id\":\"b6771067-289b-4dab-bcb1-78090e173e91\",\"type\":\"Title\"},\"toolbar\":{\"id\":\"ae1d83bf-3606-4d70-b198-08ed7f7fdd62\",\"type\":\"Toolbar\"},\"x_range\":{\"id\":\"958591cc-040b-4d3d-b37a-f2961129c9b0\",\"type\":\"DataRange1d\"},\"x_scale\":{\"id\":\"3c57c4e4-b39a-44f3-98f1-a3184533682e\",\"type\":\"LinearScale\"},\"y_range\":{\"id\":\"4bf7e7c3-95ef-4032-87da-37316cb66c83\",\"type\":\"DataRange1d\"},\"y_scale\":{\"id\":\"f438d9d6-a37f-4abd-9bfc-dc6ec2635fd9\",\"type\":\"LinearScale\"}},\"id\":\"0dad84ed-bed1-4528-a344-e12bf6d6494f\",\"subtype\":\"Figure\",\"type\":\"Plot\"},{\"attributes\":{\"callback\":null,\"column_names\":[\"x\",\"y\"],\"data\":{\"x\":[1,2,3,4,5],\"y\":[71.6,64.4,59.0,64.4,98.6]}},\"id\":\"6c71223f-e2b1-46a5-a243-48d1914e2055\",\"type\":\"ColumnDataSource\"},{\"attributes\":{\"line_alpha\":{\"value\":0.1},\"line_color\":{\"value\":\"#1f77b4\"},\"x\":{\"field\":\"x\"},\"y\":{\"field\":\"y\"}},\"id\":\"1381f0c9-06d2-466a-8c81-71aa531de392\",\"type\":\"Line\"},{\"attributes\":{\"fill_color\":{\"value\":\"white\"},\"line_color\":{\"value\":\"red\"},\"size\":{\"units\":\"screen\",\"value\":10},\"x\":{\"field\":\"x\"},\"y\":{\"field\":\"y\"}},\"id\":\"d1e0fcb5-1eb0-406a-af75-730b78648ee2\",\"type\":\"Circle\"},{\"attributes\":{\"data_source\":{\"id\":\"762da8a3-6705-4f67-bc32-ff5a8f672cf4\",\"type\":\"ColumnDataSource\"},\"glyph\":{\"id\":\"7757ca9c-6900-43a7-96f9-aaae9ff1ed8c\",\"type\":\"Line\"},\"hover_glyph\":null,\"muted_glyph\":null,\"nonselection_glyph\":{\"id\":\"1381f0c9-06d2-466a-8c81-71aa531de392\",\"type\":\"Line\"},\"selection_glyph\":null,\"view\":{\"id\":\"7807741f-c6d7-474b-b74b-ee4061ef5404\",\"type\":\"CDSView\"}},\"id\":\"38f95bae-7911-4f79-800f-7b7e874ce435\",\"type\":\"GlyphRenderer\"},{\"attributes\":{\"plot\":null,\"text\":\"Gr\\u00e1fico de Linha\"},\"id\":\"b6771067-289b-4dab-bcb1-78090e173e91\",\"type\":\"Title\"},{\"attributes\":{\"line_alpha\":{\"value\":0.1},\"line_color\":{\"value\":\"#1f77b4\"},\"line_width\":{\"value\":2},\"x\":{\"field\":\"x\"},\"y\":{\"field\":\"y\"}},\"id\":\"e15a323d-0986-4666-bffb-b99aad94c4cb\",\"type\":\"Line\"},{\"attributes\":{\"callback\":null},\"id\":\"958591cc-040b-4d3d-b37a-f2961129c9b0\",\"type\":\"DataRange1d\"},{\"attributes\":{\"source\":{\"id\":\"762da8a3-6705-4f67-bc32-ff5a8f672cf4\",\"type\":\"ColumnDataSource\"}},\"id\":\"7807741f-c6d7-474b-b74b-ee4061ef5404\",\"type\":\"CDSView\"},{\"attributes\":{\"label\":{\"value\":\"Celsius\"},\"renderers\":[{\"id\":\"2c24b60a-146a-4c7a-b28b-31e9e9e783ea\",\"type\":\"GlyphRenderer\"}]},\"id\":\"343b7b2b-6318-4fdf-98a9-1ce7e0475a06\",\"type\":\"LegendItem\"},{\"attributes\":{\"source\":{\"id\":\"6c71223f-e2b1-46a5-a243-48d1914e2055\",\"type\":\"ColumnDataSource\"}},\"id\":\"5a842f3d-3535-4b82-be64-dbbad95381c6\",\"type\":\"CDSView\"},{\"attributes\":{\"active_drag\":\"auto\",\"active_inspect\":\"auto\",\"active_scroll\":\"auto\",\"active_tap\":\"auto\",\"tools\":[{\"id\":\"8f6ad952-e7e6-40f5-977c-6d0da64afcae\",\"type\":\"BoxZoomTool\"},{\"id\":\"f16b5ac7-9a12-47c2-a408-125837b78eac\",\"type\":\"ResetTool\"},{\"id\":\"827fcff1-4241-4a09-9be2-0b8b44613ddb\",\"type\":\"SaveTool\"},{\"id\":\"198aa146-e17c-4754-bf31-e653a4745d40\",\"type\":\"CrosshairTool\"}]},\"id\":\"ae1d83bf-3606-4d70-b198-08ed7f7fdd62\",\"type\":\"Toolbar\"},{\"attributes\":{},\"id\":\"3c57c4e4-b39a-44f3-98f1-a3184533682e\",\"type\":\"LinearScale\"},{\"attributes\":{\"callback\":null},\"id\":\"4bf7e7c3-95ef-4032-87da-37316cb66c83\",\"type\":\"DataRange1d\"},{\"attributes\":{\"line_color\":{\"value\":\"red\"},\"x\":{\"field\":\"x\"},\"y\":{\"field\":\"y\"}},\"id\":\"7757ca9c-6900-43a7-96f9-aaae9ff1ed8c\",\"type\":\"Line\"},{\"attributes\":{},\"id\":\"f438d9d6-a37f-4abd-9bfc-dc6ec2635fd9\",\"type\":\"LinearScale\"},{\"attributes\":{\"items\":[{\"id\":\"343b7b2b-6318-4fdf-98a9-1ce7e0475a06\",\"type\":\"LegendItem\"},{\"id\":\"233113d6-be55-4b18-9dfe-b367a634ca23\",\"type\":\"LegendItem\"},{\"id\":\"db5a7479-38b0-4cfd-b0c9-9c8ecfdefed7\",\"type\":\"LegendItem\"}],\"plot\":{\"id\":\"0dad84ed-bed1-4528-a344-e12bf6d6494f\",\"subtype\":\"Figure\",\"type\":\"Plot\"}},\"id\":\"919c7a0f-ce3c-4d61-8b84-e03b09d97dbb\",\"type\":\"Legend\"},{\"attributes\":{\"data_source\":{\"id\":\"6c71223f-e2b1-46a5-a243-48d1914e2055\",\"type\":\"ColumnDataSource\"},\"glyph\":{\"id\":\"d1e0fcb5-1eb0-406a-af75-730b78648ee2\",\"type\":\"Circle\"},\"hover_glyph\":null,\"muted_glyph\":null,\"nonselection_glyph\":{\"id\":\"2d8f0136-5ac0-4a63-b2c7-e3beaa0d316f\",\"type\":\"Circle\"},\"selection_glyph\":null,\"view\":{\"id\":\"5a842f3d-3535-4b82-be64-dbbad95381c6\",\"type\":\"CDSView\"}},\"id\":\"24654595-ad77-4499-939a-ffd869d660b5\",\"type\":\"GlyphRenderer\"},{\"attributes\":{\"fill_alpha\":{\"value\":0.1},\"fill_color\":{\"value\":\"#1f77b4\"},\"line_alpha\":{\"value\":0.1},\"line_color\":{\"value\":\"#1f77b4\"},\"size\":{\"units\":\"screen\",\"value\":10},\"x\":{\"field\":\"x\"},\"y\":{\"field\":\"y\"}},\"id\":\"2d8f0136-5ac0-4a63-b2c7-e3beaa0d316f\",\"type\":\"Circle\"},{\"attributes\":{\"axis_label\":\"Dias\",\"formatter\":{\"id\":\"3c896f03-fbf0-468f-904e-381df6dba531\",\"type\":\"BasicTickFormatter\"},\"plot\":{\"id\":\"0dad84ed-bed1-4528-a344-e12bf6d6494f\",\"subtype\":\"Figure\",\"type\":\"Plot\"},\"ticker\":{\"id\":\"9ecd602e-cd5e-468d-b890-6608bca69b12\",\"type\":\"BasicTicker\"}},\"id\":\"7212a770-fade-4072-bea0-22ff17d8b9db\",\"type\":\"LinearAxis\"},{\"attributes\":{\"fill_alpha\":{\"value\":0.1},\"fill_color\":{\"value\":\"#1f77b4\"},\"line_alpha\":{\"value\":0.1},\"line_color\":{\"value\":\"#1f77b4\"},\"size\":{\"units\":\"screen\",\"value\":15},\"x\":{\"field\":\"x\"},\"y\":{\"field\":\"y\"}},\"id\":\"0fedbf77-a7fd-46b8-b8df-8b765091eacc\",\"type\":\"Triangle\"},{\"attributes\":{},\"id\":\"9ecd602e-cd5e-468d-b890-6608bca69b12\",\"type\":\"BasicTicker\"},{\"attributes\":{\"label\":{\"value\":\"Fahrenheit\"},\"renderers\":[{\"id\":\"24654595-ad77-4499-939a-ffd869d660b5\",\"type\":\"GlyphRenderer\"}]},\"id\":\"db5a7479-38b0-4cfd-b0c9-9c8ecfdefed7\",\"type\":\"LegendItem\"},{\"attributes\":{\"plot\":{\"id\":\"0dad84ed-bed1-4528-a344-e12bf6d6494f\",\"subtype\":\"Figure\",\"type\":\"Plot\"},\"ticker\":{\"id\":\"9ecd602e-cd5e-468d-b890-6608bca69b12\",\"type\":\"BasicTicker\"}},\"id\":\"4370d4d2-2b26-4bf3-9fbc-00779ccd2443\",\"type\":\"Grid\"},{\"attributes\":{\"callback\":null,\"column_names\":[\"x\",\"y\"],\"data\":{\"x\":[1,2,3,4,5],\"y\":[295,291,288,291,310]}},\"id\":\"663e1bc6-f618-4fd2-8e12-0854abd4e3ca\",\"type\":\"ColumnDataSource\"},{\"attributes\":{\"axis_label\":\"Graus\",\"formatter\":{\"id\":\"ab3ec1e1-ffc9-48ab-b548-71a3fabcf086\",\"type\":\"BasicTickFormatter\"},\"plot\":{\"id\":\"0dad84ed-bed1-4528-a344-e12bf6d6494f\",\"subtype\":\"Figure\",\"type\":\"Plot\"},\"ticker\":{\"id\":\"de31e9f0-a9c5-4e3f-b61c-23f6e95e005a\",\"type\":\"BasicTicker\"}},\"id\":\"b3f40831-65f5-48de-a3ed-dea9dd9378c0\",\"type\":\"LinearAxis\"},{\"attributes\":{},\"id\":\"de31e9f0-a9c5-4e3f-b61c-23f6e95e005a\",\"type\":\"BasicTicker\"},{\"attributes\":{\"dimension\":1,\"plot\":{\"id\":\"0dad84ed-bed1-4528-a344-e12bf6d6494f\",\"subtype\":\"Figure\",\"type\":\"Plot\"},\"ticker\":{\"id\":\"de31e9f0-a9c5-4e3f-b61c-23f6e95e005a\",\"type\":\"BasicTicker\"}},\"id\":\"3f1da593-e8ef-429a-8a56-a1016fa22754\",\"type\":\"Grid\"},{\"attributes\":{\"line_color\":{\"value\":\"#1f77b4\"},\"line_width\":{\"value\":5},\"x\":{\"field\":\"x\"},\"y\":{\"field\":\"y\"}},\"id\":\"36c93a7c-f3f8-4156-8ca3-55b44edb0141\",\"type\":\"Line\"},{\"attributes\":{\"data_source\":{\"id\":\"e5d9d939-83d4-4c9d-ab17-09bbc85ecdd9\",\"type\":\"ColumnDataSource\"},\"glyph\":{\"id\":\"6921fff8-3934-45ea-98f9-de3b3032a98f\",\"type\":\"Triangle\"},\"hover_glyph\":null,\"muted_glyph\":null,\"nonselection_glyph\":{\"id\":\"0fedbf77-a7fd-46b8-b8df-8b765091eacc\",\"type\":\"Triangle\"},\"selection_glyph\":null,\"view\":{\"id\":\"cad76179-0daa-4306-80f0-b6888bd49b05\",\"type\":\"CDSView\"}},\"id\":\"97d3c94b-77f3-4502-ae72-ff8c1f9d0e23\",\"type\":\"GlyphRenderer\"},{\"attributes\":{\"overlay\":{\"id\":\"df788a63-9fa5-44b7-a606-d0767ec8d4b5\",\"type\":\"BoxAnnotation\"}},\"id\":\"8f6ad952-e7e6-40f5-977c-6d0da64afcae\",\"type\":\"BoxZoomTool\"},{\"attributes\":{\"source\":{\"id\":\"e5d9d939-83d4-4c9d-ab17-09bbc85ecdd9\",\"type\":\"ColumnDataSource\"}},\"id\":\"cad76179-0daa-4306-80f0-b6888bd49b05\",\"type\":\"CDSView\"},{\"attributes\":{\"line_alpha\":{\"value\":0.1},\"line_color\":{\"value\":\"#1f77b4\"},\"line_width\":{\"value\":5},\"x\":{\"field\":\"x\"},\"y\":{\"field\":\"y\"}},\"id\":\"e796b173-f885-43bb-8edf-47c635a9c3eb\",\"type\":\"Line\"},{\"attributes\":{\"fill_color\":{\"value\":\"#1f77b4\"},\"line_color\":{\"value\":\"#1f77b4\"},\"size\":{\"units\":\"screen\",\"value\":15},\"x\":{\"field\":\"x\"},\"y\":{\"field\":\"y\"}},\"id\":\"6921fff8-3934-45ea-98f9-de3b3032a98f\",\"type\":\"Triangle\"},{\"attributes\":{\"data_source\":{\"id\":\"663e1bc6-f618-4fd2-8e12-0854abd4e3ca\",\"type\":\"ColumnDataSource\"},\"glyph\":{\"id\":\"36c93a7c-f3f8-4156-8ca3-55b44edb0141\",\"type\":\"Line\"},\"hover_glyph\":null,\"muted_glyph\":null,\"nonselection_glyph\":{\"id\":\"e796b173-f885-43bb-8edf-47c635a9c3eb\",\"type\":\"Line\"},\"selection_glyph\":null,\"view\":{\"id\":\"4b8fdd0d-da28-4a0c-958e-99ffad0911eb\",\"type\":\"CDSView\"}},\"id\":\"a8311c6d-14e8-4337-b93a-5d73733d705f\",\"type\":\"GlyphRenderer\"},{\"attributes\":{\"bottom_units\":\"screen\",\"fill_alpha\":{\"value\":0.5},\"fill_color\":{\"value\":\"lightgrey\"},\"left_units\":\"screen\",\"level\":\"overlay\",\"line_alpha\":{\"value\":1.0},\"line_color\":{\"value\":\"black\"},\"line_dash\":[4,4],\"line_width\":{\"value\":2},\"plot\":null,\"render_mode\":\"css\",\"right_units\":\"screen\",\"top_units\":\"screen\"},\"id\":\"df788a63-9fa5-44b7-a606-d0767ec8d4b5\",\"type\":\"BoxAnnotation\"},{\"attributes\":{\"source\":{\"id\":\"663e1bc6-f618-4fd2-8e12-0854abd4e3ca\",\"type\":\"ColumnDataSource\"}},\"id\":\"4b8fdd0d-da28-4a0c-958e-99ffad0911eb\",\"type\":\"CDSView\"},{\"attributes\":{},\"id\":\"198aa146-e17c-4754-bf31-e653a4745d40\",\"type\":\"CrosshairTool\"},{\"attributes\":{},\"id\":\"f16b5ac7-9a12-47c2-a408-125837b78eac\",\"type\":\"ResetTool\"},{\"attributes\":{},\"id\":\"827fcff1-4241-4a09-9be2-0b8b44613ddb\",\"type\":\"SaveTool\"},{\"attributes\":{\"callback\":null,\"column_names\":[\"x\",\"y\"],\"data\":{\"x\":[1,2,3,4,5],\"y\":[295,291,288,291,310]}},\"id\":\"e5d9d939-83d4-4c9d-ab17-09bbc85ecdd9\",\"type\":\"ColumnDataSource\"},{\"attributes\":{\"callback\":null,\"column_names\":[\"x\",\"y\"],\"data\":{\"x\":[1,2,3,4,5],\"y\":[71.6,64.4,59.0,64.4,98.6]}},\"id\":\"762da8a3-6705-4f67-bc32-ff5a8f672cf4\",\"type\":\"ColumnDataSource\"},{\"attributes\":{\"label\":{\"value\":\"Kelvin\"},\"renderers\":[{\"id\":\"97d3c94b-77f3-4502-ae72-ff8c1f9d0e23\",\"type\":\"GlyphRenderer\"}]},\"id\":\"233113d6-be55-4b18-9dfe-b367a634ca23\",\"type\":\"LegendItem\"},{\"attributes\":{\"source\":{\"id\":\"89e903de-de39-4610-8043-c48b300e302e\",\"type\":\"ColumnDataSource\"}},\"id\":\"5ba48007-9399-46ec-a0a2-6aa248199f6a\",\"type\":\"CDSView\"},{\"attributes\":{},\"id\":\"3c896f03-fbf0-468f-904e-381df6dba531\",\"type\":\"BasicTickFormatter\"}],\"root_ids\":[\"0dad84ed-bed1-4528-a344-e12bf6d6494f\"]},\"title\":\"Bokeh Application\",\"version\":\"0.12.9\"}};\n",
       "    var render_items = [{\"docid\":\"858255e9-bac7-49d2-9035-84ee20c29752\",\"elementid\":\"2409c2d4-9ab2-4ace-b752-dc3a64f8d699\",\"modelid\":\"0dad84ed-bed1-4528-a344-e12bf6d6494f\"}];\n",
       "\n",
       "    root.Bokeh.embed.embed_items(docs_json, render_items);\n",
       "  }\n",
       "\n",
       "  if (root.Bokeh !== undefined) {\n",
       "    embed_document(root);\n",
       "  } else {\n",
       "    var attempts = 0;\n",
       "    var timer = setInterval(function(root) {\n",
       "      if (root.Bokeh !== undefined) {\n",
       "        embed_document(root);\n",
       "        clearInterval(timer);\n",
       "      }\n",
       "      attempts++;\n",
       "      if (attempts > 100) {\n",
       "        console.log(\"Bokeh: ERROR: Unable to embed document because BokehJS library is missing\")\n",
       "        clearInterval(timer);\n",
       "      }\n",
       "    }, 10, root)\n",
       "  }\n",
       "})(window);"
      ],
      "application/vnd.bokehjs_exec.v0+json": ""
     },
     "metadata": {
      "application/vnd.bokehjs_exec.v0+json": {
       "id": "0dad84ed-bed1-4528-a344-e12bf6d6494f"
      }
     },
     "output_type": "display_data"
    }
   ],
   "source": [
    "show(p)"
   ]
  },
  {
   "cell_type": "code",
   "execution_count": 17,
   "metadata": {},
   "outputs": [],
   "source": [
    "p.legend.location = 'center_left'"
   ]
  },
  {
   "cell_type": "markdown",
   "metadata": {},
   "source": [
    "http://bokeh.pydata.org/en/latest/docs/user_guide/styling.html#legends"
   ]
  },
  {
   "cell_type": "code",
   "execution_count": 18,
   "metadata": {},
   "outputs": [
    {
     "data": {
      "text/html": [
       "\n",
       "<div class=\"bk-root\">\n",
       "    <div class=\"bk-plotdiv\" id=\"863611d8-3f4f-427d-897e-a230b8973ac8\"></div>\n",
       "</div>"
      ]
     },
     "metadata": {},
     "output_type": "display_data"
    },
    {
     "data": {
      "application/javascript": [
       "(function(root) {\n",
       "  function embed_document(root) {\n",
       "    var docs_json = {\"51688407-bac5-4b52-8c83-e565ad165f69\":{\"roots\":{\"references\":[{\"attributes\":{},\"id\":\"ab3ec1e1-ffc9-48ab-b548-71a3fabcf086\",\"type\":\"BasicTickFormatter\"},{\"attributes\":{\"callback\":null,\"column_names\":[\"x\",\"y\"],\"data\":{\"x\":[1,2,3,4,5],\"y\":[22,18,15,18,37]}},\"id\":\"89e903de-de39-4610-8043-c48b300e302e\",\"type\":\"ColumnDataSource\"},{\"attributes\":{\"data_source\":{\"id\":\"89e903de-de39-4610-8043-c48b300e302e\",\"type\":\"ColumnDataSource\"},\"glyph\":{\"id\":\"c68f2a51-f2fe-4314-a9ac-eaf428af6a4f\",\"type\":\"Line\"},\"hover_glyph\":null,\"muted_glyph\":null,\"nonselection_glyph\":{\"id\":\"e15a323d-0986-4666-bffb-b99aad94c4cb\",\"type\":\"Line\"},\"selection_glyph\":null,\"view\":{\"id\":\"5ba48007-9399-46ec-a0a2-6aa248199f6a\",\"type\":\"CDSView\"}},\"id\":\"2c24b60a-146a-4c7a-b28b-31e9e9e783ea\",\"type\":\"GlyphRenderer\"},{\"attributes\":{\"line_color\":{\"value\":\"green\"},\"line_width\":{\"value\":2},\"x\":{\"field\":\"x\"},\"y\":{\"field\":\"y\"}},\"id\":\"c68f2a51-f2fe-4314-a9ac-eaf428af6a4f\",\"type\":\"Line\"},{\"attributes\":{\"below\":[{\"id\":\"7212a770-fade-4072-bea0-22ff17d8b9db\",\"type\":\"LinearAxis\"}],\"left\":[{\"id\":\"b3f40831-65f5-48de-a3ed-dea9dd9378c0\",\"type\":\"LinearAxis\"}],\"plot_height\":400,\"plot_width\":400,\"renderers\":[{\"id\":\"7212a770-fade-4072-bea0-22ff17d8b9db\",\"type\":\"LinearAxis\"},{\"id\":\"4370d4d2-2b26-4bf3-9fbc-00779ccd2443\",\"type\":\"Grid\"},{\"id\":\"b3f40831-65f5-48de-a3ed-dea9dd9378c0\",\"type\":\"LinearAxis\"},{\"id\":\"3f1da593-e8ef-429a-8a56-a1016fa22754\",\"type\":\"Grid\"},{\"id\":\"df788a63-9fa5-44b7-a606-d0767ec8d4b5\",\"type\":\"BoxAnnotation\"},{\"id\":\"919c7a0f-ce3c-4d61-8b84-e03b09d97dbb\",\"type\":\"Legend\"},{\"id\":\"2c24b60a-146a-4c7a-b28b-31e9e9e783ea\",\"type\":\"GlyphRenderer\"},{\"id\":\"a8311c6d-14e8-4337-b93a-5d73733d705f\",\"type\":\"GlyphRenderer\"},{\"id\":\"97d3c94b-77f3-4502-ae72-ff8c1f9d0e23\",\"type\":\"GlyphRenderer\"},{\"id\":\"38f95bae-7911-4f79-800f-7b7e874ce435\",\"type\":\"GlyphRenderer\"},{\"id\":\"24654595-ad77-4499-939a-ffd869d660b5\",\"type\":\"GlyphRenderer\"}],\"title\":{\"id\":\"b6771067-289b-4dab-bcb1-78090e173e91\",\"type\":\"Title\"},\"toolbar\":{\"id\":\"ae1d83bf-3606-4d70-b198-08ed7f7fdd62\",\"type\":\"Toolbar\"},\"x_range\":{\"id\":\"958591cc-040b-4d3d-b37a-f2961129c9b0\",\"type\":\"DataRange1d\"},\"x_scale\":{\"id\":\"3c57c4e4-b39a-44f3-98f1-a3184533682e\",\"type\":\"LinearScale\"},\"y_range\":{\"id\":\"4bf7e7c3-95ef-4032-87da-37316cb66c83\",\"type\":\"DataRange1d\"},\"y_scale\":{\"id\":\"f438d9d6-a37f-4abd-9bfc-dc6ec2635fd9\",\"type\":\"LinearScale\"}},\"id\":\"0dad84ed-bed1-4528-a344-e12bf6d6494f\",\"subtype\":\"Figure\",\"type\":\"Plot\"},{\"attributes\":{\"callback\":null,\"column_names\":[\"x\",\"y\"],\"data\":{\"x\":[1,2,3,4,5],\"y\":[71.6,64.4,59.0,64.4,98.6]}},\"id\":\"6c71223f-e2b1-46a5-a243-48d1914e2055\",\"type\":\"ColumnDataSource\"},{\"attributes\":{\"line_alpha\":{\"value\":0.1},\"line_color\":{\"value\":\"#1f77b4\"},\"x\":{\"field\":\"x\"},\"y\":{\"field\":\"y\"}},\"id\":\"1381f0c9-06d2-466a-8c81-71aa531de392\",\"type\":\"Line\"},{\"attributes\":{\"fill_color\":{\"value\":\"white\"},\"line_color\":{\"value\":\"red\"},\"size\":{\"units\":\"screen\",\"value\":10},\"x\":{\"field\":\"x\"},\"y\":{\"field\":\"y\"}},\"id\":\"d1e0fcb5-1eb0-406a-af75-730b78648ee2\",\"type\":\"Circle\"},{\"attributes\":{\"data_source\":{\"id\":\"762da8a3-6705-4f67-bc32-ff5a8f672cf4\",\"type\":\"ColumnDataSource\"},\"glyph\":{\"id\":\"7757ca9c-6900-43a7-96f9-aaae9ff1ed8c\",\"type\":\"Line\"},\"hover_glyph\":null,\"muted_glyph\":null,\"nonselection_glyph\":{\"id\":\"1381f0c9-06d2-466a-8c81-71aa531de392\",\"type\":\"Line\"},\"selection_glyph\":null,\"view\":{\"id\":\"7807741f-c6d7-474b-b74b-ee4061ef5404\",\"type\":\"CDSView\"}},\"id\":\"38f95bae-7911-4f79-800f-7b7e874ce435\",\"type\":\"GlyphRenderer\"},{\"attributes\":{\"plot\":null,\"text\":\"Gr\\u00e1fico de Linha\"},\"id\":\"b6771067-289b-4dab-bcb1-78090e173e91\",\"type\":\"Title\"},{\"attributes\":{\"line_alpha\":{\"value\":0.1},\"line_color\":{\"value\":\"#1f77b4\"},\"line_width\":{\"value\":2},\"x\":{\"field\":\"x\"},\"y\":{\"field\":\"y\"}},\"id\":\"e15a323d-0986-4666-bffb-b99aad94c4cb\",\"type\":\"Line\"},{\"attributes\":{\"callback\":null},\"id\":\"958591cc-040b-4d3d-b37a-f2961129c9b0\",\"type\":\"DataRange1d\"},{\"attributes\":{\"source\":{\"id\":\"762da8a3-6705-4f67-bc32-ff5a8f672cf4\",\"type\":\"ColumnDataSource\"}},\"id\":\"7807741f-c6d7-474b-b74b-ee4061ef5404\",\"type\":\"CDSView\"},{\"attributes\":{\"label\":{\"value\":\"Celsius\"},\"renderers\":[{\"id\":\"2c24b60a-146a-4c7a-b28b-31e9e9e783ea\",\"type\":\"GlyphRenderer\"}]},\"id\":\"343b7b2b-6318-4fdf-98a9-1ce7e0475a06\",\"type\":\"LegendItem\"},{\"attributes\":{\"source\":{\"id\":\"6c71223f-e2b1-46a5-a243-48d1914e2055\",\"type\":\"ColumnDataSource\"}},\"id\":\"5a842f3d-3535-4b82-be64-dbbad95381c6\",\"type\":\"CDSView\"},{\"attributes\":{\"active_drag\":\"auto\",\"active_inspect\":\"auto\",\"active_scroll\":\"auto\",\"active_tap\":\"auto\",\"tools\":[{\"id\":\"8f6ad952-e7e6-40f5-977c-6d0da64afcae\",\"type\":\"BoxZoomTool\"},{\"id\":\"f16b5ac7-9a12-47c2-a408-125837b78eac\",\"type\":\"ResetTool\"},{\"id\":\"827fcff1-4241-4a09-9be2-0b8b44613ddb\",\"type\":\"SaveTool\"},{\"id\":\"198aa146-e17c-4754-bf31-e653a4745d40\",\"type\":\"CrosshairTool\"}]},\"id\":\"ae1d83bf-3606-4d70-b198-08ed7f7fdd62\",\"type\":\"Toolbar\"},{\"attributes\":{},\"id\":\"3c57c4e4-b39a-44f3-98f1-a3184533682e\",\"type\":\"LinearScale\"},{\"attributes\":{\"callback\":null},\"id\":\"4bf7e7c3-95ef-4032-87da-37316cb66c83\",\"type\":\"DataRange1d\"},{\"attributes\":{\"line_color\":{\"value\":\"red\"},\"x\":{\"field\":\"x\"},\"y\":{\"field\":\"y\"}},\"id\":\"7757ca9c-6900-43a7-96f9-aaae9ff1ed8c\",\"type\":\"Line\"},{\"attributes\":{},\"id\":\"f438d9d6-a37f-4abd-9bfc-dc6ec2635fd9\",\"type\":\"LinearScale\"},{\"attributes\":{\"items\":[{\"id\":\"343b7b2b-6318-4fdf-98a9-1ce7e0475a06\",\"type\":\"LegendItem\"},{\"id\":\"233113d6-be55-4b18-9dfe-b367a634ca23\",\"type\":\"LegendItem\"},{\"id\":\"db5a7479-38b0-4cfd-b0c9-9c8ecfdefed7\",\"type\":\"LegendItem\"}],\"location\":\"center_left\",\"plot\":{\"id\":\"0dad84ed-bed1-4528-a344-e12bf6d6494f\",\"subtype\":\"Figure\",\"type\":\"Plot\"}},\"id\":\"919c7a0f-ce3c-4d61-8b84-e03b09d97dbb\",\"type\":\"Legend\"},{\"attributes\":{\"data_source\":{\"id\":\"6c71223f-e2b1-46a5-a243-48d1914e2055\",\"type\":\"ColumnDataSource\"},\"glyph\":{\"id\":\"d1e0fcb5-1eb0-406a-af75-730b78648ee2\",\"type\":\"Circle\"},\"hover_glyph\":null,\"muted_glyph\":null,\"nonselection_glyph\":{\"id\":\"2d8f0136-5ac0-4a63-b2c7-e3beaa0d316f\",\"type\":\"Circle\"},\"selection_glyph\":null,\"view\":{\"id\":\"5a842f3d-3535-4b82-be64-dbbad95381c6\",\"type\":\"CDSView\"}},\"id\":\"24654595-ad77-4499-939a-ffd869d660b5\",\"type\":\"GlyphRenderer\"},{\"attributes\":{\"fill_alpha\":{\"value\":0.1},\"fill_color\":{\"value\":\"#1f77b4\"},\"line_alpha\":{\"value\":0.1},\"line_color\":{\"value\":\"#1f77b4\"},\"size\":{\"units\":\"screen\",\"value\":10},\"x\":{\"field\":\"x\"},\"y\":{\"field\":\"y\"}},\"id\":\"2d8f0136-5ac0-4a63-b2c7-e3beaa0d316f\",\"type\":\"Circle\"},{\"attributes\":{\"axis_label\":\"Dias\",\"formatter\":{\"id\":\"3c896f03-fbf0-468f-904e-381df6dba531\",\"type\":\"BasicTickFormatter\"},\"plot\":{\"id\":\"0dad84ed-bed1-4528-a344-e12bf6d6494f\",\"subtype\":\"Figure\",\"type\":\"Plot\"},\"ticker\":{\"id\":\"9ecd602e-cd5e-468d-b890-6608bca69b12\",\"type\":\"BasicTicker\"}},\"id\":\"7212a770-fade-4072-bea0-22ff17d8b9db\",\"type\":\"LinearAxis\"},{\"attributes\":{\"fill_alpha\":{\"value\":0.1},\"fill_color\":{\"value\":\"#1f77b4\"},\"line_alpha\":{\"value\":0.1},\"line_color\":{\"value\":\"#1f77b4\"},\"size\":{\"units\":\"screen\",\"value\":15},\"x\":{\"field\":\"x\"},\"y\":{\"field\":\"y\"}},\"id\":\"0fedbf77-a7fd-46b8-b8df-8b765091eacc\",\"type\":\"Triangle\"},{\"attributes\":{},\"id\":\"9ecd602e-cd5e-468d-b890-6608bca69b12\",\"type\":\"BasicTicker\"},{\"attributes\":{\"label\":{\"value\":\"Fahrenheit\"},\"renderers\":[{\"id\":\"24654595-ad77-4499-939a-ffd869d660b5\",\"type\":\"GlyphRenderer\"}]},\"id\":\"db5a7479-38b0-4cfd-b0c9-9c8ecfdefed7\",\"type\":\"LegendItem\"},{\"attributes\":{\"plot\":{\"id\":\"0dad84ed-bed1-4528-a344-e12bf6d6494f\",\"subtype\":\"Figure\",\"type\":\"Plot\"},\"ticker\":{\"id\":\"9ecd602e-cd5e-468d-b890-6608bca69b12\",\"type\":\"BasicTicker\"}},\"id\":\"4370d4d2-2b26-4bf3-9fbc-00779ccd2443\",\"type\":\"Grid\"},{\"attributes\":{\"callback\":null,\"column_names\":[\"x\",\"y\"],\"data\":{\"x\":[1,2,3,4,5],\"y\":[295,291,288,291,310]}},\"id\":\"663e1bc6-f618-4fd2-8e12-0854abd4e3ca\",\"type\":\"ColumnDataSource\"},{\"attributes\":{\"axis_label\":\"Graus\",\"formatter\":{\"id\":\"ab3ec1e1-ffc9-48ab-b548-71a3fabcf086\",\"type\":\"BasicTickFormatter\"},\"plot\":{\"id\":\"0dad84ed-bed1-4528-a344-e12bf6d6494f\",\"subtype\":\"Figure\",\"type\":\"Plot\"},\"ticker\":{\"id\":\"de31e9f0-a9c5-4e3f-b61c-23f6e95e005a\",\"type\":\"BasicTicker\"}},\"id\":\"b3f40831-65f5-48de-a3ed-dea9dd9378c0\",\"type\":\"LinearAxis\"},{\"attributes\":{},\"id\":\"de31e9f0-a9c5-4e3f-b61c-23f6e95e005a\",\"type\":\"BasicTicker\"},{\"attributes\":{\"dimension\":1,\"plot\":{\"id\":\"0dad84ed-bed1-4528-a344-e12bf6d6494f\",\"subtype\":\"Figure\",\"type\":\"Plot\"},\"ticker\":{\"id\":\"de31e9f0-a9c5-4e3f-b61c-23f6e95e005a\",\"type\":\"BasicTicker\"}},\"id\":\"3f1da593-e8ef-429a-8a56-a1016fa22754\",\"type\":\"Grid\"},{\"attributes\":{\"line_color\":{\"value\":\"#1f77b4\"},\"line_width\":{\"value\":5},\"x\":{\"field\":\"x\"},\"y\":{\"field\":\"y\"}},\"id\":\"36c93a7c-f3f8-4156-8ca3-55b44edb0141\",\"type\":\"Line\"},{\"attributes\":{\"data_source\":{\"id\":\"e5d9d939-83d4-4c9d-ab17-09bbc85ecdd9\",\"type\":\"ColumnDataSource\"},\"glyph\":{\"id\":\"6921fff8-3934-45ea-98f9-de3b3032a98f\",\"type\":\"Triangle\"},\"hover_glyph\":null,\"muted_glyph\":null,\"nonselection_glyph\":{\"id\":\"0fedbf77-a7fd-46b8-b8df-8b765091eacc\",\"type\":\"Triangle\"},\"selection_glyph\":null,\"view\":{\"id\":\"cad76179-0daa-4306-80f0-b6888bd49b05\",\"type\":\"CDSView\"}},\"id\":\"97d3c94b-77f3-4502-ae72-ff8c1f9d0e23\",\"type\":\"GlyphRenderer\"},{\"attributes\":{\"overlay\":{\"id\":\"df788a63-9fa5-44b7-a606-d0767ec8d4b5\",\"type\":\"BoxAnnotation\"}},\"id\":\"8f6ad952-e7e6-40f5-977c-6d0da64afcae\",\"type\":\"BoxZoomTool\"},{\"attributes\":{\"source\":{\"id\":\"e5d9d939-83d4-4c9d-ab17-09bbc85ecdd9\",\"type\":\"ColumnDataSource\"}},\"id\":\"cad76179-0daa-4306-80f0-b6888bd49b05\",\"type\":\"CDSView\"},{\"attributes\":{\"line_alpha\":{\"value\":0.1},\"line_color\":{\"value\":\"#1f77b4\"},\"line_width\":{\"value\":5},\"x\":{\"field\":\"x\"},\"y\":{\"field\":\"y\"}},\"id\":\"e796b173-f885-43bb-8edf-47c635a9c3eb\",\"type\":\"Line\"},{\"attributes\":{\"fill_color\":{\"value\":\"#1f77b4\"},\"line_color\":{\"value\":\"#1f77b4\"},\"size\":{\"units\":\"screen\",\"value\":15},\"x\":{\"field\":\"x\"},\"y\":{\"field\":\"y\"}},\"id\":\"6921fff8-3934-45ea-98f9-de3b3032a98f\",\"type\":\"Triangle\"},{\"attributes\":{\"data_source\":{\"id\":\"663e1bc6-f618-4fd2-8e12-0854abd4e3ca\",\"type\":\"ColumnDataSource\"},\"glyph\":{\"id\":\"36c93a7c-f3f8-4156-8ca3-55b44edb0141\",\"type\":\"Line\"},\"hover_glyph\":null,\"muted_glyph\":null,\"nonselection_glyph\":{\"id\":\"e796b173-f885-43bb-8edf-47c635a9c3eb\",\"type\":\"Line\"},\"selection_glyph\":null,\"view\":{\"id\":\"4b8fdd0d-da28-4a0c-958e-99ffad0911eb\",\"type\":\"CDSView\"}},\"id\":\"a8311c6d-14e8-4337-b93a-5d73733d705f\",\"type\":\"GlyphRenderer\"},{\"attributes\":{\"bottom_units\":\"screen\",\"fill_alpha\":{\"value\":0.5},\"fill_color\":{\"value\":\"lightgrey\"},\"left_units\":\"screen\",\"level\":\"overlay\",\"line_alpha\":{\"value\":1.0},\"line_color\":{\"value\":\"black\"},\"line_dash\":[4,4],\"line_width\":{\"value\":2},\"plot\":null,\"render_mode\":\"css\",\"right_units\":\"screen\",\"top_units\":\"screen\"},\"id\":\"df788a63-9fa5-44b7-a606-d0767ec8d4b5\",\"type\":\"BoxAnnotation\"},{\"attributes\":{\"source\":{\"id\":\"663e1bc6-f618-4fd2-8e12-0854abd4e3ca\",\"type\":\"ColumnDataSource\"}},\"id\":\"4b8fdd0d-da28-4a0c-958e-99ffad0911eb\",\"type\":\"CDSView\"},{\"attributes\":{},\"id\":\"198aa146-e17c-4754-bf31-e653a4745d40\",\"type\":\"CrosshairTool\"},{\"attributes\":{},\"id\":\"f16b5ac7-9a12-47c2-a408-125837b78eac\",\"type\":\"ResetTool\"},{\"attributes\":{},\"id\":\"827fcff1-4241-4a09-9be2-0b8b44613ddb\",\"type\":\"SaveTool\"},{\"attributes\":{\"callback\":null,\"column_names\":[\"x\",\"y\"],\"data\":{\"x\":[1,2,3,4,5],\"y\":[295,291,288,291,310]}},\"id\":\"e5d9d939-83d4-4c9d-ab17-09bbc85ecdd9\",\"type\":\"ColumnDataSource\"},{\"attributes\":{\"callback\":null,\"column_names\":[\"x\",\"y\"],\"data\":{\"x\":[1,2,3,4,5],\"y\":[71.6,64.4,59.0,64.4,98.6]}},\"id\":\"762da8a3-6705-4f67-bc32-ff5a8f672cf4\",\"type\":\"ColumnDataSource\"},{\"attributes\":{\"label\":{\"value\":\"Kelvin\"},\"renderers\":[{\"id\":\"97d3c94b-77f3-4502-ae72-ff8c1f9d0e23\",\"type\":\"GlyphRenderer\"}]},\"id\":\"233113d6-be55-4b18-9dfe-b367a634ca23\",\"type\":\"LegendItem\"},{\"attributes\":{\"source\":{\"id\":\"89e903de-de39-4610-8043-c48b300e302e\",\"type\":\"ColumnDataSource\"}},\"id\":\"5ba48007-9399-46ec-a0a2-6aa248199f6a\",\"type\":\"CDSView\"},{\"attributes\":{},\"id\":\"3c896f03-fbf0-468f-904e-381df6dba531\",\"type\":\"BasicTickFormatter\"}],\"root_ids\":[\"0dad84ed-bed1-4528-a344-e12bf6d6494f\"]},\"title\":\"Bokeh Application\",\"version\":\"0.12.9\"}};\n",
       "    var render_items = [{\"docid\":\"51688407-bac5-4b52-8c83-e565ad165f69\",\"elementid\":\"863611d8-3f4f-427d-897e-a230b8973ac8\",\"modelid\":\"0dad84ed-bed1-4528-a344-e12bf6d6494f\"}];\n",
       "\n",
       "    root.Bokeh.embed.embed_items(docs_json, render_items);\n",
       "  }\n",
       "\n",
       "  if (root.Bokeh !== undefined) {\n",
       "    embed_document(root);\n",
       "  } else {\n",
       "    var attempts = 0;\n",
       "    var timer = setInterval(function(root) {\n",
       "      if (root.Bokeh !== undefined) {\n",
       "        embed_document(root);\n",
       "        clearInterval(timer);\n",
       "      }\n",
       "      attempts++;\n",
       "      if (attempts > 100) {\n",
       "        console.log(\"Bokeh: ERROR: Unable to embed document because BokehJS library is missing\")\n",
       "        clearInterval(timer);\n",
       "      }\n",
       "    }, 10, root)\n",
       "  }\n",
       "})(window);"
      ],
      "application/vnd.bokehjs_exec.v0+json": ""
     },
     "metadata": {
      "application/vnd.bokehjs_exec.v0+json": {
       "id": "0dad84ed-bed1-4528-a344-e12bf6d6494f"
      }
     },
     "output_type": "display_data"
    }
   ],
   "source": [
    "show(p)"
   ]
  },
  {
   "cell_type": "code",
   "execution_count": 19,
   "metadata": {},
   "outputs": [],
   "source": [
    "p.background_fill_color = 'beige'\n",
    "p.background_fill_alpha = 0.8"
   ]
  },
  {
   "cell_type": "code",
   "execution_count": 20,
   "metadata": {},
   "outputs": [
    {
     "data": {
      "text/html": [
       "\n",
       "<div class=\"bk-root\">\n",
       "    <div class=\"bk-plotdiv\" id=\"c830d050-b323-497b-b635-a4d42d2bcc58\"></div>\n",
       "</div>"
      ]
     },
     "metadata": {},
     "output_type": "display_data"
    },
    {
     "data": {
      "application/javascript": [
       "(function(root) {\n",
       "  function embed_document(root) {\n",
       "    var docs_json = {\"c4cb4441-2271-4886-8d68-c571714b12af\":{\"roots\":{\"references\":[{\"attributes\":{},\"id\":\"ab3ec1e1-ffc9-48ab-b548-71a3fabcf086\",\"type\":\"BasicTickFormatter\"},{\"attributes\":{\"callback\":null,\"column_names\":[\"x\",\"y\"],\"data\":{\"x\":[1,2,3,4,5],\"y\":[22,18,15,18,37]}},\"id\":\"89e903de-de39-4610-8043-c48b300e302e\",\"type\":\"ColumnDataSource\"},{\"attributes\":{\"data_source\":{\"id\":\"89e903de-de39-4610-8043-c48b300e302e\",\"type\":\"ColumnDataSource\"},\"glyph\":{\"id\":\"c68f2a51-f2fe-4314-a9ac-eaf428af6a4f\",\"type\":\"Line\"},\"hover_glyph\":null,\"muted_glyph\":null,\"nonselection_glyph\":{\"id\":\"e15a323d-0986-4666-bffb-b99aad94c4cb\",\"type\":\"Line\"},\"selection_glyph\":null,\"view\":{\"id\":\"5ba48007-9399-46ec-a0a2-6aa248199f6a\",\"type\":\"CDSView\"}},\"id\":\"2c24b60a-146a-4c7a-b28b-31e9e9e783ea\",\"type\":\"GlyphRenderer\"},{\"attributes\":{\"line_color\":{\"value\":\"green\"},\"line_width\":{\"value\":2},\"x\":{\"field\":\"x\"},\"y\":{\"field\":\"y\"}},\"id\":\"c68f2a51-f2fe-4314-a9ac-eaf428af6a4f\",\"type\":\"Line\"},{\"attributes\":{\"background_fill_alpha\":{\"value\":0.8},\"background_fill_color\":{\"value\":\"beige\"},\"below\":[{\"id\":\"7212a770-fade-4072-bea0-22ff17d8b9db\",\"type\":\"LinearAxis\"}],\"left\":[{\"id\":\"b3f40831-65f5-48de-a3ed-dea9dd9378c0\",\"type\":\"LinearAxis\"}],\"plot_height\":400,\"plot_width\":400,\"renderers\":[{\"id\":\"7212a770-fade-4072-bea0-22ff17d8b9db\",\"type\":\"LinearAxis\"},{\"id\":\"4370d4d2-2b26-4bf3-9fbc-00779ccd2443\",\"type\":\"Grid\"},{\"id\":\"b3f40831-65f5-48de-a3ed-dea9dd9378c0\",\"type\":\"LinearAxis\"},{\"id\":\"3f1da593-e8ef-429a-8a56-a1016fa22754\",\"type\":\"Grid\"},{\"id\":\"df788a63-9fa5-44b7-a606-d0767ec8d4b5\",\"type\":\"BoxAnnotation\"},{\"id\":\"919c7a0f-ce3c-4d61-8b84-e03b09d97dbb\",\"type\":\"Legend\"},{\"id\":\"2c24b60a-146a-4c7a-b28b-31e9e9e783ea\",\"type\":\"GlyphRenderer\"},{\"id\":\"a8311c6d-14e8-4337-b93a-5d73733d705f\",\"type\":\"GlyphRenderer\"},{\"id\":\"97d3c94b-77f3-4502-ae72-ff8c1f9d0e23\",\"type\":\"GlyphRenderer\"},{\"id\":\"38f95bae-7911-4f79-800f-7b7e874ce435\",\"type\":\"GlyphRenderer\"},{\"id\":\"24654595-ad77-4499-939a-ffd869d660b5\",\"type\":\"GlyphRenderer\"}],\"title\":{\"id\":\"b6771067-289b-4dab-bcb1-78090e173e91\",\"type\":\"Title\"},\"toolbar\":{\"id\":\"ae1d83bf-3606-4d70-b198-08ed7f7fdd62\",\"type\":\"Toolbar\"},\"x_range\":{\"id\":\"958591cc-040b-4d3d-b37a-f2961129c9b0\",\"type\":\"DataRange1d\"},\"x_scale\":{\"id\":\"3c57c4e4-b39a-44f3-98f1-a3184533682e\",\"type\":\"LinearScale\"},\"y_range\":{\"id\":\"4bf7e7c3-95ef-4032-87da-37316cb66c83\",\"type\":\"DataRange1d\"},\"y_scale\":{\"id\":\"f438d9d6-a37f-4abd-9bfc-dc6ec2635fd9\",\"type\":\"LinearScale\"}},\"id\":\"0dad84ed-bed1-4528-a344-e12bf6d6494f\",\"subtype\":\"Figure\",\"type\":\"Plot\"},{\"attributes\":{\"callback\":null,\"column_names\":[\"x\",\"y\"],\"data\":{\"x\":[1,2,3,4,5],\"y\":[71.6,64.4,59.0,64.4,98.6]}},\"id\":\"6c71223f-e2b1-46a5-a243-48d1914e2055\",\"type\":\"ColumnDataSource\"},{\"attributes\":{\"line_alpha\":{\"value\":0.1},\"line_color\":{\"value\":\"#1f77b4\"},\"x\":{\"field\":\"x\"},\"y\":{\"field\":\"y\"}},\"id\":\"1381f0c9-06d2-466a-8c81-71aa531de392\",\"type\":\"Line\"},{\"attributes\":{\"fill_color\":{\"value\":\"white\"},\"line_color\":{\"value\":\"red\"},\"size\":{\"units\":\"screen\",\"value\":10},\"x\":{\"field\":\"x\"},\"y\":{\"field\":\"y\"}},\"id\":\"d1e0fcb5-1eb0-406a-af75-730b78648ee2\",\"type\":\"Circle\"},{\"attributes\":{\"data_source\":{\"id\":\"762da8a3-6705-4f67-bc32-ff5a8f672cf4\",\"type\":\"ColumnDataSource\"},\"glyph\":{\"id\":\"7757ca9c-6900-43a7-96f9-aaae9ff1ed8c\",\"type\":\"Line\"},\"hover_glyph\":null,\"muted_glyph\":null,\"nonselection_glyph\":{\"id\":\"1381f0c9-06d2-466a-8c81-71aa531de392\",\"type\":\"Line\"},\"selection_glyph\":null,\"view\":{\"id\":\"7807741f-c6d7-474b-b74b-ee4061ef5404\",\"type\":\"CDSView\"}},\"id\":\"38f95bae-7911-4f79-800f-7b7e874ce435\",\"type\":\"GlyphRenderer\"},{\"attributes\":{\"plot\":null,\"text\":\"Gr\\u00e1fico de Linha\"},\"id\":\"b6771067-289b-4dab-bcb1-78090e173e91\",\"type\":\"Title\"},{\"attributes\":{\"line_alpha\":{\"value\":0.1},\"line_color\":{\"value\":\"#1f77b4\"},\"line_width\":{\"value\":2},\"x\":{\"field\":\"x\"},\"y\":{\"field\":\"y\"}},\"id\":\"e15a323d-0986-4666-bffb-b99aad94c4cb\",\"type\":\"Line\"},{\"attributes\":{\"callback\":null},\"id\":\"958591cc-040b-4d3d-b37a-f2961129c9b0\",\"type\":\"DataRange1d\"},{\"attributes\":{\"source\":{\"id\":\"762da8a3-6705-4f67-bc32-ff5a8f672cf4\",\"type\":\"ColumnDataSource\"}},\"id\":\"7807741f-c6d7-474b-b74b-ee4061ef5404\",\"type\":\"CDSView\"},{\"attributes\":{\"label\":{\"value\":\"Celsius\"},\"renderers\":[{\"id\":\"2c24b60a-146a-4c7a-b28b-31e9e9e783ea\",\"type\":\"GlyphRenderer\"}]},\"id\":\"343b7b2b-6318-4fdf-98a9-1ce7e0475a06\",\"type\":\"LegendItem\"},{\"attributes\":{\"source\":{\"id\":\"6c71223f-e2b1-46a5-a243-48d1914e2055\",\"type\":\"ColumnDataSource\"}},\"id\":\"5a842f3d-3535-4b82-be64-dbbad95381c6\",\"type\":\"CDSView\"},{\"attributes\":{\"active_drag\":\"auto\",\"active_inspect\":\"auto\",\"active_scroll\":\"auto\",\"active_tap\":\"auto\",\"tools\":[{\"id\":\"8f6ad952-e7e6-40f5-977c-6d0da64afcae\",\"type\":\"BoxZoomTool\"},{\"id\":\"f16b5ac7-9a12-47c2-a408-125837b78eac\",\"type\":\"ResetTool\"},{\"id\":\"827fcff1-4241-4a09-9be2-0b8b44613ddb\",\"type\":\"SaveTool\"},{\"id\":\"198aa146-e17c-4754-bf31-e653a4745d40\",\"type\":\"CrosshairTool\"}]},\"id\":\"ae1d83bf-3606-4d70-b198-08ed7f7fdd62\",\"type\":\"Toolbar\"},{\"attributes\":{},\"id\":\"3c57c4e4-b39a-44f3-98f1-a3184533682e\",\"type\":\"LinearScale\"},{\"attributes\":{\"callback\":null},\"id\":\"4bf7e7c3-95ef-4032-87da-37316cb66c83\",\"type\":\"DataRange1d\"},{\"attributes\":{\"line_color\":{\"value\":\"red\"},\"x\":{\"field\":\"x\"},\"y\":{\"field\":\"y\"}},\"id\":\"7757ca9c-6900-43a7-96f9-aaae9ff1ed8c\",\"type\":\"Line\"},{\"attributes\":{},\"id\":\"f438d9d6-a37f-4abd-9bfc-dc6ec2635fd9\",\"type\":\"LinearScale\"},{\"attributes\":{\"items\":[{\"id\":\"343b7b2b-6318-4fdf-98a9-1ce7e0475a06\",\"type\":\"LegendItem\"},{\"id\":\"233113d6-be55-4b18-9dfe-b367a634ca23\",\"type\":\"LegendItem\"},{\"id\":\"db5a7479-38b0-4cfd-b0c9-9c8ecfdefed7\",\"type\":\"LegendItem\"}],\"location\":\"center_left\",\"plot\":{\"id\":\"0dad84ed-bed1-4528-a344-e12bf6d6494f\",\"subtype\":\"Figure\",\"type\":\"Plot\"}},\"id\":\"919c7a0f-ce3c-4d61-8b84-e03b09d97dbb\",\"type\":\"Legend\"},{\"attributes\":{\"data_source\":{\"id\":\"6c71223f-e2b1-46a5-a243-48d1914e2055\",\"type\":\"ColumnDataSource\"},\"glyph\":{\"id\":\"d1e0fcb5-1eb0-406a-af75-730b78648ee2\",\"type\":\"Circle\"},\"hover_glyph\":null,\"muted_glyph\":null,\"nonselection_glyph\":{\"id\":\"2d8f0136-5ac0-4a63-b2c7-e3beaa0d316f\",\"type\":\"Circle\"},\"selection_glyph\":null,\"view\":{\"id\":\"5a842f3d-3535-4b82-be64-dbbad95381c6\",\"type\":\"CDSView\"}},\"id\":\"24654595-ad77-4499-939a-ffd869d660b5\",\"type\":\"GlyphRenderer\"},{\"attributes\":{\"fill_alpha\":{\"value\":0.1},\"fill_color\":{\"value\":\"#1f77b4\"},\"line_alpha\":{\"value\":0.1},\"line_color\":{\"value\":\"#1f77b4\"},\"size\":{\"units\":\"screen\",\"value\":10},\"x\":{\"field\":\"x\"},\"y\":{\"field\":\"y\"}},\"id\":\"2d8f0136-5ac0-4a63-b2c7-e3beaa0d316f\",\"type\":\"Circle\"},{\"attributes\":{\"axis_label\":\"Dias\",\"formatter\":{\"id\":\"3c896f03-fbf0-468f-904e-381df6dba531\",\"type\":\"BasicTickFormatter\"},\"plot\":{\"id\":\"0dad84ed-bed1-4528-a344-e12bf6d6494f\",\"subtype\":\"Figure\",\"type\":\"Plot\"},\"ticker\":{\"id\":\"9ecd602e-cd5e-468d-b890-6608bca69b12\",\"type\":\"BasicTicker\"}},\"id\":\"7212a770-fade-4072-bea0-22ff17d8b9db\",\"type\":\"LinearAxis\"},{\"attributes\":{\"fill_alpha\":{\"value\":0.1},\"fill_color\":{\"value\":\"#1f77b4\"},\"line_alpha\":{\"value\":0.1},\"line_color\":{\"value\":\"#1f77b4\"},\"size\":{\"units\":\"screen\",\"value\":15},\"x\":{\"field\":\"x\"},\"y\":{\"field\":\"y\"}},\"id\":\"0fedbf77-a7fd-46b8-b8df-8b765091eacc\",\"type\":\"Triangle\"},{\"attributes\":{},\"id\":\"9ecd602e-cd5e-468d-b890-6608bca69b12\",\"type\":\"BasicTicker\"},{\"attributes\":{\"label\":{\"value\":\"Fahrenheit\"},\"renderers\":[{\"id\":\"24654595-ad77-4499-939a-ffd869d660b5\",\"type\":\"GlyphRenderer\"}]},\"id\":\"db5a7479-38b0-4cfd-b0c9-9c8ecfdefed7\",\"type\":\"LegendItem\"},{\"attributes\":{\"plot\":{\"id\":\"0dad84ed-bed1-4528-a344-e12bf6d6494f\",\"subtype\":\"Figure\",\"type\":\"Plot\"},\"ticker\":{\"id\":\"9ecd602e-cd5e-468d-b890-6608bca69b12\",\"type\":\"BasicTicker\"}},\"id\":\"4370d4d2-2b26-4bf3-9fbc-00779ccd2443\",\"type\":\"Grid\"},{\"attributes\":{\"callback\":null,\"column_names\":[\"x\",\"y\"],\"data\":{\"x\":[1,2,3,4,5],\"y\":[295,291,288,291,310]}},\"id\":\"663e1bc6-f618-4fd2-8e12-0854abd4e3ca\",\"type\":\"ColumnDataSource\"},{\"attributes\":{\"axis_label\":\"Graus\",\"formatter\":{\"id\":\"ab3ec1e1-ffc9-48ab-b548-71a3fabcf086\",\"type\":\"BasicTickFormatter\"},\"plot\":{\"id\":\"0dad84ed-bed1-4528-a344-e12bf6d6494f\",\"subtype\":\"Figure\",\"type\":\"Plot\"},\"ticker\":{\"id\":\"de31e9f0-a9c5-4e3f-b61c-23f6e95e005a\",\"type\":\"BasicTicker\"}},\"id\":\"b3f40831-65f5-48de-a3ed-dea9dd9378c0\",\"type\":\"LinearAxis\"},{\"attributes\":{},\"id\":\"de31e9f0-a9c5-4e3f-b61c-23f6e95e005a\",\"type\":\"BasicTicker\"},{\"attributes\":{\"dimension\":1,\"plot\":{\"id\":\"0dad84ed-bed1-4528-a344-e12bf6d6494f\",\"subtype\":\"Figure\",\"type\":\"Plot\"},\"ticker\":{\"id\":\"de31e9f0-a9c5-4e3f-b61c-23f6e95e005a\",\"type\":\"BasicTicker\"}},\"id\":\"3f1da593-e8ef-429a-8a56-a1016fa22754\",\"type\":\"Grid\"},{\"attributes\":{\"line_color\":{\"value\":\"#1f77b4\"},\"line_width\":{\"value\":5},\"x\":{\"field\":\"x\"},\"y\":{\"field\":\"y\"}},\"id\":\"36c93a7c-f3f8-4156-8ca3-55b44edb0141\",\"type\":\"Line\"},{\"attributes\":{\"data_source\":{\"id\":\"e5d9d939-83d4-4c9d-ab17-09bbc85ecdd9\",\"type\":\"ColumnDataSource\"},\"glyph\":{\"id\":\"6921fff8-3934-45ea-98f9-de3b3032a98f\",\"type\":\"Triangle\"},\"hover_glyph\":null,\"muted_glyph\":null,\"nonselection_glyph\":{\"id\":\"0fedbf77-a7fd-46b8-b8df-8b765091eacc\",\"type\":\"Triangle\"},\"selection_glyph\":null,\"view\":{\"id\":\"cad76179-0daa-4306-80f0-b6888bd49b05\",\"type\":\"CDSView\"}},\"id\":\"97d3c94b-77f3-4502-ae72-ff8c1f9d0e23\",\"type\":\"GlyphRenderer\"},{\"attributes\":{\"overlay\":{\"id\":\"df788a63-9fa5-44b7-a606-d0767ec8d4b5\",\"type\":\"BoxAnnotation\"}},\"id\":\"8f6ad952-e7e6-40f5-977c-6d0da64afcae\",\"type\":\"BoxZoomTool\"},{\"attributes\":{\"source\":{\"id\":\"e5d9d939-83d4-4c9d-ab17-09bbc85ecdd9\",\"type\":\"ColumnDataSource\"}},\"id\":\"cad76179-0daa-4306-80f0-b6888bd49b05\",\"type\":\"CDSView\"},{\"attributes\":{\"line_alpha\":{\"value\":0.1},\"line_color\":{\"value\":\"#1f77b4\"},\"line_width\":{\"value\":5},\"x\":{\"field\":\"x\"},\"y\":{\"field\":\"y\"}},\"id\":\"e796b173-f885-43bb-8edf-47c635a9c3eb\",\"type\":\"Line\"},{\"attributes\":{\"fill_color\":{\"value\":\"#1f77b4\"},\"line_color\":{\"value\":\"#1f77b4\"},\"size\":{\"units\":\"screen\",\"value\":15},\"x\":{\"field\":\"x\"},\"y\":{\"field\":\"y\"}},\"id\":\"6921fff8-3934-45ea-98f9-de3b3032a98f\",\"type\":\"Triangle\"},{\"attributes\":{\"data_source\":{\"id\":\"663e1bc6-f618-4fd2-8e12-0854abd4e3ca\",\"type\":\"ColumnDataSource\"},\"glyph\":{\"id\":\"36c93a7c-f3f8-4156-8ca3-55b44edb0141\",\"type\":\"Line\"},\"hover_glyph\":null,\"muted_glyph\":null,\"nonselection_glyph\":{\"id\":\"e796b173-f885-43bb-8edf-47c635a9c3eb\",\"type\":\"Line\"},\"selection_glyph\":null,\"view\":{\"id\":\"4b8fdd0d-da28-4a0c-958e-99ffad0911eb\",\"type\":\"CDSView\"}},\"id\":\"a8311c6d-14e8-4337-b93a-5d73733d705f\",\"type\":\"GlyphRenderer\"},{\"attributes\":{\"bottom_units\":\"screen\",\"fill_alpha\":{\"value\":0.5},\"fill_color\":{\"value\":\"lightgrey\"},\"left_units\":\"screen\",\"level\":\"overlay\",\"line_alpha\":{\"value\":1.0},\"line_color\":{\"value\":\"black\"},\"line_dash\":[4,4],\"line_width\":{\"value\":2},\"plot\":null,\"render_mode\":\"css\",\"right_units\":\"screen\",\"top_units\":\"screen\"},\"id\":\"df788a63-9fa5-44b7-a606-d0767ec8d4b5\",\"type\":\"BoxAnnotation\"},{\"attributes\":{\"source\":{\"id\":\"663e1bc6-f618-4fd2-8e12-0854abd4e3ca\",\"type\":\"ColumnDataSource\"}},\"id\":\"4b8fdd0d-da28-4a0c-958e-99ffad0911eb\",\"type\":\"CDSView\"},{\"attributes\":{},\"id\":\"198aa146-e17c-4754-bf31-e653a4745d40\",\"type\":\"CrosshairTool\"},{\"attributes\":{},\"id\":\"f16b5ac7-9a12-47c2-a408-125837b78eac\",\"type\":\"ResetTool\"},{\"attributes\":{},\"id\":\"827fcff1-4241-4a09-9be2-0b8b44613ddb\",\"type\":\"SaveTool\"},{\"attributes\":{\"callback\":null,\"column_names\":[\"x\",\"y\"],\"data\":{\"x\":[1,2,3,4,5],\"y\":[295,291,288,291,310]}},\"id\":\"e5d9d939-83d4-4c9d-ab17-09bbc85ecdd9\",\"type\":\"ColumnDataSource\"},{\"attributes\":{\"callback\":null,\"column_names\":[\"x\",\"y\"],\"data\":{\"x\":[1,2,3,4,5],\"y\":[71.6,64.4,59.0,64.4,98.6]}},\"id\":\"762da8a3-6705-4f67-bc32-ff5a8f672cf4\",\"type\":\"ColumnDataSource\"},{\"attributes\":{\"label\":{\"value\":\"Kelvin\"},\"renderers\":[{\"id\":\"97d3c94b-77f3-4502-ae72-ff8c1f9d0e23\",\"type\":\"GlyphRenderer\"}]},\"id\":\"233113d6-be55-4b18-9dfe-b367a634ca23\",\"type\":\"LegendItem\"},{\"attributes\":{\"source\":{\"id\":\"89e903de-de39-4610-8043-c48b300e302e\",\"type\":\"ColumnDataSource\"}},\"id\":\"5ba48007-9399-46ec-a0a2-6aa248199f6a\",\"type\":\"CDSView\"},{\"attributes\":{},\"id\":\"3c896f03-fbf0-468f-904e-381df6dba531\",\"type\":\"BasicTickFormatter\"}],\"root_ids\":[\"0dad84ed-bed1-4528-a344-e12bf6d6494f\"]},\"title\":\"Bokeh Application\",\"version\":\"0.12.9\"}};\n",
       "    var render_items = [{\"docid\":\"c4cb4441-2271-4886-8d68-c571714b12af\",\"elementid\":\"c830d050-b323-497b-b635-a4d42d2bcc58\",\"modelid\":\"0dad84ed-bed1-4528-a344-e12bf6d6494f\"}];\n",
       "\n",
       "    root.Bokeh.embed.embed_items(docs_json, render_items);\n",
       "  }\n",
       "\n",
       "  if (root.Bokeh !== undefined) {\n",
       "    embed_document(root);\n",
       "  } else {\n",
       "    var attempts = 0;\n",
       "    var timer = setInterval(function(root) {\n",
       "      if (root.Bokeh !== undefined) {\n",
       "        embed_document(root);\n",
       "        clearInterval(timer);\n",
       "      }\n",
       "      attempts++;\n",
       "      if (attempts > 100) {\n",
       "        console.log(\"Bokeh: ERROR: Unable to embed document because BokehJS library is missing\")\n",
       "        clearInterval(timer);\n",
       "      }\n",
       "    }, 10, root)\n",
       "  }\n",
       "})(window);"
      ],
      "application/vnd.bokehjs_exec.v0+json": ""
     },
     "metadata": {
      "application/vnd.bokehjs_exec.v0+json": {
       "id": "0dad84ed-bed1-4528-a344-e12bf6d6494f"
      }
     },
     "output_type": "display_data"
    }
   ],
   "source": [
    "show(p)"
   ]
  },
  {
   "cell_type": "markdown",
   "metadata": {},
   "source": [
    "http://bokeh.pydata.org/en/latest/docs/user_guide/styling.html"
   ]
  },
  {
   "cell_type": "markdown",
   "metadata": {},
   "source": [
    "## Demo das ferramentas de interação"
   ]
  },
  {
   "cell_type": "code",
   "execution_count": 21,
   "metadata": {},
   "outputs": [],
   "source": [
    "import numpy as np"
   ]
  },
  {
   "cell_type": "code",
   "execution_count": 22,
   "metadata": {},
   "outputs": [],
   "source": [
    "N = 4000\n",
    "x = np.random.random(size=N) * 100\n",
    "y = np.random.random(size=N) * 100\n",
    "radii = np.random.random(size=N) * 1.5\n",
    "colors = [\n",
    "    \"#%02x%02x%02x\" % (int(r), int(g), 150) for r, g in zip(50+2*x, 30+2*y)\n",
    "]"
   ]
  },
  {
   "cell_type": "code",
   "execution_count": 23,
   "metadata": {},
   "outputs": [],
   "source": [
    "TOOLS=\"resize,crosshair,pan,wheel_zoom,box_zoom,reset,box_select,lasso_select\""
   ]
  },
  {
   "cell_type": "code",
   "execution_count": null,
   "metadata": {},
   "outputs": [],
   "source": [
    "p = figure(tools=TOOLS, x_range=(0, 100), y_range=(0,100))"
   ]
  },
  {
   "cell_type": "code",
   "execution_count": null,
   "metadata": {},
   "outputs": [],
   "source": [
    "p.circle(x,y, radius=radii, fill_color=colors, fill_alpha=0.6, line_color=None)"
   ]
  },
  {
   "cell_type": "code",
   "execution_count": null,
   "metadata": {},
   "outputs": [],
   "source": [
    "show(p)"
   ]
  },
  {
   "cell_type": "code",
   "execution_count": null,
   "metadata": {
    "collapsed": true
   },
   "outputs": [],
   "source": []
  }
 ],
 "metadata": {
  "kernelspec": {
   "display_name": "Python 3",
   "language": "python",
   "name": "python3"
  },
  "language_info": {
   "codemirror_mode": {
    "name": "ipython",
    "version": 3
   },
   "file_extension": ".py",
   "mimetype": "text/x-python",
   "name": "python",
   "nbconvert_exporter": "python",
   "pygments_lexer": "ipython3",
   "version": "3.6.2"
  }
 },
 "nbformat": 4,
 "nbformat_minor": 1
}
