{
 "cells": [
  {
   "cell_type": "markdown",
   "metadata": {},
   "source": [
    "# Visualizando CSV com Pandas"
   ]
  },
  {
   "cell_type": "code",
   "execution_count": 1,
   "metadata": {},
   "outputs": [
    {
     "name": "stdout",
     "output_type": "stream",
     "text": [
      "<class 'pandas.core.frame.DataFrame'>\n",
      "RangeIndex: 10 entries, 0 to 9\n",
      "Data columns (total 6 columns):\n",
      " #   Column         Non-Null Count  Dtype \n",
      "---  ------         --------------  ----- \n",
      " 0   Data           10 non-null     object\n",
      " 1   Descrição      10 non-null     object\n",
      " 2   Valor          10 non-null     int64 \n",
      " 3   Banco          10 non-null     object\n",
      " 4   Categoria      10 non-null     object\n",
      " 5   Dia da semana  10 non-null     object\n",
      "dtypes: int64(1), object(5)\n",
      "memory usage: 608.0+ bytes\n",
      "\n",
      "\n",
      "\n"
     ]
    },
    {
     "data": {
      "text/html": [
       "<div>\n",
       "<style scoped>\n",
       "    .dataframe tbody tr th:only-of-type {\n",
       "        vertical-align: middle;\n",
       "    }\n",
       "\n",
       "    .dataframe tbody tr th {\n",
       "        vertical-align: top;\n",
       "    }\n",
       "\n",
       "    .dataframe thead th {\n",
       "        text-align: right;\n",
       "    }\n",
       "</style>\n",
       "<table border=\"1\" class=\"dataframe\">\n",
       "  <thead>\n",
       "    <tr style=\"text-align: right;\">\n",
       "      <th></th>\n",
       "      <th>Data</th>\n",
       "      <th>Descrição</th>\n",
       "      <th>Valor</th>\n",
       "      <th>Banco</th>\n",
       "      <th>Categoria</th>\n",
       "      <th>Dia da semana</th>\n",
       "    </tr>\n",
       "  </thead>\n",
       "  <tbody>\n",
       "    <tr>\n",
       "      <th>0</th>\n",
       "      <td>01/10/2020</td>\n",
       "      <td>Magic Dolar</td>\n",
       "      <td>29</td>\n",
       "      <td>Neon</td>\n",
       "      <td>Casa</td>\n",
       "      <td>quinta-feira</td>\n",
       "    </tr>\n",
       "    <tr>\n",
       "      <th>1</th>\n",
       "      <td>01/10/2020</td>\n",
       "      <td>Distribuidora Primavera</td>\n",
       "      <td>92</td>\n",
       "      <td>Neon</td>\n",
       "      <td>Lazer</td>\n",
       "      <td>quinta-feira</td>\n",
       "    </tr>\n",
       "    <tr>\n",
       "      <th>2</th>\n",
       "      <td>01/10/2020</td>\n",
       "      <td>Casa da esfiha</td>\n",
       "      <td>19</td>\n",
       "      <td>Neon</td>\n",
       "      <td>Lanche</td>\n",
       "      <td>quinta-feira</td>\n",
       "    </tr>\n",
       "    <tr>\n",
       "      <th>3</th>\n",
       "      <td>05/10/2020</td>\n",
       "      <td>Grife das capas</td>\n",
       "      <td>20</td>\n",
       "      <td>Neon</td>\n",
       "      <td>Reparos</td>\n",
       "      <td>segunda-feira</td>\n",
       "    </tr>\n",
       "    <tr>\n",
       "      <th>4</th>\n",
       "      <td>05/10/2020</td>\n",
       "      <td>Speed up</td>\n",
       "      <td>326</td>\n",
       "      <td>Neon</td>\n",
       "      <td>Aprendizado</td>\n",
       "      <td>segunda-feira</td>\n",
       "    </tr>\n",
       "    <tr>\n",
       "      <th>5</th>\n",
       "      <td>05/10/2020</td>\n",
       "      <td>Sanepar</td>\n",
       "      <td>139</td>\n",
       "      <td>BB</td>\n",
       "      <td>Casa</td>\n",
       "      <td>segunda-feira</td>\n",
       "    </tr>\n",
       "    <tr>\n",
       "      <th>6</th>\n",
       "      <td>07/10/2020</td>\n",
       "      <td>Auto Escola Liderança</td>\n",
       "      <td>1520</td>\n",
       "      <td>BB</td>\n",
       "      <td>Habilitação</td>\n",
       "      <td>quarta-feira</td>\n",
       "    </tr>\n",
       "    <tr>\n",
       "      <th>7</th>\n",
       "      <td>09/10/2020</td>\n",
       "      <td>Pagamento do aluguel</td>\n",
       "      <td>1300</td>\n",
       "      <td>BB</td>\n",
       "      <td>Casa</td>\n",
       "      <td>sexta-feira</td>\n",
       "    </tr>\n",
       "    <tr>\n",
       "      <th>8</th>\n",
       "      <td>09/10/2020</td>\n",
       "      <td>Musitech: cordas para guitarra</td>\n",
       "      <td>45</td>\n",
       "      <td>BB</td>\n",
       "      <td>Instrumentos</td>\n",
       "      <td>sexta-feira</td>\n",
       "    </tr>\n",
       "    <tr>\n",
       "      <th>9</th>\n",
       "      <td>09/10/2020</td>\n",
       "      <td>Empório Pet</td>\n",
       "      <td>84</td>\n",
       "      <td>BB</td>\n",
       "      <td>Pets</td>\n",
       "      <td>sexta-feira</td>\n",
       "    </tr>\n",
       "  </tbody>\n",
       "</table>\n",
       "</div>"
      ],
      "text/plain": [
       "         Data                       Descrição  Valor Banco     Categoria  \\\n",
       "0  01/10/2020                     Magic Dolar     29  Neon          Casa   \n",
       "1  01/10/2020         Distribuidora Primavera     92  Neon         Lazer   \n",
       "2  01/10/2020                  Casa da esfiha     19  Neon        Lanche   \n",
       "3  05/10/2020                 Grife das capas     20  Neon       Reparos   \n",
       "4  05/10/2020                        Speed up    326  Neon   Aprendizado   \n",
       "5  05/10/2020                         Sanepar    139    BB          Casa   \n",
       "6  07/10/2020           Auto Escola Liderança   1520    BB   Habilitação   \n",
       "7  09/10/2020            Pagamento do aluguel   1300    BB          Casa   \n",
       "8  09/10/2020  Musitech: cordas para guitarra     45    BB  Instrumentos   \n",
       "9  09/10/2020                     Empório Pet     84    BB          Pets   \n",
       "\n",
       "   Dia da semana  \n",
       "0   quinta-feira  \n",
       "1   quinta-feira  \n",
       "2   quinta-feira  \n",
       "3  segunda-feira  \n",
       "4  segunda-feira  \n",
       "5  segunda-feira  \n",
       "6   quarta-feira  \n",
       "7    sexta-feira  \n",
       "8    sexta-feira  \n",
       "9    sexta-feira  "
      ]
     },
     "metadata": {},
     "output_type": "display_data"
    }
   ],
   "source": [
    "# Carregar p arquivo\n",
    "import pandas as pd\n",
    "tb = pd.read_csv(\"~/git/Jupyter/csv/test.csv\")\n",
    "# Visualizar a estrutura\n",
    "tb.info()\n",
    "print(\"\\n\\n\")\n",
    "# Mostrar alguns dados\n",
    "display(tb)\n",
    "\n",
    "# Agrupar totais por banco\n",
    "# Agrupar totais por categoria"
   ]
  },
  {
   "cell_type": "code",
   "execution_count": 2,
   "metadata": {},
   "outputs": [
    {
     "data": {
      "text/plain": [
       "BB      5\n",
       "Neon    5\n",
       "Name: Banco, dtype: int64"
      ]
     },
     "metadata": {},
     "output_type": "display_data"
    }
   ],
   "source": [
    "# Quantas compras por banco\n",
    "display(tb['Banco'].value_counts())"
   ]
  },
  {
   "cell_type": "code",
   "execution_count": 3,
   "metadata": {},
   "outputs": [
    {
     "data": {
      "text/plain": [
       "sexta-feira      3\n",
       "segunda-feira    3\n",
       "quinta-feira     3\n",
       "quarta-feira     1\n",
       "Name: Dia da semana, dtype: int64"
      ]
     },
     "metadata": {},
     "output_type": "display_data"
    }
   ],
   "source": [
    "# Quantas compras por dia da semana?\n",
    "display(tb['Dia da semana'].value_counts())"
   ]
  },
  {
   "cell_type": "code",
   "execution_count": 4,
   "metadata": {},
   "outputs": [
    {
     "data": {
      "text/plain": [
       "Casa            3\n",
       "Instrumentos    1\n",
       "Reparos         1\n",
       "Pets            1\n",
       "Lazer           1\n",
       "Lanche          1\n",
       "Habilitação     1\n",
       "Aprendizado     1\n",
       "Name: Categoria, dtype: int64"
      ]
     },
     "metadata": {},
     "output_type": "display_data"
    }
   ],
   "source": [
    "# Quantas compras por categoria?\n",
    "display(tb['Categoria'].value_counts())"
   ]
  },
  {
   "cell_type": "code",
   "execution_count": 5,
   "metadata": {},
   "outputs": [
    {
     "data": {
      "text/plain": [
       "0      29\n",
       "1      92\n",
       "2      19\n",
       "3      20\n",
       "4     326\n",
       "5     139\n",
       "6    1520\n",
       "7    1300\n",
       "8      45\n",
       "9      84\n",
       "Name: Valor, dtype: object"
      ]
     },
     "execution_count": 5,
     "metadata": {},
     "output_type": "execute_result"
    }
   ],
   "source": [
    "# obtendo somatória\n",
    "# substituir separadores de milhar e decimal\n",
    "tb['Valor'] = tb['Valor'].astype(str).replace('.')\n",
    "#tb['Valor'] = tb['Valor'].replace(',','.')\n",
    "tb.dtypes\n",
    "tb['Valor'].astype(str).replace(['.'],['-'])\n",
    "# tb['Valor'] = tb['Valor'].astype(float)\n",
    "# tb['Valor'] = pd.to_numeric(tb['Valor'])\n",
    "# tb.head()\n",
    "#  Converte para numero\n",
    "# tb['Valor'] = pd.to_numeric(tb['Valor'])\n",
    "# realiza a somatória fazendo o agrupamento\n",
    "# tb.groupby('Categoria')['Valor'].sum()"
   ]
  }
 ],
 "metadata": {
  "kernelspec": {
   "display_name": "Python 3",
   "language": "python",
   "name": "python3"
  },
  "language_info": {
   "codemirror_mode": {
    "name": "ipython",
    "version": 3
   },
   "file_extension": ".py",
   "mimetype": "text/x-python",
   "name": "python",
   "nbconvert_exporter": "python",
   "pygments_lexer": "ipython3",
   "version": "3.8.6"
  }
 },
 "nbformat": 4,
 "nbformat_minor": 4
}
