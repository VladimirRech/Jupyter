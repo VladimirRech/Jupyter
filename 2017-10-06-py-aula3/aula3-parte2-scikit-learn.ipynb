{
 "cells": [
  {
   "cell_type": "markdown",
   "metadata": {},
   "source": [
    "# Python para Big Data - <span style=\"color:green\">scikit-learn</span>\n",
    "\n",
    "- É uma biblioteca para aprendizado de máquina em Python, como principal foco:\n",
    "    - Fornecer ferramentas eficientes e simples para Data Mining e Data Analysis.\n",
    "    - Acessível para todos e reutilizável em vários contextos\n",
    "    - Sua construção faz uso do NumPy, SciPy e matplotlib\n",
    "- Provavelmente um dos melhores frameworks de propósito geral de aprendizado de máquina\n",
    "- Iniciou como sendo um projeto do Google Summer of Code em 2007 por David Cournapeau, e foi utilizado na tese de Matthieu Brucher.\n",
    "- Em 2010, INRIA disponibilizou a primeira versão, e financiou o projeto junto com o Google, Tinyclues e a Python Software Foundation.\n",
    "- Muitas empresas utilizam o scikit-lean, alguns exemplos:\n",
    "    - Spotify, Evernote, Google, Data Publica, Data Robot\n",
    "- As principais características:\n",
    "    - Modelos lineares generalizados\n",
    "    - SVMs, kNN, Bayes, Decision Trees, Ensembles\n",
    "    - Algoritmos de Clustering e Density\n",
    "    - Validação cruzada, Pipelining, Avaliação dos modelos\n",
    "    - Transformações dos conjuntos de dados\n",
    "    - Entre outras\n",
    "    \n",
    "## O algoritmo kNN\n",
    "\n",
    "Esse notebook apresenta como utilizar o algoritmo kNN.\n",
    "\n",
    "- k-Nearest Neighbor (KNN)\n",
    "    - É um dos algoritmos de classificação clássicos e bem simples.\n",
    "    - Aprendizado baseado em instâncias:\n",
    "        - Aprendizado: armazenar todas as instâncias de treinamento;\n",
    "        - Classificação: descobrir a qual classe uma nova instância pertence baseado na medida de similaridade (e.g., funções de distância).\n",
    "        - kNN vem sendo utilizado para estimativa estatística e reconhecimento de padrões desde o começo dos anos 70!\n",
    "   \n",
    "   \n",
    "- Para utilizar o kNN é necessário:\n",
    "    - Um conjunto de exemplos de treinamento.\n",
    "    - Definir uma métrica para calcular a distância entre os exemplos de treinamento. \n",
    "    - Definir o valor de k (o número de vizinhos mais próximos que serão considerados pelo algoritmo).\n",
    "    \n",
    "\n",
    "- Portanto, classificar um elemento desconhecido com o algoritmo kNN consiste em:\n",
    "    - Calcular a distância entre o elemento desconhecido e os outros elementos do conjunto de treinamento.\n",
    "    - Identificar os k-vizinhos mais próximos.\n",
    "    - Utilizar o rótulo da classe dos vizinhos mais próximos para determinar o rótulo de classe do elemento desconhecido (votação majoritária).\n",
    "    \n",
    "\n",
    "- Para calcular a distância entre dois pontos, pode-se utilizar a distância euclidiana, manhattan e minkowsi.\n",
    "\n",
    "- A precisão da classificação utilizando o algoritmo KNN depende fortemente do modelo de dados.\n",
    "\n",
    "\n",
    "- Na maioria das vezes os atributos precisam ser normalizados para evitar que as medidas de distância sejam dominado por um único atributo. Exemplos:\n",
    "    - Altura de uma pessoa pode variar de 1,20 a 2,10.\n",
    "    - Peso de uma pessoa pode variar de 40 kg a 150 kg.\n",
    "    - O salário de uma pessoa pode variar de R\\$ 800 a R\\$ 20.000.\n",
    "    \n",
    "Para ilustrar o uso do kNN com a biblioteca scikit-learn utilizaremos um conjunto de segmentação de pele. Foi criado por Rajen Bhatt, Abhinav Dhall e doado para a Universidade da Califórnia, Irvine em 2012.\n",
    "\n",
    "- Conjunto de dados de peles coletados randomicamente (das bases FERET e PAL) através de exemplos de R, G, B de imagens com rostos de diversas pessoas, considerando os seguintes atributos:\n",
    "    - Idade (jovem, adulto ou idoso), Grupo Racial (branco, preto, asiático) e Sexo\n",
    "    - Total da amostra é de 245.057\n",
    "        - 50.859 são exemplos de peles\n",
    "        - 194.198 são exemplos de não-peles.\n",
    "    - Dimensão 245057 * 4, onde as primeiras 3 colunas são os atributos B(x1), G(x2), e R(x3) e a última coluna é o alvo (y).\n",
    "    \n",
    "```\n",
    "Atributos:\n",
    "B(x1), G(x2), e R(x3)\n",
    "\n",
    "Alvo: \n",
    "1 (pele) e 2 (Não pele)\n",
    "```\n",
    "\n",
    "Mais informações: https://archive.ics.uci.edu/ml/datasets/Skin+Segmentation"
   ]
  },
  {
   "cell_type": "markdown",
   "metadata": {},
   "source": [
    "### Conjunto de dados"
   ]
  },
  {
   "cell_type": "code",
   "execution_count": 1,
   "metadata": {
    "collapsed": true
   },
   "outputs": [],
   "source": [
    "import pandas as pd"
   ]
  },
  {
   "cell_type": "code",
   "execution_count": 2,
   "metadata": {
    "collapsed": true
   },
   "outputs": [],
   "source": [
    "arquivo = open('Skin_NonSkin.txt', 'r')"
   ]
  },
  {
   "cell_type": "code",
   "execution_count": 3,
   "metadata": {
    "collapsed": true
   },
   "outputs": [],
   "source": [
    "dados = pd.read_table(arquivo)"
   ]
  },
  {
   "cell_type": "code",
   "execution_count": 4,
   "metadata": {},
   "outputs": [
    {
     "name": "stdout",
     "output_type": "stream",
     "text": [
      "<class 'pandas.core.frame.DataFrame'>\n"
     ]
    }
   ],
   "source": [
    "print(type(dados))"
   ]
  },
  {
   "cell_type": "code",
   "execution_count": 5,
   "metadata": {},
   "outputs": [
    {
     "name": "stdout",
     "output_type": "stream",
     "text": [
      "         x1   x2   x3  y\n",
      "0        74   85  123  1\n",
      "1        73   84  122  1\n",
      "2        72   83  121  1\n",
      "3        70   81  119  1\n",
      "4        70   81  119  1\n",
      "5        69   80  118  1\n",
      "6        70   81  119  1\n",
      "7        70   81  119  1\n",
      "8        76   87  125  1\n",
      "9        76   87  125  1\n",
      "10       77   88  126  1\n",
      "11       77   88  126  1\n",
      "12       77   88  126  1\n",
      "13       78   89  127  1\n",
      "14       77   85  125  1\n",
      "15       78   86  126  1\n",
      "16       78   86  126  1\n",
      "17       77   85  125  1\n",
      "18       76   84  124  1\n",
      "19       77   85  125  1\n",
      "20       80   88  128  1\n",
      "21       83   91  131  1\n",
      "22       83   91  131  1\n",
      "23       84   92  132  1\n",
      "24       84   92  132  1\n",
      "25       83   91  131  1\n",
      "26       80   88  128  1\n",
      "27       78   86  126  1\n",
      "28       78   86  126  1\n",
      "29       79   87  127  1\n",
      "...     ...  ...  ... ..\n",
      "245027  162  161  110  2\n",
      "245028  162  161  110  2\n",
      "245029  162  161  110  2\n",
      "245030  162  161  110  2\n",
      "245031  162  161  110  2\n",
      "245032  162  161  110  2\n",
      "245033  165  164  113  2\n",
      "245034  165  164  113  2\n",
      "245035  165  164  113  2\n",
      "245036  165  164  113  2\n",
      "245037  165  164  113  2\n",
      "245038  164  163  112  2\n",
      "245039  164  163  112  2\n",
      "245040  164  163  112  2\n",
      "245041  163  162  112  2\n",
      "245042  163  162  112  2\n",
      "245043  163  162  112  2\n",
      "245044  163  162  112  2\n",
      "245045  163  162  112  2\n",
      "245046  163  162  112  2\n",
      "245047  163  162  112  2\n",
      "245048  163  162  112  2\n",
      "245049  163  162  112  2\n",
      "245050  163  162  112  2\n",
      "245051  163  162  112  2\n",
      "245052  163  162  112  2\n",
      "245053  163  162  112  2\n",
      "245054  163  162  112  2\n",
      "245055  163  162  112  2\n",
      "245056  255  255  255  2\n",
      "\n",
      "[245057 rows x 4 columns]\n"
     ]
    }
   ],
   "source": [
    "print(dados)"
   ]
  },
  {
   "cell_type": "markdown",
   "metadata": {},
   "source": [
    "Como podemos visualizar, tanto os atributos (x), quanto o alvo (y) estão em uma mesma estrutura. Precisamos separar para facilitar a aplicação desses dados no aprendizado."
   ]
  },
  {
   "cell_type": "code",
   "execution_count": 6,
   "metadata": {},
   "outputs": [
    {
     "name": "stdout",
     "output_type": "stream",
     "text": [
      "   x1  x2   x3\n",
      "0  74  85  123\n",
      "1  73  84  122\n",
      "2  72  83  121\n",
      "3  70  81  119\n",
      "4  70  81  119\n"
     ]
    }
   ],
   "source": [
    "y = dados['y']\n",
    "x = dados.drop('y', axis=1)\n",
    "print(x[:5])"
   ]
  },
  {
   "cell_type": "markdown",
   "metadata": {},
   "source": [
    "Conforme vimos na descrição do problema, os atributos estão no formato Blue, Green, Red. Para facilitar o entendimento iremos trocar as colunas R e B."
   ]
  },
  {
   "cell_type": "code",
   "execution_count": 7,
   "metadata": {},
   "outputs": [
    {
     "name": "stdout",
     "output_type": "stream",
     "text": [
      "245057\n"
     ]
    }
   ],
   "source": [
    "x = x.values[:, [2,1,0]]\n",
    "print(len(x))"
   ]
  },
  {
   "cell_type": "code",
   "execution_count": 8,
   "metadata": {},
   "outputs": [
    {
     "name": "stdout",
     "output_type": "stream",
     "text": [
      "Primeiros 5 classificados como 1 (Sim)\n",
      "[[123  85  74]\n",
      " [122  84  73]\n",
      " [121  83  72]\n",
      " [119  81  70]\n",
      " [119  81  70]]\n"
     ]
    }
   ],
   "source": [
    "print(\"Primeiros 5 classificados como 1 (Sim)\")\n",
    "print(x[:5])"
   ]
  },
  {
   "cell_type": "code",
   "execution_count": 9,
   "metadata": {},
   "outputs": [
    {
     "name": "stdout",
     "output_type": "stream",
     "text": [
      "Últimos 5 classificados como 2 (Não)\n",
      "[[123  85  74]\n",
      " [122  84  73]\n",
      " [121  83  72]\n",
      " ..., \n",
      " [112 162 163]\n",
      " [112 162 163]\n",
      " [112 162 163]]\n"
     ]
    }
   ],
   "source": [
    "print(\"Últimos 5 classificados como 2 (Não)\")\n",
    "print(x[:-5])"
   ]
  },
  {
   "cell_type": "markdown",
   "metadata": {},
   "source": [
    "Agora com os dados estruturados, podemos utilizar o algoritmo disponível no scikit-learn para criar o nosso modelo. Primeiro vamos importar o módulo:\n"
   ]
  },
  {
   "cell_type": "code",
   "execution_count": 10,
   "metadata": {
    "collapsed": true
   },
   "outputs": [],
   "source": [
    "from sklearn import neighbors"
   ]
  },
  {
   "cell_type": "markdown",
   "metadata": {},
   "source": [
    "Criando o classificador knn com k=1"
   ]
  },
  {
   "cell_type": "code",
   "execution_count": 11,
   "metadata": {},
   "outputs": [
    {
     "name": "stdout",
     "output_type": "stream",
     "text": [
      "KNeighborsClassifier(algorithm='auto', leaf_size=30, metric='minkowski',\n",
      "           metric_params=None, n_jobs=1, n_neighbors=1, p=2,\n",
      "           weights='uniform')\n"
     ]
    }
   ],
   "source": [
    "knn = neighbors.KNeighborsClassifier(n_neighbors=1)\n",
    "print(knn)"
   ]
  },
  {
   "cell_type": "markdown",
   "metadata": {},
   "source": [
    "Vamos alimentar nosso modelo com os atributos e o alvo que foram estruturados anteriormente"
   ]
  },
  {
   "cell_type": "code",
   "execution_count": 12,
   "metadata": {},
   "outputs": [
    {
     "data": {
      "text/plain": [
       "KNeighborsClassifier(algorithm='auto', leaf_size=30, metric='minkowski',\n",
       "           metric_params=None, n_jobs=1, n_neighbors=1, p=2,\n",
       "           weights='uniform')"
      ]
     },
     "execution_count": 12,
     "metadata": {},
     "output_type": "execute_result"
    }
   ],
   "source": [
    "knn.fit(x, y)"
   ]
  },
  {
   "cell_type": "markdown",
   "metadata": {},
   "source": [
    "Com o nosso modelo treinado, podemos prever se um determinado valor R,G,B irá ser classificado como pele ou não. Por exemplo:\n",
    "\n",
    "![](pele.png)\n",
    "\n",
    "Qual será a classificação?"
   ]
  },
  {
   "cell_type": "code",
   "execution_count": 13,
   "metadata": {
    "collapsed": true
   },
   "outputs": [],
   "source": [
    "prever = knn.predict([[151, 135, 122]])"
   ]
  },
  {
   "cell_type": "code",
   "execution_count": 14,
   "metadata": {},
   "outputs": [
    {
     "name": "stdout",
     "output_type": "stream",
     "text": [
      "[1]\n"
     ]
    }
   ],
   "source": [
    "print(prever)"
   ]
  },
  {
   "cell_type": "markdown",
   "metadata": {},
   "source": [
    "Note que com 1 vizinho a classificação foi gerada errada, pois a cor gerada é referente a uma parte do olho. O correto seria classificar como 2, ou seja não sendo um pigmento de pele. No exemplo abaixo, iremos alterar a quantidade de vizinhos para melhorar a precisão do modelo."
   ]
  },
  {
   "cell_type": "markdown",
   "metadata": {},
   "source": [
    "### Separar o conjunto em teste e treino."
   ]
  },
  {
   "cell_type": "code",
   "execution_count": 15,
   "metadata": {},
   "outputs": [
    {
     "name": "stderr",
     "output_type": "stream",
     "text": [
      "c:\\users\\dino magri\\appdata\\local\\programs\\python\\python36\\lib\\site-packages\\sklearn\\cross_validation.py:41: DeprecationWarning: This module was deprecated in version 0.18 in favor of the model_selection module into which all the refactored classes and functions are moved. Also note that the interface of the new CV iterators are different from that of this module. This module will be removed in 0.20.\n",
      "  \"This module will be removed in 0.20.\", DeprecationWarning)\n"
     ]
    }
   ],
   "source": [
    "from sklearn.cross_validation import train_test_split"
   ]
  },
  {
   "cell_type": "code",
   "execution_count": 16,
   "metadata": {
    "collapsed": true
   },
   "outputs": [],
   "source": [
    "x_treino, x_teste, y_treino, y_teste = train_test_split(x, y, test_size=0.4, random_state=0)"
   ]
  },
  {
   "cell_type": "code",
   "execution_count": 17,
   "metadata": {},
   "outputs": [
    {
     "name": "stdout",
     "output_type": "stream",
     "text": [
      "(147034, 3)\n",
      "(147034,)\n",
      "(98023, 3)\n",
      "(98023,)\n"
     ]
    }
   ],
   "source": [
    "print(x_treino.shape)\n",
    "print(y_treino.shape)\n",
    "print(x_teste.shape)\n",
    "print(y_teste.shape)"
   ]
  },
  {
   "cell_type": "markdown",
   "metadata": {},
   "source": [
    "Recriando o classificador e alimentando-o com os conjuntos de treino."
   ]
  },
  {
   "cell_type": "code",
   "execution_count": 18,
   "metadata": {},
   "outputs": [
    {
     "data": {
      "text/plain": [
       "KNeighborsClassifier(algorithm='auto', leaf_size=30, metric='minkowski',\n",
       "           metric_params=None, n_jobs=1, n_neighbors=3, p=2,\n",
       "           weights='uniform')"
      ]
     },
     "execution_count": 18,
     "metadata": {},
     "output_type": "execute_result"
    }
   ],
   "source": [
    "knn = neighbors.KNeighborsClassifier(n_neighbors=3)\n",
    "knn.fit(x_treino, y_treino)"
   ]
  },
  {
   "cell_type": "markdown",
   "metadata": {},
   "source": [
    "Realizando a previsão/classificação dos dados de teste com base no treinamento realizado"
   ]
  },
  {
   "cell_type": "code",
   "execution_count": 19,
   "metadata": {},
   "outputs": [
    {
     "name": "stdout",
     "output_type": "stream",
     "text": [
      "[2 1 2 ..., 2 2 2]\n",
      "(98023,)\n"
     ]
    }
   ],
   "source": [
    "prever_treino = knn.predict(x_teste)\n",
    "print(prever_treino)\n",
    "print(prever_treino.shape)"
   ]
  },
  {
   "cell_type": "markdown",
   "metadata": {},
   "source": [
    "Com o modelo treinado e validado, podemos classificar novamente um valor RGB."
   ]
  },
  {
   "cell_type": "code",
   "execution_count": 20,
   "metadata": {},
   "outputs": [
    {
     "name": "stdout",
     "output_type": "stream",
     "text": [
      "[2]\n"
     ]
    }
   ],
   "source": [
    "print(knn.predict([[151, 135, 122]]))"
   ]
  },
  {
   "cell_type": "markdown",
   "metadata": {},
   "source": [
    "### Precisão do modelo\n",
    "Como podemos verificar a precisão do nosso algoritmo? Como utilizar o módulo scikit-learn para auxiliar nessa tarefa? O que podemos considerar?\n",
    "\n",
    "Vamos utilizar a técnica de validação cruzada para identificar a precisão do modelo através dos dados de treino e teste."
   ]
  },
  {
   "cell_type": "code",
   "execution_count": 21,
   "metadata": {
    "collapsed": true
   },
   "outputs": [],
   "source": [
    "from sklearn.cross_validation import cross_val_score\n",
    "from sklearn import metrics"
   ]
  },
  {
   "cell_type": "markdown",
   "metadata": {},
   "source": [
    "Agora basta, imprimir a variação da precisão do conjunto de treino, utilizado o comando:"
   ]
  },
  {
   "cell_type": "code",
   "execution_count": 22,
   "metadata": {},
   "outputs": [
    {
     "name": "stdout",
     "output_type": "stream",
     "text": [
      "0.999581730818\n"
     ]
    }
   ],
   "source": [
    "print(metrics.accuracy_score(y_teste, prever_treino))"
   ]
  },
  {
   "cell_type": "markdown",
   "metadata": {},
   "source": [
    "Para utilizar a validação cruzada em todo o conjunto de dados, utilize o comando abaixo:"
   ]
  },
  {
   "cell_type": "code",
   "execution_count": 23,
   "metadata": {},
   "outputs": [
    {
     "name": "stdout",
     "output_type": "stream",
     "text": [
      "[ 0.95460666  0.9863012   0.98920242]\n"
     ]
    }
   ],
   "source": [
    "print(cross_val_score(knn, x, y, cv=3))"
   ]
  },
  {
   "cell_type": "markdown",
   "metadata": {},
   "source": [
    "Note que a precisão ficou em torno de 95% mínimo."
   ]
  }
 ],
 "metadata": {
  "kernelspec": {
   "display_name": "Python 3",
   "language": "python",
   "name": "python3"
  },
  "language_info": {
   "codemirror_mode": {
    "name": "ipython",
    "version": 3
   },
   "file_extension": ".py",
   "mimetype": "text/x-python",
   "name": "python",
   "nbconvert_exporter": "python",
   "pygments_lexer": "ipython3",
   "version": "3.6.2"
  }
 },
 "nbformat": 4,
 "nbformat_minor": 2
}
