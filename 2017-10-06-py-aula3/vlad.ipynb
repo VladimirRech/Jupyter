{
 "cells": [
  {
   "cell_type": "code",
   "execution_count": 3,
   "metadata": {},
   "outputs": [
    {
     "name": "stdout",
     "output_type": "stream",
     "text": [
      "Conteúdo do arquivo\n",
      "Blessed\n",
      "are\n",
      "those\n",
      "who\n",
      "dwell\n",
      "in\n",
      "Your\n",
      "house\n",
      "They\n",
      "are\n",
      "ever\n",
      "praising\n",
      "You\n",
      "Blessed\n",
      "are\n",
      "those\n",
      "whose\n",
      "strength\n",
      "is\n",
      "in\n",
      "You\n",
      "Whose\n",
      "hearts\n",
      "are\n",
      "set\n",
      "on\n",
      "our\n",
      "God\n",
      "We\n",
      "will\n",
      "go\n",
      "from\n",
      "strength\n",
      "to\n",
      "strength\n",
      "Until\n",
      "we\n",
      "see\n",
      "You\n",
      "face\n",
      "to\n",
      "face\n",
      "Hear\n",
      "our\n",
      "prayer\n",
      "Oh\n",
      "Lord,\n",
      "God\n",
      "almighty\n",
      "Come\n",
      "bless\n",
      "our\n",
      "land\n",
      "As\n",
      "we\n",
      "seek\n",
      "You\n",
      "Worship\n",
      "You\n",
      "For\n",
      "You\n",
      "are\n",
      "holy\n",
      "For\n",
      "You\n",
      "are\n",
      "holy\n",
      "For\n",
      "You\n",
      "are\n",
      "holy,\n",
      "Lord\n"
     ]
    }
   ],
   "source": [
    "# Separa palavras contidas em um arquivo.\n",
    "import os\n",
    "\n",
    "lines = open('blessed.txt', 'r').readlines()\n",
    "words = []\n",
    "\n",
    "for line in lines:\n",
    "    lst = line.split()\n",
    "    for word in lst:\n",
    "        words.append(word)\n",
    "        \n",
    "print('Conteúdo do arquivo')\n",
    "for w in words:\n",
    "    print(w)"
   ]
  },
  {
   "cell_type": "code",
   "execution_count": null,
   "metadata": {},
   "outputs": [],
   "source": []
  },
  {
   "cell_type": "code",
   "execution_count": 4,
   "metadata": {},
   "outputs": [
    {
     "name": "stdout",
     "output_type": "stream",
     "text": [
      "<http.client.HTTPResponse object at 0x7fe83003b2e0>\n"
     ]
    }
   ],
   "source": [
    "# Abre página da internet (URL)\n",
    "from urllib.request import urlopen\n",
    "\n",
    "url = 'https://www.letras.mus.br/hillsong-australia/1090030/'\n",
    "\n",
    "with urlopen(url) as webPage:\n",
    "    print(webPage)"
   ]
  }
 ],
 "metadata": {
  "kernelspec": {
   "display_name": "Python 3",
   "language": "python",
   "name": "python3"
  },
  "language_info": {
   "codemirror_mode": {
    "name": "ipython",
    "version": 3
   },
   "file_extension": ".py",
   "mimetype": "text/x-python",
   "name": "python",
   "nbconvert_exporter": "python",
   "pygments_lexer": "ipython3",
   "version": "3.8.5"
  }
 },
 "nbformat": 4,
 "nbformat_minor": 4
}
