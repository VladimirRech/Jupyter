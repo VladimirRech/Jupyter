{
 "cells": [
  {
   "cell_type": "code",
   "execution_count": 1,
   "metadata": {},
   "outputs": [
    {
     "ename": "SyntaxError",
     "evalue": "invalid syntax (<ipython-input-1-30610879a137>, line 4)",
     "output_type": "error",
     "traceback": [
      "\u001b[0;36m  File \u001b[0;32m\"<ipython-input-1-30610879a137>\"\u001b[0;36m, line \u001b[0;32m4\u001b[0m\n\u001b[0;31m    lines = with open('blessed.txt', 'r').readlines()\u001b[0m\n\u001b[0m            ^\u001b[0m\n\u001b[0;31mSyntaxError\u001b[0m\u001b[0;31m:\u001b[0m invalid syntax\n"
     ]
    }
   ],
   "source": [
    "# Separa palavras contidas em um arquivo.\n",
    "import os\n",
    "\n",
    "lines = open('blessed.txt', 'r').readlines()\n",
    "words = []\n",
    "\n",
    "for line in lines:\n",
    "    lst = line.split()\n",
    "    for word in lst:\n",
    "        words.append(word)\n",
    "        \n",
    "print('Conteúdo do arquivo')\n",
    "for w in words:\n",
    "    print(w)"
   ]
  },
  {
   "cell_type": "code",
   "execution_count": null,
   "metadata": {},
   "outputs": [],
   "source": []
  },
  {
   "cell_type": "code",
   "execution_count": 4,
   "metadata": {},
   "outputs": [
    {
     "name": "stdout",
     "output_type": "stream",
     "text": [
      "<http.client.HTTPResponse object at 0x7fe83003b2e0>\n"
     ]
    }
   ],
   "source": [
    "# Abre página da internet (URL)\n",
    "from urllib.request import urlopen\n",
    "\n",
    "url = 'https://www.letras.mus.br/hillsong-australia/1090030/'\n",
    "\n",
    "with urlopen(url) as webPage:\n",
    "    print(webPage)"
   ]
  }
 ],
 "metadata": {
  "kernelspec": {
   "display_name": "Python 3",
   "language": "python",
   "name": "python3"
  },
  "language_info": {
   "codemirror_mode": {
    "name": "ipython",
    "version": 3
   },
   "file_extension": ".py",
   "mimetype": "text/x-python",
   "name": "python",
   "nbconvert_exporter": "python",
   "pygments_lexer": "ipython3",
   "version": "3.8.5"
  }
 },
 "nbformat": 4,
 "nbformat_minor": 4
}
