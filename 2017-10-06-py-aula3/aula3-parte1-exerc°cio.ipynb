{
 "cells": [
  {
   "cell_type": "markdown",
   "metadata": {},
   "source": [
    "# Exercício de Revisão\n",
    "\n",
    "Essa é a primeira parte do exercício de revisão. Para a resolução completa veja a apresentação da aula."
   ]
  },
  {
   "cell_type": "code",
   "execution_count": 1,
   "metadata": {
    "collapsed": true
   },
   "outputs": [],
   "source": [
    "from urllib.request import urlopen\n",
    "\n",
    "with urlopen('http://dinomagri.com/data/aquarela.txt') as musica:\n",
    "    palavras_musica = []\n",
    "    for linha in musica:\n",
    "        palavras_linha = linha.decode('utf-8').split()\n",
    "        for palavra in palavras_linha:\n",
    "            palavras_musica.append(palavra)"
   ]
  },
  {
   "cell_type": "code",
   "execution_count": 2,
   "metadata": {},
   "outputs": [
    {
     "name": "stdout",
     "output_type": "stream",
     "text": [
      "['Numa', 'folha', 'qualquer', 'eu', 'desenho', 'um', 'sol', 'amarelo', 'E', 'com', 'cinco', 'ou', 'seis', 'retas', 'é', 'fácil', 'fazer', 'um', 'castelo', 'Corro', 'o', 'lápis', 'em', 'torno', 'da', 'mão', 'e', 'me', 'dou', 'uma', 'luva', 'E', 'se', 'faço', 'chover,', 'com', 'dois', 'riscos', 'tenho', 'um', 'guarda-chuva', 'Se', 'um', 'pinguinho', 'de', 'tinta', 'cai', 'num', 'pedacinho', 'azul', 'do', 'papel', 'Num', 'instante', 'imagino', 'uma', 'linda', 'gaivota', 'a', 'voar', 'no', 'céu', 'Vai', 'voando,', 'contornando', 'a', 'imensa', 'curva', 'norte-sul', 'Vou', 'com', 'ela', 'viajando', 'Havaí,', 'Pequim', 'ou', 'Istambul', 'Pinto', 'um', 'barco', 'a', 'vela', 'branco', 'navegando', 'É', 'tanto', 'céu', 'e', 'mar', 'num', 'beijo', 'azul', 'Entre', 'as', 'nuvens', 'vem', 'surgindo', 'um', 'lindo', 'avião', 'rosa', 'e', 'grená', 'Tudo', 'em', 'volta', 'colorindo,', 'com', 'suas', 'luzes', 'a', 'piscar', 'Basta', 'imaginar', 'e', 'ele', 'está', 'partindo,', 'sereno', 'e', 'lindo', 'E', 'se', 'a', 'gente', 'quiser', 'ele', 'vai', 'pousar', 'Numa', 'folha', 'qualquer', 'eu', 'desenho', 'um', 'navio', 'de', 'partida', 'Com', 'alguns', 'bons', 'amigos', 'bebendo', 'de', 'bem', 'com', 'a', 'vida', 'De', 'uma', 'América', 'a', 'outra', 'consigo', 'passar', 'num', 'segundo', 'Giro', 'um', 'simples', 'compasso', 'e', 'num', 'círculo', 'eu', 'faço', 'o', 'mundo', 'Um', 'menino', 'caminha', 'e', 'caminhando', 'chega', 'no', 'muro', 'E', 'ali', 'logo', 'em', 'frente', 'a', 'esperar', 'pela', 'gente', 'o', 'futuro', 'está', 'E', 'o', 'futuro', 'é', 'uma', 'astronave', 'que', 'tentamos', 'pilotar', 'Não', 'tem', 'tempo', 'nem', 'piedade', 'nem', 'tem', 'hora', 'de', 'chegar', 'Sem', 'pedir', 'licença', 'muda', 'nossa', 'vida', 'Depois', 'convida', 'a', 'rir', 'ou', 'chorar', 'Nessa', 'estrada', 'não', 'nos', 'cabe', 'conhecer', 'ou', 'ver', 'o', 'que', 'virá', 'O', 'fim', 'dela', 'ninguém', 'sabe', 'bem', 'ao', 'certo', 'onde', 'vai', 'dar', 'Vamos', 'todos', 'numa', 'linda', 'passarela', 'De', 'uma', 'aquarela', 'que', 'um', 'dia', 'enfim', 'Descolorirá', 'Numa', 'folha', 'qualquer', 'eu', 'desenho', 'um', 'sol', 'amarelo', 'Que', 'descolorirá', 'E', 'com', 'cinco', 'ou', 'seis', 'retas', 'é', 'fácil', 'fazer', 'um', 'castelo', 'Que', 'descolorirá', 'Giro', 'um', 'simples', 'compasso', 'e', 'num', 'círculo', 'eu', 'faço', 'o', 'mundo', 'Que', 'descolorirá']\n"
     ]
    }
   ],
   "source": [
    "print(palavras_musica)"
   ]
  }
 ],
 "metadata": {
  "kernelspec": {
   "display_name": "Python 3",
   "language": "python",
   "name": "python3"
  },
  "language_info": {
   "codemirror_mode": {
    "name": "ipython",
    "version": 3
   },
   "file_extension": ".py",
   "mimetype": "text/x-python",
   "name": "python",
   "nbconvert_exporter": "python",
   "pygments_lexer": "ipython3",
   "version": "3.6.2"
  }
 },
 "nbformat": 4,
 "nbformat_minor": 2
}
