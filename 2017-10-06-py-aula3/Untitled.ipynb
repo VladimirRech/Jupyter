{
 "cells": [
  {
   "cell_type": "code",
   "execution_count": 1,
   "metadata": {},
   "outputs": [],
   "source": [
    "import pandas as pd\n",
    "import numpy as np"
   ]
  },
  {
   "cell_type": "code",
   "execution_count": 2,
   "metadata": {},
   "outputs": [
    {
     "name": "stdout",
     "output_type": "stream",
     "text": [
      "a    0.379119\n",
      "b    0.199498\n",
      "c    0.818800\n",
      "dtype: float64\n"
     ]
    }
   ],
   "source": [
    "ser1 = pd.Series(np.random.rand(3), index=['a','b','c'])\n",
    "print(ser1)"
   ]
  },
  {
   "cell_type": "code",
   "execution_count": 3,
   "metadata": {},
   "outputs": [
    {
     "data": {
      "text/plain": [
       "Index(['a', 'b', 'c'], dtype='object')"
      ]
     },
     "execution_count": 3,
     "metadata": {},
     "output_type": "execute_result"
    }
   ],
   "source": [
    "ser1.index"
   ]
  },
  {
   "cell_type": "code",
   "execution_count": 4,
   "metadata": {},
   "outputs": [],
   "source": [
    "preco_acoes = {'GOOG' : 737.44, \\\n",
    "               'FB' : 120.38, \\\n",
    "               'TWTR' : 18.44, \\\n",
    "               'AMZN' : 744.58, \\\n",
    "               'AAPL' : 99.40, \\\n",
    "               'NFLX' : 85.55}"
   ]
  },
  {
   "cell_type": "code",
   "execution_count": 6,
   "metadata": {},
   "outputs": [
    {
     "name": "stdout",
     "output_type": "stream",
     "text": [
      "AAPL     99.40\n",
      "AMZN    744.58\n",
      "FB      120.38\n",
      "GOOG    737.44\n",
      "NFLX     85.55\n",
      "TWTR     18.44\n",
      "dtype: float64\n"
     ]
    }
   ],
   "source": [
    "ser3 = pd.Series(preco_acoes)\n",
    "print(ser3)"
   ]
  },
  {
   "cell_type": "code",
   "execution_count": 7,
   "metadata": {},
   "outputs": [
    {
     "data": {
      "text/plain": [
       "AMZN    744.58\n",
       "FB      120.38\n",
       "GOOG    737.44\n",
       "dtype: float64"
      ]
     },
     "execution_count": 7,
     "metadata": {},
     "output_type": "execute_result"
    }
   ],
   "source": [
    "ser3[ser3 > 100]"
   ]
  },
  {
   "cell_type": "code",
   "execution_count": 8,
   "metadata": {},
   "outputs": [],
   "source": [
    "resumoAcoes = {\n",
    "    'GOOG' : pd.Series([740, 750], index=['Abertura', 'Fechamento']),\n",
    "    'FB' : pd.Series([110, 120], index=['Abertura', 'Fechamento']),\n",
    "    'TWTR' : pd.Series([20, 30], index=['Abertura', 'Fechamento']),\n",
    "    'AMZN' : pd.Series([740, 750], index=['Abertura', 'Fechamento']),\n",
    "    'AAPL' : [100, 90],\n",
    "    'NFLX' : [70, 80]\n",
    "}"
   ]
  },
  {
   "cell_type": "code",
   "execution_count": 9,
   "metadata": {},
   "outputs": [],
   "source": [
    "acoesDF = pd.DataFrame(resumoAcoes)"
   ]
  },
  {
   "cell_type": "code",
   "execution_count": 11,
   "metadata": {},
   "outputs": [
    {
     "data": {
      "text/html": [
       "<div>\n",
       "<style>\n",
       "    .dataframe thead tr:only-child th {\n",
       "        text-align: right;\n",
       "    }\n",
       "\n",
       "    .dataframe thead th {\n",
       "        text-align: left;\n",
       "    }\n",
       "\n",
       "    .dataframe tbody tr th {\n",
       "        vertical-align: top;\n",
       "    }\n",
       "</style>\n",
       "<table border=\"1\" class=\"dataframe\">\n",
       "  <thead>\n",
       "    <tr style=\"text-align: right;\">\n",
       "      <th></th>\n",
       "      <th>AAPL</th>\n",
       "      <th>AMZN</th>\n",
       "      <th>FB</th>\n",
       "      <th>GOOG</th>\n",
       "      <th>NFLX</th>\n",
       "      <th>TWTR</th>\n",
       "    </tr>\n",
       "  </thead>\n",
       "  <tbody>\n",
       "    <tr>\n",
       "      <th>count</th>\n",
       "      <td>2.000000</td>\n",
       "      <td>2.000000</td>\n",
       "      <td>2.000000</td>\n",
       "      <td>2.000000</td>\n",
       "      <td>2.000000</td>\n",
       "      <td>2.000000</td>\n",
       "    </tr>\n",
       "    <tr>\n",
       "      <th>mean</th>\n",
       "      <td>95.000000</td>\n",
       "      <td>745.000000</td>\n",
       "      <td>115.000000</td>\n",
       "      <td>745.000000</td>\n",
       "      <td>75.000000</td>\n",
       "      <td>25.000000</td>\n",
       "    </tr>\n",
       "    <tr>\n",
       "      <th>std</th>\n",
       "      <td>7.071068</td>\n",
       "      <td>7.071068</td>\n",
       "      <td>7.071068</td>\n",
       "      <td>7.071068</td>\n",
       "      <td>7.071068</td>\n",
       "      <td>7.071068</td>\n",
       "    </tr>\n",
       "    <tr>\n",
       "      <th>min</th>\n",
       "      <td>90.000000</td>\n",
       "      <td>740.000000</td>\n",
       "      <td>110.000000</td>\n",
       "      <td>740.000000</td>\n",
       "      <td>70.000000</td>\n",
       "      <td>20.000000</td>\n",
       "    </tr>\n",
       "    <tr>\n",
       "      <th>25%</th>\n",
       "      <td>92.500000</td>\n",
       "      <td>742.500000</td>\n",
       "      <td>112.500000</td>\n",
       "      <td>742.500000</td>\n",
       "      <td>72.500000</td>\n",
       "      <td>22.500000</td>\n",
       "    </tr>\n",
       "    <tr>\n",
       "      <th>50%</th>\n",
       "      <td>95.000000</td>\n",
       "      <td>745.000000</td>\n",
       "      <td>115.000000</td>\n",
       "      <td>745.000000</td>\n",
       "      <td>75.000000</td>\n",
       "      <td>25.000000</td>\n",
       "    </tr>\n",
       "    <tr>\n",
       "      <th>75%</th>\n",
       "      <td>97.500000</td>\n",
       "      <td>747.500000</td>\n",
       "      <td>117.500000</td>\n",
       "      <td>747.500000</td>\n",
       "      <td>77.500000</td>\n",
       "      <td>27.500000</td>\n",
       "    </tr>\n",
       "    <tr>\n",
       "      <th>max</th>\n",
       "      <td>100.000000</td>\n",
       "      <td>750.000000</td>\n",
       "      <td>120.000000</td>\n",
       "      <td>750.000000</td>\n",
       "      <td>80.000000</td>\n",
       "      <td>30.000000</td>\n",
       "    </tr>\n",
       "  </tbody>\n",
       "</table>\n",
       "</div>"
      ],
      "text/plain": [
       "             AAPL        AMZN          FB        GOOG       NFLX       TWTR\n",
       "count    2.000000    2.000000    2.000000    2.000000   2.000000   2.000000\n",
       "mean    95.000000  745.000000  115.000000  745.000000  75.000000  25.000000\n",
       "std      7.071068    7.071068    7.071068    7.071068   7.071068   7.071068\n",
       "min     90.000000  740.000000  110.000000  740.000000  70.000000  20.000000\n",
       "25%     92.500000  742.500000  112.500000  742.500000  72.500000  22.500000\n",
       "50%     95.000000  745.000000  115.000000  745.000000  75.000000  25.000000\n",
       "75%     97.500000  747.500000  117.500000  747.500000  77.500000  27.500000\n",
       "max    100.000000  750.000000  120.000000  750.000000  80.000000  30.000000"
      ]
     },
     "execution_count": 11,
     "metadata": {},
     "output_type": "execute_result"
    }
   ],
   "source": [
    "acoesDF.describe()"
   ]
  },
  {
   "cell_type": "code",
   "execution_count": null,
   "metadata": {},
   "outputs": [],
   "source": []
  }
 ],
 "metadata": {
  "kernelspec": {
   "display_name": "Python 3",
   "language": "python",
   "name": "python3"
  },
  "language_info": {
   "codemirror_mode": {
    "name": "ipython",
    "version": 3
   },
   "file_extension": ".py",
   "mimetype": "text/x-python",
   "name": "python",
   "nbconvert_exporter": "python",
   "pygments_lexer": "ipython3",
   "version": "3.6.2"
  }
 },
 "nbformat": 4,
 "nbformat_minor": 2
}
