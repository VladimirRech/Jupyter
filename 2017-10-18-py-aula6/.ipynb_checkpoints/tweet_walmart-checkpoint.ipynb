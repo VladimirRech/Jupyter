{
 "cells": [
  {
   "cell_type": "code",
   "execution_count": null,
   "metadata": {},
   "outputs": [],
   "source": [
    "import requests\n",
    "import facebook\n",
    "import simplejson as json"
   ]
  },
  {
   "cell_type": "code",
   "execution_count": null,
   "metadata": {},
   "outputs": [],
   "source": [
    "access_token = \"EAACEdEose0cBAARrM4sHWYNZAaiqu2uimaScnfsBPCySVGTMNPFeJZBbfogYc66PjgJlXrRlOksZBRDEI6BLuzoaH7oeUfNc6ZAmVjk05ZCf3ZBkbK722jWPmXz5U1kCZBJyKGTnl4EyKmtZCzQM8OcAj22ZCYobsObLZB8mOGC94PdkfauqB1Gze21Kdj6d6DAeeu6GPiYcoZAZCQZDZD\""
   ]
  },
  {
   "cell_type": "code",
   "execution_count": null,
   "metadata": {},
   "outputs": [],
   "source": [
    "api = facebook.GraphAPI(access_token, version='2.10')"
   ]
  },
  {
   "cell_type": "code",
   "execution_count": null,
   "metadata": {},
   "outputs": [],
   "source": [
    "empresa = api.get_object('WalmartBrasil')['id']"
   ]
  },
  {
   "cell_type": "code",
   "execution_count": null,
   "metadata": {},
   "outputs": [],
   "source": [
    "posts = api.get_object(empresa, fields='posts', limit=500)['posts']"
   ]
  },
  {
   "cell_type": "code",
   "execution_count": null,
   "metadata": {},
   "outputs": [],
   "source": [
    "print(json.dumps(posts, indent=4))"
   ]
  },
  {
   "cell_type": "code",
   "execution_count": null,
   "metadata": {},
   "outputs": [],
   "source": [
    "posts.keys()"
   ]
  },
  {
   "cell_type": "code",
   "execution_count": null,
   "metadata": {},
   "outputs": [],
   "source": [
    "posts['data'][0]['story']"
   ]
  },
  {
   "cell_type": "code",
   "execution_count": null,
   "metadata": {},
   "outputs": [],
   "source": [
    "def imprimir_posts(dados):\n",
    "    dados_posts = dados['data']\n",
    "    for i, data in enumerate(dados_posts, start=1):\n",
    "        aux = '';\n",
    "        if('story' in data.keys()):\n",
    "            aux = data['story']\n",
    "        else:\n",
    "            aux = data['message']\n",
    "        print(i, '--->', aux)        "
   ]
  },
  {
   "cell_type": "code",
   "execution_count": null,
   "metadata": {},
   "outputs": [],
   "source": [
    "imprimir_posts(posts)"
   ]
  },
  {
   "cell_type": "code",
   "execution_count": null,
   "metadata": {},
   "outputs": [],
   "source": [
    "help(api.get_object)"
   ]
  },
  {
   "cell_type": "code",
   "execution_count": null,
   "metadata": {},
   "outputs": [],
   "source": [
    "def recuperar_posts(id_empresa, qtde):\n",
    "    dados_recuperados = {}\n",
    "    posts_recuperados = api.get_object(id_empresa, fields='posts')['posts']\n",
    "    \n",
    "    for item in range(0, qtde):\n",
    "        dados_recuperados = posts_recuperados['data'][item]"
   ]
  },
  {
   "cell_type": "code",
   "execution_count": null,
   "metadata": {},
   "outputs": [],
   "source": [
    "recuperar_posts(empresa, 10)"
   ]
  },
  {
   "cell_type": "code",
   "execution_count": null,
   "metadata": {},
   "outputs": [],
   "source": []
  }
 ],
 "metadata": {
  "kernelspec": {
   "display_name": "Python 3",
   "language": "python",
   "name": "python3"
  },
  "language_info": {
   "codemirror_mode": {
    "name": "ipython",
    "version": 3
   },
   "file_extension": ".py",
   "mimetype": "text/x-python",
   "name": "python",
   "nbconvert_exporter": "python",
   "pygments_lexer": "ipython3",
   "version": "3.6.2"
  }
 },
 "nbformat": 4,
 "nbformat_minor": 2
}
