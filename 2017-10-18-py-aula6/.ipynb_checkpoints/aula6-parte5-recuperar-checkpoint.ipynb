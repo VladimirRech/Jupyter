{
 "cells": [
  {
   "cell_type": "markdown",
   "metadata": {},
   "source": [
    "# Recuperar posts\n"
   ]
  },
  {
   "cell_type": "code",
   "execution_count": null,
   "metadata": {
    "collapsed": true
   },
   "outputs": [],
   "source": [
    "import facebook"
   ]
  },
  {
   "cell_type": "code",
   "execution_count": null,
   "metadata": {
    "collapsed": true
   },
   "outputs": [],
   "source": [
    "import simplejson as json"
   ]
  },
  {
   "cell_type": "code",
   "execution_count": null,
   "metadata": {
    "collapsed": true
   },
   "outputs": [],
   "source": [
    "import requests"
   ]
  },
  {
   "cell_type": "markdown",
   "metadata": {},
   "source": [
    "O módulo requests é utilizado para fazer requisições HTTP, ele será útil para que possamos requisitar novas páginas com conteúdo do Facebook.\n",
    "\n",
    "Ele funciona da seguinte maneira:"
   ]
  },
  {
   "cell_type": "code",
   "execution_count": null,
   "metadata": {
    "collapsed": true
   },
   "outputs": [],
   "source": [
    "req = requests.get('http://python.org')"
   ]
  },
  {
   "cell_type": "code",
   "execution_count": null,
   "metadata": {},
   "outputs": [],
   "source": [
    "req.status_code # Se o código for 200, a requisição foi realizada."
   ]
  },
  {
   "cell_type": "code",
   "execution_count": null,
   "metadata": {
    "collapsed": true
   },
   "outputs": [],
   "source": [
    "#req.text"
   ]
  },
  {
   "cell_type": "code",
   "execution_count": null,
   "metadata": {},
   "outputs": [],
   "source": [
    "'Python' in req.text"
   ]
  },
  {
   "cell_type": "markdown",
   "metadata": {},
   "source": [
    "## Gerar Token com duração 2 meses\n",
    "\n",
    "Para gerar o token de acesso de forma programatica, pode utilizar o método get_app_access_token. Será necessário recuperar em https://developers.facebook.com/apps/ o ID e SECRET do app.\n"
   ]
  },
  {
   "cell_type": "code",
   "execution_count": null,
   "metadata": {
    "collapsed": true
   },
   "outputs": [],
   "source": [
    "import requests"
   ]
  },
  {
   "cell_type": "code",
   "execution_count": 5,
   "metadata": {},
   "outputs": [],
   "source": [
    "access_token_atual = 'EAACEdEose0cBAJNxa2HWXcDrVLbvq9tYrmUCp8naDZCN02FNcT6dHhSyVfUBiuDAiIBcwmPQO0Pu9iPga2FEiyuFD8BNJH1IWQuY42VYZASgZB6YFZBGoxqy8oBa72zvowbHWPBzjsyyQZBqbw1rzfc87NinX5TaAKQGiCSEZAQVNPKKZB7SfINhbmpzQN2ELIZAlZB5GVqRxhAZDZD'\n",
    "app_id = ''\n",
    "app_secret = ''"
   ]
  },
  {
   "cell_type": "code",
   "execution_count": null,
   "metadata": {
    "collapsed": true
   },
   "outputs": [],
   "source": [
    "URL = 'https://graph.facebook.com/oauth/access_token?' + \\\n",
    "'client_id=' + app_id + \\\n",
    "'&client_secret=' + app_secret + \\\n",
    "'&grant_type=fb_exchange_token' + \\\n",
    "'&fb_exchange_token=' + access_token_atual"
   ]
  },
  {
   "cell_type": "code",
   "execution_count": null,
   "metadata": {},
   "outputs": [],
   "source": [
    "print(URL)"
   ]
  },
  {
   "cell_type": "code",
   "execution_count": null,
   "metadata": {},
   "outputs": [],
   "source": [
    "access_token_2meses = requests.get(URL).json()[\"access_token\"]\n",
    "print(access_token_2meses)"
   ]
  },
  {
   "cell_type": "markdown",
   "metadata": {},
   "source": [
    "## Recuperar posts de uma Empresa\n",
    "\n",
    "Iremos recuperar posts de uma determina empresa e realizar algumas análises."
   ]
  },
  {
   "cell_type": "code",
   "execution_count": 1,
   "metadata": {},
   "outputs": [],
   "source": [
    "import facebook\n",
    "import simplejson as json"
   ]
  },
  {
   "cell_type": "code",
   "execution_count": 6,
   "metadata": {},
   "outputs": [],
   "source": [
    "api = facebook.GraphAPI(access_token_2meses, version='2.10')"
   ]
  },
  {
   "cell_type": "code",
   "execution_count": 7,
   "metadata": {},
   "outputs": [
    {
     "data": {
      "text/plain": [
       "'v2.10'"
      ]
     },
     "execution_count": 7,
     "metadata": {},
     "output_type": "execute_result"
    }
   ],
   "source": [
    "api.version"
   ]
  },
  {
   "cell_type": "code",
   "execution_count": 8,
   "metadata": {},
   "outputs": [],
   "source": [
    "empresa = api.get_object('WalmartBrasil')"
   ]
  },
  {
   "cell_type": "code",
   "execution_count": 9,
   "metadata": {},
   "outputs": [],
   "source": [
    "dados = api.get_object(empresa[\"id\"], fields='posts')"
   ]
  },
  {
   "cell_type": "code",
   "execution_count": null,
   "metadata": {},
   "outputs": [],
   "source": [
    "print(json.dumps(dados, indent=4))"
   ]
  },
  {
   "cell_type": "code",
   "execution_count": null,
   "metadata": {},
   "outputs": [],
   "source": [
    "dados.keys()"
   ]
  },
  {
   "cell_type": "code",
   "execution_count": null,
   "metadata": {},
   "outputs": [],
   "source": [
    "dados['posts'].keys()"
   ]
  },
  {
   "cell_type": "code",
   "execution_count": null,
   "metadata": {},
   "outputs": [],
   "source": [
    "len(dados['posts']['data'])"
   ]
  },
  {
   "cell_type": "code",
   "execution_count": null,
   "metadata": {},
   "outputs": [],
   "source": [
    "print(dados['posts']['data'][0].keys())"
   ]
  },
  {
   "cell_type": "markdown",
   "metadata": {},
   "source": [
    "Vamos criar uma função para imprimir a mensagem do posts."
   ]
  },
  {
   "cell_type": "code",
   "execution_count": null,
   "metadata": {
    "collapsed": true
   },
   "outputs": [],
   "source": [
    "def imprimir_posts(dados):\n",
    "    for item in range(0, len(dados)):\n",
    "        print(dados[item]['created_time'], '--->', dados[item]['message'])\n",
    "        print(\"\")"
   ]
  },
  {
   "cell_type": "code",
   "execution_count": null,
   "metadata": {},
   "outputs": [],
   "source": [
    "imprimir_posts(dados['posts']['data'])"
   ]
  },
  {
   "cell_type": "markdown",
   "metadata": {},
   "source": [
    "Note que foi retornado 25 posts. Se olharmos novamente a saída do comando ```dados['posts'].keys()```, podemos observar que existem duas chaves:\n",
    "\n",
    "- ```data```: contém 25 posts\n",
    "- ```paging```: contém o link que permite recuperar +25 posts.\n",
    "\n"
   ]
  },
  {
   "cell_type": "code",
   "execution_count": null,
   "metadata": {},
   "outputs": [],
   "source": [
    "dados['posts'].keys()"
   ]
  },
  {
   "cell_type": "markdown",
   "metadata": {},
   "source": [
    "Vamos utilizar a chave 'paging'"
   ]
  },
  {
   "cell_type": "code",
   "execution_count": null,
   "metadata": {},
   "outputs": [],
   "source": [
    "proximo = dados['posts']['paging']\n",
    "print(proximo)"
   ]
  },
  {
   "cell_type": "markdown",
   "metadata": {},
   "source": [
    "Note que temos um dicionários com as seguintes chaves:"
   ]
  },
  {
   "cell_type": "code",
   "execution_count": null,
   "metadata": {},
   "outputs": [],
   "source": [
    "proximo.keys()"
   ]
  },
  {
   "cell_type": "markdown",
   "metadata": {},
   "source": [
    "Estamos interessados em utilizar a chave 'next' que é uma URL direta para os próximos 25 posts. Vamos imprimir:"
   ]
  },
  {
   "cell_type": "code",
   "execution_count": null,
   "metadata": {},
   "outputs": [],
   "source": [
    "proximo['next']"
   ]
  },
  {
   "cell_type": "markdown",
   "metadata": {},
   "source": [
    "Copie e cole a URL no navegar. Veja que o resultado das próximas 25 postagens aparecerá como resultado no navegar em formato JSON. \n",
    "\n",
    "Desta forma, podemos recuperar utilizando o módulo requests."
   ]
  },
  {
   "cell_type": "code",
   "execution_count": null,
   "metadata": {
    "collapsed": true
   },
   "outputs": [],
   "source": [
    "novos = requests.get(proximo['next']).json()"
   ]
  },
  {
   "cell_type": "code",
   "execution_count": null,
   "metadata": {},
   "outputs": [],
   "source": [
    "print(novos.keys())"
   ]
  },
  {
   "cell_type": "code",
   "execution_count": null,
   "metadata": {},
   "outputs": [],
   "source": [
    "imprimir_posts(novos['data'])"
   ]
  },
  {
   "cell_type": "markdown",
   "metadata": {},
   "source": [
    "Ótimo! Já aprendemos como recuperar os próximos 25 posts. Agora precisamos criar um loop para recuperar X posts."
   ]
  },
  {
   "cell_type": "code",
   "execution_count": null,
   "metadata": {
    "collapsed": true
   },
   "outputs": [],
   "source": [
    "def salvar_dados(dados, qtde_posts=25, index=0):\n",
    "    aux = {}\n",
    "    for item in range(0, qtde_posts):\n",
    "        aux[item+index] = dados[item]\n",
    "    return aux"
   ]
  },
  {
   "cell_type": "code",
   "execution_count": null,
   "metadata": {},
   "outputs": [],
   "source": [
    "salvar_dados(novos['data'])"
   ]
  },
  {
   "cell_type": "code",
   "execution_count": null,
   "metadata": {},
   "outputs": [],
   "source": [
    "int((35/25)+1)"
   ]
  },
  {
   "cell_type": "code",
   "execution_count": null,
   "metadata": {
    "collapsed": true
   },
   "outputs": [],
   "source": [
    "def recuperar_posts(empresa_id, qtde):\n",
    "    dados_recuperados = {}\n",
    "    posts_recuperados = api.get_object(empresa_id, fields='posts')['posts']\n",
    "    print(\"Recuperando posts ... \", end=\"\")\n",
    "    if qtde <= 25:\n",
    "        dados_recuperados.update(salvar_dados(posts_recuperados['data'], qtde))\n",
    "        print(qtde, end=' ')\n",
    "    else:\n",
    "        dados_recuperados.update(salvar_dados(posts_recuperados['data'], 25))\n",
    "        contador = len(dados_recuperados)\n",
    "        falta = qtde - contador\n",
    "        falta_recuperar = int((falta/25)+1)\n",
    "        print(qtde, end=' ')\n",
    "        for rodada in range(0, falta_recuperar):\n",
    "            posts_recuperados = requests.get(posts_recuperados['paging']['next']).json()\n",
    "            if falta >= 25:\n",
    "                print(falta, end=' ')\n",
    "                dados_recuperados.update(salvar_dados(posts_recuperados['data'], 25, contador))\n",
    "                contador = len(dados_recuperados)\n",
    "                falta = falta - 25\n",
    "            else:\n",
    "                dados_recuperados.update(salvar_dados(posts_recuperados['data'], falta, contador))\n",
    "                print(falta, end=' ')\n",
    "    print(\"\\n\\n ---> Todos {} posts recuperados <--- \\n\".format(qtde))\n",
    "    return dados_recuperados\n",
    "                "
   ]
  },
  {
   "cell_type": "code",
   "execution_count": null,
   "metadata": {},
   "outputs": [],
   "source": [
    "posts_recuperados = recuperar_posts(empresa['id'], 125)"
   ]
  },
  {
   "cell_type": "markdown",
   "metadata": {},
   "source": [
    "### Salvar em arquivo"
   ]
  },
  {
   "cell_type": "code",
   "execution_count": null,
   "metadata": {
    "collapsed": true
   },
   "outputs": [],
   "source": [
    "import pandas as pd"
   ]
  },
  {
   "cell_type": "code",
   "execution_count": null,
   "metadata": {},
   "outputs": [],
   "source": [
    "df = pd.DataFrame(columns=['created_time', 'message', 'id'])\n",
    "df"
   ]
  },
  {
   "cell_type": "code",
   "execution_count": null,
   "metadata": {},
   "outputs": [],
   "source": [
    "df.loc[0] = [posts_recuperados[0]['created_time'],posts_recuperados[0]['message'],posts_recuperados[0]['id']]\n",
    "df"
   ]
  },
  {
   "cell_type": "code",
   "execution_count": null,
   "metadata": {
    "collapsed": true
   },
   "outputs": [],
   "source": [
    "for i in range(0, len(posts_recuperados)):\n",
    "    try:\n",
    "        df.loc[i] = [posts_recuperados[i]['created_time'],posts_recuperados[i]['message'],posts_recuperados[i]['id']]\n",
    "    except:\n",
    "        df.loc[i] = [posts_recuperados[i]['created_time'],posts_recuperados[i]['story'],posts_recuperados[i]['id']]"
   ]
  },
  {
   "cell_type": "code",
   "execution_count": null,
   "metadata": {},
   "outputs": [],
   "source": [
    "df"
   ]
  },
  {
   "cell_type": "code",
   "execution_count": null,
   "metadata": {
    "collapsed": true
   },
   "outputs": [],
   "source": [
    "df.to_csv('posts_empresa.csv', sep=';', header=True)"
   ]
  },
  {
   "cell_type": "code",
   "execution_count": null,
   "metadata": {
    "collapsed": true
   },
   "outputs": [],
   "source": []
  }
 ],
 "metadata": {
  "kernelspec": {
   "display_name": "Python 3",
   "language": "python",
   "name": "python3"
  },
  "language_info": {
   "codemirror_mode": {
    "name": "ipython",
    "version": 3
   },
   "file_extension": ".py",
   "mimetype": "text/x-python",
   "name": "python",
   "nbconvert_exporter": "python",
   "pygments_lexer": "ipython3",
   "version": "3.6.2"
  }
 },
 "nbformat": 4,
 "nbformat_minor": 1
}
