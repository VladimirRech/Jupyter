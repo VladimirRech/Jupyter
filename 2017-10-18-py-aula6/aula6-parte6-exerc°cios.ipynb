{
 "cells": [
  {
   "cell_type": "markdown",
   "metadata": {},
   "source": [
    "# Aula 6 - Parte 6 - Exercício 3"
   ]
  },
  {
   "cell_type": "code",
   "execution_count": null,
   "metadata": {
    "collapsed": true
   },
   "outputs": [],
   "source": [
    "import facebook"
   ]
  },
  {
   "cell_type": "code",
   "execution_count": null,
   "metadata": {
    "collapsed": true
   },
   "outputs": [],
   "source": [
    "import simplejson as json"
   ]
  },
  {
   "cell_type": "code",
   "execution_count": null,
   "metadata": {
    "collapsed": true
   },
   "outputs": [],
   "source": [
    "import requests"
   ]
  },
  {
   "cell_type": "code",
   "execution_count": null,
   "metadata": {
    "collapsed": true
   },
   "outputs": [],
   "source": [
    "access_token = ''"
   ]
  },
  {
   "cell_type": "code",
   "execution_count": null,
   "metadata": {
    "collapsed": true
   },
   "outputs": [],
   "source": [
    "api = facebook.GraphAPI(access_token, version='2.10')"
   ]
  },
  {
   "cell_type": "code",
   "execution_count": null,
   "metadata": {
    "collapsed": true
   },
   "outputs": [],
   "source": [
    "def recuperar_id(empresa):\n",
    "    return api.get_object(empresa)['id']"
   ]
  },
  {
   "cell_type": "code",
   "execution_count": null,
   "metadata": {
    "collapsed": true
   },
   "outputs": [],
   "source": [
    "def salvar_dados(dados, qtde_posts=25, index=0):\n",
    "    aux = {}\n",
    "    for item in range(0, qtde_posts):\n",
    "        aux[item+index] = dados[item]\n",
    "    return aux"
   ]
  },
  {
   "cell_type": "code",
   "execution_count": null,
   "metadata": {
    "collapsed": true
   },
   "outputs": [],
   "source": [
    "def recuperar_posts(empresa, qtde):\n",
    "    dados_recuperados = {}\n",
    "    posts_recuperados = api.get_object(recuperar_id(empresa), fields='posts')['posts']\n",
    "    print(\"{} - Recuperando posts da ... \".format(empresa), end=\"\")\n",
    "    if qtde <= 25:\n",
    "        dados_recuperados.update(salvar_dados(posts_recuperados['data'], qtde))\n",
    "        print(qtde, end=' ')\n",
    "    else:\n",
    "        dados_recuperados.update(salvar_dados(posts_recuperados['data'], 25))\n",
    "        contador = len(dados_recuperados)\n",
    "        falta = qtde - contador\n",
    "        falta_recuperar = int((falta/25)+1)\n",
    "        print(qtde, end=' ')\n",
    "        for rodada in range(0, falta_recuperar):\n",
    "            posts_recuperados = requests.get(posts_recuperados['paging']['next']).json()\n",
    "            if falta >= 25:\n",
    "                print(falta, end=' ')\n",
    "                dados_recuperados.update(salvar_dados(posts_recuperados['data'], 25, contador))\n",
    "                contador = len(dados_recuperados)\n",
    "                falta = falta - 25\n",
    "            else:\n",
    "                dados_recuperados.update(salvar_dados(posts_recuperados['data'], falta, contador))\n",
    "                print(falta, end=' ')\n",
    "    print(\"\\n\\n ---> Todos {} posts recuperados <--- \\n\".format(qtde))\n",
    "    return dados_recuperados"
   ]
  },
  {
   "cell_type": "markdown",
   "metadata": {},
   "source": [
    "### Exercicio 1\n",
    "\n",
    "Utilizando o código desenvolvido para recuperar dados (acima), escolha 5 empresas do mesmo ramo e recupere 50 posts de cada empresa."
   ]
  },
  {
   "cell_type": "code",
   "execution_count": null,
   "metadata": {
    "collapsed": true
   },
   "outputs": [],
   "source": [
    "empresas = []"
   ]
  },
  {
   "cell_type": "code",
   "execution_count": null,
   "metadata": {},
   "outputs": [],
   "source": []
  },
  {
   "cell_type": "code",
   "execution_count": null,
   "metadata": {},
   "outputs": [],
   "source": [
    "\n"
   ]
  },
  {
   "cell_type": "code",
   "execution_count": null,
   "metadata": {},
   "outputs": [],
   "source": []
  },
  {
   "cell_type": "markdown",
   "metadata": {},
   "source": [
    "### Exercício 2\n",
    "\n",
    "Crie um DataFrame no Pandas com a seguinte estrutura:\n",
    "\n",
    "    index_automatico | empresa | created_time | message | id \n",
    "    "
   ]
  },
  {
   "cell_type": "code",
   "execution_count": null,
   "metadata": {
    "collapsed": true
   },
   "outputs": [],
   "source": [
    "import pandas as pd"
   ]
  },
  {
   "cell_type": "code",
   "execution_count": null,
   "metadata": {},
   "outputs": [],
   "source": [
    "df = pd.DataFrame(columns=['empresa', 'created_time', 'message', 'id'])\n",
    "df"
   ]
  },
  {
   "cell_type": "code",
   "execution_count": null,
   "metadata": {},
   "outputs": [],
   "source": [
    "# Lembre-se de tratar o caso de message e story"
   ]
  },
  {
   "cell_type": "code",
   "execution_count": null,
   "metadata": {
    "collapsed": true
   },
   "outputs": [],
   "source": []
  },
  {
   "cell_type": "code",
   "execution_count": null,
   "metadata": {},
   "outputs": [],
   "source": [
    "df"
   ]
  },
  {
   "cell_type": "markdown",
   "metadata": {},
   "source": [
    "### Exercício 3\n",
    "\n",
    "Salve o DataFrame criado no exercício anterior em arquivo CSV."
   ]
  },
  {
   "cell_type": "code",
   "execution_count": null,
   "metadata": {
    "collapsed": true
   },
   "outputs": [],
   "source": []
  },
  {
   "cell_type": "code",
   "execution_count": null,
   "metadata": {
    "collapsed": true
   },
   "outputs": [],
   "source": []
  }
 ],
 "metadata": {
  "kernelspec": {
   "display_name": "Python 3",
   "language": "python",
   "name": "python3"
  },
  "language_info": {
   "codemirror_mode": {
    "name": "ipython",
    "version": 3
   },
   "file_extension": ".py",
   "mimetype": "text/x-python",
   "name": "python",
   "nbconvert_exporter": "python",
   "pygments_lexer": "ipython3",
   "version": "3.6.2"
  }
 },
 "nbformat": 4,
 "nbformat_minor": 1
}
